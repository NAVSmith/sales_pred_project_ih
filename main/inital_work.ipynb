{
 "cells": [
  {
   "cell_type": "markdown",
   "id": "39e727db",
   "metadata": {},
   "source": [
    "# Sales Prediction Model Building Project\n",
    "\n",
    "## Project Overview\n",
    "This project aims to build a machine learning model to predict sales based on various factors including store characteristics, temporal features, promotions, and customer traffic.\n",
    "\n",
    "### Dataset Information\n",
    "- **Target Variable**: `sales` - Daily sales amount\n",
    "- **Features**: Store ID, day of week, date, customer count, store status, promotions, holidays\n",
    "- **Dataset Size**: ~640k records\n",
    "- **Task Type**: Regression (predicting continuous sales values)"
   ]
  },
  {
   "cell_type": "markdown",
   "id": "9919c61c",
   "metadata": {},
   "source": [
    "## 1. Project Setup and Data Loading"
   ]
  },
  {
   "cell_type": "code",
   "execution_count": 2,
   "id": "1388fa07",
   "metadata": {},
   "outputs": [],
   "source": [
    "# Import necessary libraries\n",
    "import pandas as pd\n",
    "import numpy as np\n",
    "import matplotlib.pyplot as plt\n",
    "import seaborn as sns\n",
    "import warnings\n",
    "warnings.filterwarnings('ignore')\n",
    "\n",
    "# Set plotting style\n",
    "plt.style.use('default')\n",
    "sns.set_palette(\"husl\")"
   ]
  },
  {
   "cell_type": "code",
   "execution_count": 13,
   "id": "fdf82083",
   "metadata": {},
   "outputs": [
    {
     "name": "stdout",
     "output_type": "stream",
     "text": [
      "Dataset shape: (640840, 9)\n",
      "Memory usage: 115.51 MB\n",
      "\n",
      "First few rows:\n"
     ]
    },
    {
     "data": {
      "application/vnd.microsoft.datawrangler.viewer.v0+json": {
       "columns": [
        {
         "name": "index",
         "rawType": "int64",
         "type": "integer"
        },
        {
         "name": "store_ID",
         "rawType": "int64",
         "type": "integer"
        },
        {
         "name": "day_of_week",
         "rawType": "int64",
         "type": "integer"
        },
        {
         "name": "date",
         "rawType": "object",
         "type": "string"
        },
        {
         "name": "nb_customers_on_day",
         "rawType": "int64",
         "type": "integer"
        },
        {
         "name": "open",
         "rawType": "int64",
         "type": "integer"
        },
        {
         "name": "promotion",
         "rawType": "int64",
         "type": "integer"
        },
        {
         "name": "state_holiday",
         "rawType": "object",
         "type": "string"
        },
        {
         "name": "school_holiday",
         "rawType": "int64",
         "type": "integer"
        },
        {
         "name": "sales",
         "rawType": "int64",
         "type": "integer"
        }
       ],
       "ref": "23b75c7d-72c2-4b37-b2d4-a764ee215930",
       "rows": [
        [
         "425390",
         "366",
         "4",
         "2013-04-18",
         "517",
         "1",
         "0",
         "0",
         "0",
         "4422"
        ],
        [
         "291687",
         "394",
         "6",
         "2015-04-11",
         "694",
         "1",
         "0",
         "0",
         "0",
         "8297"
        ],
        [
         "411278",
         "807",
         "4",
         "2013-08-29",
         "970",
         "1",
         "1",
         "0",
         "0",
         "9729"
        ],
        [
         "664714",
         "802",
         "2",
         "2013-05-28",
         "473",
         "1",
         "1",
         "0",
         "0",
         "6513"
        ],
        [
         "540835",
         "726",
         "4",
         "2013-10-10",
         "1068",
         "1",
         "1",
         "0",
         "0",
         "10882"
        ]
       ],
       "shape": {
        "columns": 9,
        "rows": 5
       }
      },
      "text/html": [
       "<div>\n",
       "<style scoped>\n",
       "    .dataframe tbody tr th:only-of-type {\n",
       "        vertical-align: middle;\n",
       "    }\n",
       "\n",
       "    .dataframe tbody tr th {\n",
       "        vertical-align: top;\n",
       "    }\n",
       "\n",
       "    .dataframe thead th {\n",
       "        text-align: right;\n",
       "    }\n",
       "</style>\n",
       "<table border=\"1\" class=\"dataframe\">\n",
       "  <thead>\n",
       "    <tr style=\"text-align: right;\">\n",
       "      <th></th>\n",
       "      <th>store_ID</th>\n",
       "      <th>day_of_week</th>\n",
       "      <th>date</th>\n",
       "      <th>nb_customers_on_day</th>\n",
       "      <th>open</th>\n",
       "      <th>promotion</th>\n",
       "      <th>state_holiday</th>\n",
       "      <th>school_holiday</th>\n",
       "      <th>sales</th>\n",
       "    </tr>\n",
       "  </thead>\n",
       "  <tbody>\n",
       "    <tr>\n",
       "      <th>425390</th>\n",
       "      <td>366</td>\n",
       "      <td>4</td>\n",
       "      <td>2013-04-18</td>\n",
       "      <td>517</td>\n",
       "      <td>1</td>\n",
       "      <td>0</td>\n",
       "      <td>0</td>\n",
       "      <td>0</td>\n",
       "      <td>4422</td>\n",
       "    </tr>\n",
       "    <tr>\n",
       "      <th>291687</th>\n",
       "      <td>394</td>\n",
       "      <td>6</td>\n",
       "      <td>2015-04-11</td>\n",
       "      <td>694</td>\n",
       "      <td>1</td>\n",
       "      <td>0</td>\n",
       "      <td>0</td>\n",
       "      <td>0</td>\n",
       "      <td>8297</td>\n",
       "    </tr>\n",
       "    <tr>\n",
       "      <th>411278</th>\n",
       "      <td>807</td>\n",
       "      <td>4</td>\n",
       "      <td>2013-08-29</td>\n",
       "      <td>970</td>\n",
       "      <td>1</td>\n",
       "      <td>1</td>\n",
       "      <td>0</td>\n",
       "      <td>0</td>\n",
       "      <td>9729</td>\n",
       "    </tr>\n",
       "    <tr>\n",
       "      <th>664714</th>\n",
       "      <td>802</td>\n",
       "      <td>2</td>\n",
       "      <td>2013-05-28</td>\n",
       "      <td>473</td>\n",
       "      <td>1</td>\n",
       "      <td>1</td>\n",
       "      <td>0</td>\n",
       "      <td>0</td>\n",
       "      <td>6513</td>\n",
       "    </tr>\n",
       "    <tr>\n",
       "      <th>540835</th>\n",
       "      <td>726</td>\n",
       "      <td>4</td>\n",
       "      <td>2013-10-10</td>\n",
       "      <td>1068</td>\n",
       "      <td>1</td>\n",
       "      <td>1</td>\n",
       "      <td>0</td>\n",
       "      <td>0</td>\n",
       "      <td>10882</td>\n",
       "    </tr>\n",
       "  </tbody>\n",
       "</table>\n",
       "</div>"
      ],
      "text/plain": [
       "        store_ID  day_of_week        date  nb_customers_on_day  open  \\\n",
       "425390       366            4  2013-04-18                  517     1   \n",
       "291687       394            6  2015-04-11                  694     1   \n",
       "411278       807            4  2013-08-29                  970     1   \n",
       "664714       802            2  2013-05-28                  473     1   \n",
       "540835       726            4  2013-10-10                 1068     1   \n",
       "\n",
       "        promotion state_holiday  school_holiday  sales  \n",
       "425390          0             0               0   4422  \n",
       "291687          0             0               0   8297  \n",
       "411278          1             0               0   9729  \n",
       "664714          1             0               0   6513  \n",
       "540835          1             0               0  10882  "
      ]
     },
     "execution_count": 13,
     "metadata": {},
     "output_type": "execute_result"
    }
   ],
   "source": [
    "# Load the dataset\n",
    "df = pd.read_csv('../data/sales.csv', index_col=0)\n",
    "\n",
    "print(f\"Dataset shape: {df.shape}\")\n",
    "print(f\"Memory usage: {df.memory_usage(deep=True).sum() / 1024**2:.2f} MB\")\n",
    "print(\"\\nFirst few rows:\")\n",
    "df.head()"
   ]
  },
  {
   "cell_type": "code",
   "execution_count": 14,
   "id": "4199445c",
   "metadata": {},
   "outputs": [
    {
     "name": "stdout",
     "output_type": "stream",
     "text": [
      "<class 'pandas.core.frame.DataFrame'>\n",
      "Index: 640840 entries, 425390 to 305711\n",
      "Data columns (total 9 columns):\n",
      " #   Column               Non-Null Count   Dtype \n",
      "---  ------               --------------   ----- \n",
      " 0   store_ID             640840 non-null  int64 \n",
      " 1   day_of_week          640840 non-null  int64 \n",
      " 2   date                 640840 non-null  object\n",
      " 3   nb_customers_on_day  640840 non-null  int64 \n",
      " 4   open                 640840 non-null  int64 \n",
      " 5   promotion            640840 non-null  int64 \n",
      " 6   state_holiday        640840 non-null  object\n",
      " 7   school_holiday       640840 non-null  int64 \n",
      " 8   sales                640840 non-null  int64 \n",
      "dtypes: int64(7), object(2)\n",
      "memory usage: 48.9+ MB\n"
     ]
    }
   ],
   "source": [
    "df.info()"
   ]
  },
  {
   "cell_type": "code",
   "execution_count": 15,
   "id": "673028df",
   "metadata": {},
   "outputs": [
    {
     "data": {
      "application/vnd.microsoft.datawrangler.viewer.v0+json": {
       "columns": [
        {
         "name": "index",
         "rawType": "int64",
         "type": "integer"
        },
        {
         "name": "store_ID",
         "rawType": "int64",
         "type": "integer"
        },
        {
         "name": "day_of_week",
         "rawType": "int64",
         "type": "integer"
        },
        {
         "name": "date",
         "rawType": "object",
         "type": "string"
        },
        {
         "name": "nb_customers_on_day",
         "rawType": "int64",
         "type": "integer"
        },
        {
         "name": "open",
         "rawType": "int64",
         "type": "integer"
        },
        {
         "name": "promotion",
         "rawType": "int64",
         "type": "integer"
        },
        {
         "name": "state_holiday",
         "rawType": "object",
         "type": "string"
        },
        {
         "name": "school_holiday",
         "rawType": "int64",
         "type": "integer"
        },
        {
         "name": "sales",
         "rawType": "int64",
         "type": "integer"
        }
       ],
       "ref": "72707f33-d6e7-4fdf-a090-70361415a9e9",
       "rows": [
        [
         "425390",
         "366",
         "4",
         "2013-04-18",
         "517",
         "1",
         "0",
         "0",
         "0",
         "4422"
        ],
        [
         "291687",
         "394",
         "6",
         "2015-04-11",
         "694",
         "1",
         "0",
         "0",
         "0",
         "8297"
        ],
        [
         "411278",
         "807",
         "4",
         "2013-08-29",
         "970",
         "1",
         "1",
         "0",
         "0",
         "9729"
        ],
        [
         "664714",
         "802",
         "2",
         "2013-05-28",
         "473",
         "1",
         "1",
         "0",
         "0",
         "6513"
        ],
        [
         "540835",
         "726",
         "4",
         "2013-10-10",
         "1068",
         "1",
         "1",
         "0",
         "0",
         "10882"
        ],
        [
         "687329",
         "674",
         "2",
         "2013-03-19",
         "1016",
         "1",
         "1",
         "0",
         "0",
         "8406"
        ],
        [
         "600327",
         "659",
         "7",
         "2014-06-08",
         "0",
         "0",
         "0",
         "0",
         "0",
         "0"
        ],
        [
         "96265",
         "27",
         "3",
         "2014-07-16",
         "1106",
         "1",
         "1",
         "0",
         "1",
         "11162"
        ],
        [
         "364435",
         "347",
         "6",
         "2013-05-11",
         "448",
         "1",
         "0",
         "0",
         "0",
         "5559"
        ],
        [
         "163146",
         "288",
         "2",
         "2013-06-25",
         "291",
         "1",
         "0",
         "0",
         "0",
         "3997"
        ],
        [
         "561067",
         "273",
         "7",
         "2014-10-05",
         "0",
         "0",
         "0",
         "0",
         "0",
         "0"
        ],
        [
         "431990",
         "870",
         "5",
         "2014-03-28",
         "839",
         "1",
         "0",
         "0",
         "0",
         "6267"
        ],
        [
         "6368",
         "703",
         "6",
         "2014-09-27",
         "215",
         "1",
         "0",
         "0",
         "0",
         "1953"
        ],
        [
         "49190",
         "578",
         "2",
         "2013-05-21",
         "824",
         "1",
         "0",
         "0",
         "0",
         "8218"
        ],
        [
         "528712",
         "447",
         "1",
         "2013-07-01",
         "773",
         "1",
         "1",
         "0",
         "1",
         "7205"
        ],
        [
         "256945",
         "382",
         "3",
         "2013-12-18",
         "957",
         "1",
         "1",
         "0",
         "0",
         "14553"
        ],
        [
         "518014",
         "66",
         "3",
         "2015-06-10",
         "442",
         "1",
         "0",
         "0",
         "0",
         "5188"
        ],
        [
         "461410",
         "437",
         "6",
         "2015-03-28",
         "1239",
         "1",
         "0",
         "0",
         "0",
         "12770"
        ],
        [
         "409022",
         "767",
         "7",
         "2013-01-27",
         "0",
         "0",
         "0",
         "0",
         "0",
         "0"
        ],
        [
         "290135",
         "142",
         "3",
         "2015-05-06",
         "609",
         "1",
         "1",
         "0",
         "0",
         "4994"
        ],
        [
         "205320",
         "369",
         "4",
         "2014-06-12",
         "501",
         "1",
         "0",
         "0",
         "0",
         "5709"
        ],
        [
         "648424",
         "171",
         "6",
         "2014-05-10",
         "641",
         "1",
         "0",
         "0",
         "0",
         "6295"
        ],
        [
         "615211",
         "499",
         "6",
         "2014-12-27",
         "925",
         "1",
         "0",
         "0",
         "0",
         "6202"
        ],
        [
         "557215",
         "235",
         "3",
         "2015-02-18",
         "488",
         "1",
         "1",
         "0",
         "0",
         "6330"
        ],
        [
         "649140",
         "936",
         "1",
         "2014-02-17",
         "1096",
         "1",
         "1",
         "0",
         "0",
         "9263"
        ],
        [
         "558538",
         "533",
         "3",
         "2013-09-18",
         "774",
         "1",
         "0",
         "0",
         "0",
         "7304"
        ],
        [
         "238131",
         "638",
         "3",
         "2013-06-19",
         "533",
         "1",
         "1",
         "0",
         "0",
         "6474"
        ],
        [
         "123416",
         "632",
         "1",
         "2014-06-30",
         "1142",
         "1",
         "1",
         "0",
         "0",
         "10317"
        ],
        [
         "639150",
         "849",
         "5",
         "2014-06-06",
         "997",
         "1",
         "1",
         "0",
         "0",
         "9366"
        ],
        [
         "617816",
         "5",
         "3",
         "2015-07-29",
         "658",
         "1",
         "1",
         "0",
         "1",
         "5899"
        ],
        [
         "609322",
         "626",
         "4",
         "2014-05-15",
         "726",
         "1",
         "0",
         "0",
         "0",
         "7565"
        ],
        [
         "681145",
         "328",
         "6",
         "2014-12-06",
         "402",
         "1",
         "0",
         "0",
         "0",
         "3632"
        ],
        [
         "656685",
         "943",
         "1",
         "2015-03-09",
         "538",
         "1",
         "0",
         "0",
         "0",
         "5452"
        ],
        [
         "308099",
         "78",
         "2",
         "2015-05-05",
         "568",
         "1",
         "1",
         "0",
         "0",
         "4306"
        ],
        [
         "605423",
         "534",
         "7",
         "2014-06-08",
         "0",
         "0",
         "0",
         "0",
         "0",
         "0"
        ],
        [
         "231682",
         "514",
         "7",
         "2014-03-09",
         "0",
         "0",
         "0",
         "0",
         "0",
         "0"
        ],
        [
         "430362",
         "800",
         "5",
         "2013-10-18",
         "460",
         "1",
         "0",
         "0",
         "1",
         "4120"
        ],
        [
         "73571",
         "699",
         "6",
         "2015-04-25",
         "791",
         "1",
         "0",
         "0",
         "0",
         "6959"
        ],
        [
         "643894",
         "632",
         "3",
         "2015-03-04",
         "924",
         "1",
         "1",
         "0",
         "1",
         "7970"
        ],
        [
         "357935",
         "1043",
         "7",
         "2013-08-18",
         "0",
         "0",
         "0",
         "0",
         "0",
         "0"
        ],
        [
         "478398",
         "870",
         "5",
         "2015-06-19",
         "914",
         "1",
         "1",
         "0",
         "0",
         "7323"
        ],
        [
         "205998",
         "1083",
         "1",
         "2013-10-28",
         "266",
         "1",
         "0",
         "0",
         "0",
         "3506"
        ],
        [
         "537433",
         "996",
         "6",
         "2014-04-19",
         "655",
         "1",
         "0",
         "0",
         "0",
         "4974"
        ],
        [
         "129637",
         "716",
         "2",
         "2013-01-15",
         "383",
         "1",
         "0",
         "0",
         "0",
         "4263"
        ],
        [
         "366083",
         "1093",
         "7",
         "2013-10-06",
         "0",
         "0",
         "0",
         "0",
         "0",
         "0"
        ],
        [
         "417290",
         "420",
         "2",
         "2015-02-10",
         "386",
         "1",
         "0",
         "0",
         "0",
         "3397"
        ],
        [
         "72358",
         "789",
         "3",
         "2014-01-08",
         "541",
         "1",
         "1",
         "0",
         "0",
         "3849"
        ],
        [
         "653967",
         "924",
         "4",
         "2014-06-26",
         "375",
         "1",
         "0",
         "0",
         "0",
         "3585"
        ],
        [
         "582533",
         "687",
         "3",
         "2013-11-13",
         "582",
         "1",
         "0",
         "0",
         "0",
         "5765"
        ],
        [
         "468393",
         "374",
         "2",
         "2014-04-22",
         "911",
         "1",
         "0",
         "0",
         "1",
         "6487"
        ]
       ],
       "shape": {
        "columns": 9,
        "rows": 640840
       }
      },
      "text/html": [
       "<div>\n",
       "<style scoped>\n",
       "    .dataframe tbody tr th:only-of-type {\n",
       "        vertical-align: middle;\n",
       "    }\n",
       "\n",
       "    .dataframe tbody tr th {\n",
       "        vertical-align: top;\n",
       "    }\n",
       "\n",
       "    .dataframe thead th {\n",
       "        text-align: right;\n",
       "    }\n",
       "</style>\n",
       "<table border=\"1\" class=\"dataframe\">\n",
       "  <thead>\n",
       "    <tr style=\"text-align: right;\">\n",
       "      <th></th>\n",
       "      <th>store_ID</th>\n",
       "      <th>day_of_week</th>\n",
       "      <th>date</th>\n",
       "      <th>nb_customers_on_day</th>\n",
       "      <th>open</th>\n",
       "      <th>promotion</th>\n",
       "      <th>state_holiday</th>\n",
       "      <th>school_holiday</th>\n",
       "      <th>sales</th>\n",
       "    </tr>\n",
       "  </thead>\n",
       "  <tbody>\n",
       "    <tr>\n",
       "      <th>425390</th>\n",
       "      <td>366</td>\n",
       "      <td>4</td>\n",
       "      <td>2013-04-18</td>\n",
       "      <td>517</td>\n",
       "      <td>1</td>\n",
       "      <td>0</td>\n",
       "      <td>0</td>\n",
       "      <td>0</td>\n",
       "      <td>4422</td>\n",
       "    </tr>\n",
       "    <tr>\n",
       "      <th>291687</th>\n",
       "      <td>394</td>\n",
       "      <td>6</td>\n",
       "      <td>2015-04-11</td>\n",
       "      <td>694</td>\n",
       "      <td>1</td>\n",
       "      <td>0</td>\n",
       "      <td>0</td>\n",
       "      <td>0</td>\n",
       "      <td>8297</td>\n",
       "    </tr>\n",
       "    <tr>\n",
       "      <th>411278</th>\n",
       "      <td>807</td>\n",
       "      <td>4</td>\n",
       "      <td>2013-08-29</td>\n",
       "      <td>970</td>\n",
       "      <td>1</td>\n",
       "      <td>1</td>\n",
       "      <td>0</td>\n",
       "      <td>0</td>\n",
       "      <td>9729</td>\n",
       "    </tr>\n",
       "    <tr>\n",
       "      <th>664714</th>\n",
       "      <td>802</td>\n",
       "      <td>2</td>\n",
       "      <td>2013-05-28</td>\n",
       "      <td>473</td>\n",
       "      <td>1</td>\n",
       "      <td>1</td>\n",
       "      <td>0</td>\n",
       "      <td>0</td>\n",
       "      <td>6513</td>\n",
       "    </tr>\n",
       "    <tr>\n",
       "      <th>540835</th>\n",
       "      <td>726</td>\n",
       "      <td>4</td>\n",
       "      <td>2013-10-10</td>\n",
       "      <td>1068</td>\n",
       "      <td>1</td>\n",
       "      <td>1</td>\n",
       "      <td>0</td>\n",
       "      <td>0</td>\n",
       "      <td>10882</td>\n",
       "    </tr>\n",
       "    <tr>\n",
       "      <th>...</th>\n",
       "      <td>...</td>\n",
       "      <td>...</td>\n",
       "      <td>...</td>\n",
       "      <td>...</td>\n",
       "      <td>...</td>\n",
       "      <td>...</td>\n",
       "      <td>...</td>\n",
       "      <td>...</td>\n",
       "      <td>...</td>\n",
       "    </tr>\n",
       "    <tr>\n",
       "      <th>359783</th>\n",
       "      <td>409</td>\n",
       "      <td>6</td>\n",
       "      <td>2013-10-26</td>\n",
       "      <td>483</td>\n",
       "      <td>1</td>\n",
       "      <td>0</td>\n",
       "      <td>0</td>\n",
       "      <td>0</td>\n",
       "      <td>4553</td>\n",
       "    </tr>\n",
       "    <tr>\n",
       "      <th>152315</th>\n",
       "      <td>97</td>\n",
       "      <td>1</td>\n",
       "      <td>2014-04-14</td>\n",
       "      <td>987</td>\n",
       "      <td>1</td>\n",
       "      <td>1</td>\n",
       "      <td>0</td>\n",
       "      <td>0</td>\n",
       "      <td>12307</td>\n",
       "    </tr>\n",
       "    <tr>\n",
       "      <th>117952</th>\n",
       "      <td>987</td>\n",
       "      <td>1</td>\n",
       "      <td>2014-07-07</td>\n",
       "      <td>925</td>\n",
       "      <td>1</td>\n",
       "      <td>0</td>\n",
       "      <td>0</td>\n",
       "      <td>0</td>\n",
       "      <td>6800</td>\n",
       "    </tr>\n",
       "    <tr>\n",
       "      <th>435829</th>\n",
       "      <td>1084</td>\n",
       "      <td>4</td>\n",
       "      <td>2014-06-12</td>\n",
       "      <td>725</td>\n",
       "      <td>1</td>\n",
       "      <td>0</td>\n",
       "      <td>0</td>\n",
       "      <td>0</td>\n",
       "      <td>5344</td>\n",
       "    </tr>\n",
       "    <tr>\n",
       "      <th>305711</th>\n",
       "      <td>695</td>\n",
       "      <td>7</td>\n",
       "      <td>2015-05-03</td>\n",
       "      <td>0</td>\n",
       "      <td>0</td>\n",
       "      <td>0</td>\n",
       "      <td>0</td>\n",
       "      <td>0</td>\n",
       "      <td>0</td>\n",
       "    </tr>\n",
       "  </tbody>\n",
       "</table>\n",
       "<p>640840 rows × 9 columns</p>\n",
       "</div>"
      ],
      "text/plain": [
       "        store_ID  day_of_week        date  nb_customers_on_day  open  \\\n",
       "425390       366            4  2013-04-18                  517     1   \n",
       "291687       394            6  2015-04-11                  694     1   \n",
       "411278       807            4  2013-08-29                  970     1   \n",
       "664714       802            2  2013-05-28                  473     1   \n",
       "540835       726            4  2013-10-10                 1068     1   \n",
       "...          ...          ...         ...                  ...   ...   \n",
       "359783       409            6  2013-10-26                  483     1   \n",
       "152315        97            1  2014-04-14                  987     1   \n",
       "117952       987            1  2014-07-07                  925     1   \n",
       "435829      1084            4  2014-06-12                  725     1   \n",
       "305711       695            7  2015-05-03                    0     0   \n",
       "\n",
       "        promotion state_holiday  school_holiday  sales  \n",
       "425390          0             0               0   4422  \n",
       "291687          0             0               0   8297  \n",
       "411278          1             0               0   9729  \n",
       "664714          1             0               0   6513  \n",
       "540835          1             0               0  10882  \n",
       "...           ...           ...             ...    ...  \n",
       "359783          0             0               0   4553  \n",
       "152315          1             0               0  12307  \n",
       "117952          0             0               0   6800  \n",
       "435829          0             0               0   5344  \n",
       "305711          0             0               0      0  \n",
       "\n",
       "[640840 rows x 9 columns]"
      ]
     },
     "execution_count": 15,
     "metadata": {},
     "output_type": "execute_result"
    }
   ],
   "source": [
    "df"
   ]
  },
  {
   "cell_type": "code",
   "execution_count": 16,
   "id": "ee1f60f9",
   "metadata": {},
   "outputs": [
    {
     "data": {
      "application/vnd.microsoft.datawrangler.viewer.v0+json": {
       "columns": [
        {
         "name": "index",
         "rawType": "object",
         "type": "string"
        },
        {
         "name": "promotion",
         "rawType": "float64",
         "type": "float"
        },
        {
         "name": "nb_customers_on_day",
         "rawType": "float64",
         "type": "float"
        },
        {
         "name": "sales",
         "rawType": "float64",
         "type": "float"
        }
       ],
       "ref": "04ccbeba-fed4-48ca-9269-9650f23e5d76",
       "rows": [
        [
         "mean",
         "0.06491215173123575",
         "0.0",
         "0.0"
        ],
        [
         "sum",
         "7064.0",
         "0.0",
         "0.0"
        ]
       ],
       "shape": {
        "columns": 3,
        "rows": 2
       }
      },
      "text/html": [
       "<div>\n",
       "<style scoped>\n",
       "    .dataframe tbody tr th:only-of-type {\n",
       "        vertical-align: middle;\n",
       "    }\n",
       "\n",
       "    .dataframe tbody tr th {\n",
       "        vertical-align: top;\n",
       "    }\n",
       "\n",
       "    .dataframe thead th {\n",
       "        text-align: right;\n",
       "    }\n",
       "</style>\n",
       "<table border=\"1\" class=\"dataframe\">\n",
       "  <thead>\n",
       "    <tr style=\"text-align: right;\">\n",
       "      <th></th>\n",
       "      <th>promotion</th>\n",
       "      <th>nb_customers_on_day</th>\n",
       "      <th>sales</th>\n",
       "    </tr>\n",
       "  </thead>\n",
       "  <tbody>\n",
       "    <tr>\n",
       "      <th>mean</th>\n",
       "      <td>0.064912</td>\n",
       "      <td>0.0</td>\n",
       "      <td>0.0</td>\n",
       "    </tr>\n",
       "    <tr>\n",
       "      <th>sum</th>\n",
       "      <td>7064.000000</td>\n",
       "      <td>0.0</td>\n",
       "      <td>0.0</td>\n",
       "    </tr>\n",
       "  </tbody>\n",
       "</table>\n",
       "</div>"
      ],
      "text/plain": [
       "        promotion  nb_customers_on_day  sales\n",
       "mean     0.064912                  0.0    0.0\n",
       "sum   7064.000000                  0.0    0.0"
      ]
     },
     "execution_count": 16,
     "metadata": {},
     "output_type": "execute_result"
    }
   ],
   "source": [
    "# in case the open is 0 show mean and sum of promotion, nb_costumers_on_day, sales\n",
    "df.loc[df['open'] == 0].agg({'promotion': ['mean', 'sum'], 'nb_customers_on_day': ['mean', 'sum'], 'sales': ['mean', 'sum']})\n",
    "# think about to set promotion and nb_customers_on_day to 0 when store is closed (open=0)"
   ]
  },
  {
   "cell_type": "code",
   "execution_count": null,
   "id": "5668e57f",
   "metadata": {},
   "outputs": [],
   "source": []
  },
  {
   "cell_type": "code",
   "execution_count": 17,
   "id": "18640df1",
   "metadata": {},
   "outputs": [],
   "source": [
    "# asign date column as datetime\n",
    "df['date'] = pd.to_datetime(df['date'])\n",
    "# asin the open, promotion and school_holiday columns as boolean\n",
    "df['open'] = df['open'].astype(bool)\n",
    "df['promotion'] = df['promotion'].astype(bool)\n",
    "df['school_holiday'] = df['school_holiday'].astype(bool)\n",
    "\n"
   ]
  },
  {
   "cell_type": "code",
   "execution_count": 19,
   "id": "ac40fff9",
   "metadata": {},
   "outputs": [
    {
     "name": "stdout",
     "output_type": "stream",
     "text": [
      "<class 'pandas.core.frame.DataFrame'>\n",
      "Index: 640840 entries, 425390 to 305711\n",
      "Data columns (total 9 columns):\n",
      " #   Column               Non-Null Count   Dtype         \n",
      "---  ------               --------------   -----         \n",
      " 0   store_ID             640840 non-null  int64         \n",
      " 1   day_of_week          640840 non-null  int64         \n",
      " 2   date                 640840 non-null  datetime64[ns]\n",
      " 3   nb_customers_on_day  640840 non-null  int64         \n",
      " 4   open                 640840 non-null  bool          \n",
      " 5   promotion            640840 non-null  bool          \n",
      " 6   state_holiday        640840 non-null  object        \n",
      " 7   school_holiday       640840 non-null  bool          \n",
      " 8   sales                640840 non-null  int64         \n",
      "dtypes: bool(3), datetime64[ns](1), int64(4), object(1)\n",
      "memory usage: 36.1+ MB\n"
     ]
    }
   ],
   "source": [
    "df.info()"
   ]
  },
  {
   "cell_type": "code",
   "execution_count": null,
   "id": "b701e869",
   "metadata": {},
   "outputs": [
    {
     "name": "stdout",
     "output_type": "stream",
     "text": [
      "count                           640840\n",
      "mean     2014-04-11 02:05:13.957931008\n",
      "min                2013-01-01 00:00:00\n",
      "25%                2013-08-17 00:00:00\n",
      "50%                2014-04-02 00:00:00\n",
      "75%                2014-12-12 00:00:00\n",
      "max                2015-07-31 00:00:00\n",
      "Name: date, dtype: object\n"
     ]
    },
    {
     "data": {
      "text/plain": [
       "<Axes: >"
      ]
     },
     "execution_count": 22,
     "metadata": {},
     "output_type": "execute_result"
    },
    {
     "data": {
      "image/png": "[encoded data removed]",
      "text/plain": [
       "<Figure size 640x480 with 1 Axes>"
      ]
     },
     "metadata": {},
     "output_type": "display_data"
    }
   ],
   "source": [
    "print(df.date.describe())\n",
    "# \n",
    "df.date.hist()\n"
   ]
  },
  {
   "cell_type": "code",
   "execution_count": 23,
   "id": "f2e2aecf",
   "metadata": {},
   "outputs": [
    {
     "data": {
      "text/plain": [
       "Timedelta('941 days 00:00:00')"
      ]
     },
     "execution_count": 23,
     "metadata": {},
     "output_type": "execute_result"
    }
   ],
   "source": [
    "# lets check if we have missing date\n",
    "df.date.max() - df.date.min()"
   ]
  },
  {
   "cell_type": "code",
   "execution_count": 26,
   "id": "eb9cfd96",
   "metadata": {},
   "outputs": [
    {
     "data": {
      "text/plain": [
       "942"
      ]
     },
     "execution_count": 26,
     "metadata": {},
     "output_type": "execute_result"
    }
   ],
   "source": [
    "df.date.nunique()\n",
    "# so no missing dates"
   ]
  },
  {
   "cell_type": "code",
   "execution_count": 29,
   "id": "d76ec189",
   "metadata": {},
   "outputs": [
    {
     "data": {
      "application/vnd.microsoft.datawrangler.viewer.v0+json": {
       "columns": [
        {
         "name": "index",
         "rawType": "object",
         "type": "string"
        },
        {
         "name": "store_ID",
         "rawType": "float64",
         "type": "float"
        },
        {
         "name": "day_of_week",
         "rawType": "float64",
         "type": "float"
        },
        {
         "name": "date",
         "rawType": "object",
         "type": "unknown"
        },
        {
         "name": "nb_customers_on_day",
         "rawType": "float64",
         "type": "float"
        },
        {
         "name": "sales",
         "rawType": "float64",
         "type": "float"
        }
       ],
       "ref": "5e09f844-e575-4c8b-a16c-598e23c7c292",
       "rows": [
        [
         "count",
         "640840.0",
         "640840.0",
         "640840",
         "640840.0",
         "640840.0"
        ],
        [
         "mean",
         "558.2113476062668",
         "4.000188814680731",
         "2014-04-11 02:05:13.957931008",
         "633.3985768678609",
         "5777.469010985581"
        ],
        [
         "min",
         "1.0",
         "1.0",
         "2013-01-01 00:00:00",
         "0.0",
         "0.0"
        ],
        [
         "25%",
         "280.0",
         "2.0",
         "2013-08-17 00:00:00",
         "405.0",
         "3731.0"
        ],
        [
         "50%",
         "558.0",
         "4.0",
         "2014-04-02 00:00:00",
         "609.0",
         "5746.0"
        ],
        [
         "75%",
         "837.0",
         "6.0",
         "2014-12-12 00:00:00",
         "838.0",
         "7860.0"
        ],
        [
         "max",
         "1115.0",
         "7.0",
         "2015-07-31 00:00:00",
         "5458.0",
         "41551.0"
        ],
        [
         "std",
         "321.87852116922284",
         "1.9964776747388904",
         null,
         "464.09441563511086",
         "3851.3380831423106"
        ]
       ],
       "shape": {
        "columns": 5,
        "rows": 8
       }
      },
      "text/html": [
       "<div>\n",
       "<style scoped>\n",
       "    .dataframe tbody tr th:only-of-type {\n",
       "        vertical-align: middle;\n",
       "    }\n",
       "\n",
       "    .dataframe tbody tr th {\n",
       "        vertical-align: top;\n",
       "    }\n",
       "\n",
       "    .dataframe thead th {\n",
       "        text-align: right;\n",
       "    }\n",
       "</style>\n",
       "<table border=\"1\" class=\"dataframe\">\n",
       "  <thead>\n",
       "    <tr style=\"text-align: right;\">\n",
       "      <th></th>\n",
       "      <th>store_ID</th>\n",
       "      <th>day_of_week</th>\n",
       "      <th>date</th>\n",
       "      <th>nb_customers_on_day</th>\n",
       "      <th>sales</th>\n",
       "    </tr>\n",
       "  </thead>\n",
       "  <tbody>\n",
       "    <tr>\n",
       "      <th>count</th>\n",
       "      <td>640840.000000</td>\n",
       "      <td>640840.000000</td>\n",
       "      <td>640840</td>\n",
       "      <td>640840.000000</td>\n",
       "      <td>640840.000000</td>\n",
       "    </tr>\n",
       "    <tr>\n",
       "      <th>mean</th>\n",
       "      <td>558.211348</td>\n",
       "      <td>4.000189</td>\n",
       "      <td>2014-04-11 02:05:13.957931008</td>\n",
       "      <td>633.398577</td>\n",
       "      <td>5777.469011</td>\n",
       "    </tr>\n",
       "    <tr>\n",
       "      <th>min</th>\n",
       "      <td>1.000000</td>\n",
       "      <td>1.000000</td>\n",
       "      <td>2013-01-01 00:00:00</td>\n",
       "      <td>0.000000</td>\n",
       "      <td>0.000000</td>\n",
       "    </tr>\n",
       "    <tr>\n",
       "      <th>25%</th>\n",
       "      <td>280.000000</td>\n",
       "      <td>2.000000</td>\n",
       "      <td>2013-08-17 00:00:00</td>\n",
       "      <td>405.000000</td>\n",
       "      <td>3731.000000</td>\n",
       "    </tr>\n",
       "    <tr>\n",
       "      <th>50%</th>\n",
       "      <td>558.000000</td>\n",
       "      <td>4.000000</td>\n",
       "      <td>2014-04-02 00:00:00</td>\n",
       "      <td>609.000000</td>\n",
       "      <td>5746.000000</td>\n",
       "    </tr>\n",
       "    <tr>\n",
       "      <th>75%</th>\n",
       "      <td>837.000000</td>\n",
       "      <td>6.000000</td>\n",
       "      <td>2014-12-12 00:00:00</td>\n",
       "      <td>838.000000</td>\n",
       "      <td>7860.000000</td>\n",
       "    </tr>\n",
       "    <tr>\n",
       "      <th>max</th>\n",
       "      <td>1115.000000</td>\n",
       "      <td>7.000000</td>\n",
       "      <td>2015-07-31 00:00:00</td>\n",
       "      <td>5458.000000</td>\n",
       "      <td>41551.000000</td>\n",
       "    </tr>\n",
       "    <tr>\n",
       "      <th>std</th>\n",
       "      <td>321.878521</td>\n",
       "      <td>1.996478</td>\n",
       "      <td>NaN</td>\n",
       "      <td>464.094416</td>\n",
       "      <td>3851.338083</td>\n",
       "    </tr>\n",
       "  </tbody>\n",
       "</table>\n",
       "</div>"
      ],
      "text/plain": [
       "            store_ID    day_of_week                           date  \\\n",
       "count  640840.000000  640840.000000                         640840   \n",
       "mean      558.211348       4.000189  2014-04-11 02:05:13.957931008   \n",
       "min         1.000000       1.000000            2013-01-01 00:00:00   \n",
       "25%       280.000000       2.000000            2013-08-17 00:00:00   \n",
       "50%       558.000000       4.000000            2014-04-02 00:00:00   \n",
       "75%       837.000000       6.000000            2014-12-12 00:00:00   \n",
       "max      1115.000000       7.000000            2015-07-31 00:00:00   \n",
       "std       321.878521       1.996478                            NaN   \n",
       "\n",
       "       nb_customers_on_day          sales  \n",
       "count        640840.000000  640840.000000  \n",
       "mean            633.398577    5777.469011  \n",
       "min               0.000000       0.000000  \n",
       "25%             405.000000    3731.000000  \n",
       "50%             609.000000    5746.000000  \n",
       "75%             838.000000    7860.000000  \n",
       "max            5458.000000   41551.000000  \n",
       "std             464.094416    3851.338083  "
      ]
     },
     "execution_count": 29,
     "metadata": {},
     "output_type": "execute_result"
    }
   ],
   "source": [
    "df.describe()"
   ]
  },
  {
   "cell_type": "code",
   "execution_count": 28,
   "id": "36362716",
   "metadata": {},
   "outputs": [
    {
     "name": "stdout",
     "output_type": "stream",
     "text": [
      "store_ID\n",
      "store_ID: count    640840.000000\n",
      "mean        558.211348\n",
      "std         321.878521\n",
      "min           1.000000\n",
      "25%         280.000000\n",
      "50%         558.000000\n",
      "75%         837.000000\n",
      "max        1115.000000\n",
      "Name: store_ID, dtype: float64 \n",
      "\n",
      "day_of_week\n",
      "day_of_week: count    640840.000000\n",
      "mean          4.000189\n",
      "std           1.996478\n",
      "min           1.000000\n",
      "25%           2.000000\n",
      "50%           4.000000\n",
      "75%           6.000000\n",
      "max           7.000000\n",
      "Name: day_of_week, dtype: float64 \n",
      "\n",
      "date\n",
      "date: count                           640840\n",
      "mean     2014-04-11 02:05:13.957931008\n",
      "min                2013-01-01 00:00:00\n",
      "25%                2013-08-17 00:00:00\n",
      "50%                2014-04-02 00:00:00\n",
      "75%                2014-12-12 00:00:00\n",
      "max                2015-07-31 00:00:00\n",
      "Name: date, dtype: object \n",
      "\n",
      "nb_customers_on_day\n",
      "nb_customers_on_day: count    640840.000000\n",
      "mean        633.398577\n",
      "std         464.094416\n",
      "min           0.000000\n",
      "25%         405.000000\n",
      "50%         609.000000\n",
      "75%         838.000000\n",
      "max        5458.000000\n",
      "Name: nb_customers_on_day, dtype: float64 \n",
      "\n",
      "open\n",
      "open: count     640840\n",
      "unique         2\n",
      "top         True\n",
      "freq      532016\n",
      "Name: open, dtype: object \n",
      "\n",
      "promotion\n",
      "promotion: count     640840\n",
      "unique         2\n",
      "top        False\n",
      "freq      396220\n",
      "Name: promotion, dtype: object \n",
      "\n",
      "state_holiday\n",
      "state_holiday: count     640840\n",
      "unique         4\n",
      "top            0\n",
      "freq      621160\n",
      "Name: state_holiday, dtype: object \n",
      "\n",
      "school_holiday\n",
      "school_holiday: count     640840\n",
      "unique         2\n",
      "top        False\n",
      "freq      526468\n",
      "Name: school_holiday, dtype: object \n",
      "\n",
      "sales\n",
      "sales: count    640840.000000\n",
      "mean       5777.469011\n",
      "std        3851.338083\n",
      "min           0.000000\n",
      "25%        3731.000000\n",
      "50%        5746.000000\n",
      "75%        7860.000000\n",
      "max       41551.000000\n",
      "Name: sales, dtype: float64 \n",
      "\n",
      "state_holiday: count     640840\n",
      "unique         4\n",
      "top            0\n",
      "freq      621160\n",
      "Name: state_holiday, dtype: object \n",
      "\n",
      "school_holiday\n",
      "school_holiday: count     640840\n",
      "unique         2\n",
      "top        False\n",
      "freq      526468\n",
      "Name: school_holiday, dtype: object \n",
      "\n",
      "sales\n",
      "sales: count    640840.000000\n",
      "mean       5777.469011\n",
      "std        3851.338083\n",
      "min           0.000000\n",
      "25%        3731.000000\n",
      "50%        5746.000000\n",
      "75%        7860.000000\n",
      "max       41551.000000\n",
      "Name: sales, dtype: float64 \n",
      "\n"
     ]
    }
   ],
   "source": [
    "for col in df.columns:\n",
    "    print(f\"{col}\")\n",
    "    print(f\"{col}: {df[col].describe()}\", \"\\n\")"
   ]
  },
  {
   "cell_type": "code",
   "execution_count": null,
   "id": "944fb0cf",
   "metadata": {},
   "outputs": [
    {
     "data": {
      "application/vnd.microsoft.datawrangler.viewer.v0+json": {
       "columns": [
        {
         "name": "index",
         "rawType": "int64",
         "type": "integer"
        },
        {
         "name": "store_ID",
         "rawType": "int64",
         "type": "integer"
        },
        {
         "name": "day_of_week",
         "rawType": "int64",
         "type": "integer"
        },
        {
         "name": "date",
         "rawType": "datetime64[ns]",
         "type": "datetime"
        },
        {
         "name": "nb_customers_on_day",
         "rawType": "int64",
         "type": "integer"
        },
        {
         "name": "open",
         "rawType": "bool",
         "type": "boolean"
        },
        {
         "name": "promotion",
         "rawType": "bool",
         "type": "boolean"
        },
        {
         "name": "state_holiday",
         "rawType": "object",
         "type": "string"
        },
        {
         "name": "school_holiday",
         "rawType": "bool",
         "type": "boolean"
        },
        {
         "name": "sales",
         "rawType": "int64",
         "type": "integer"
        }
       ],
       "ref": "cbbb7177-6f30-4677-93c4-20e8a3874b9b",
       "rows": [
        [
         "425390",
         "366",
         "4",
         "2013-04-18 00:00:00",
         "517",
         "True",
         "False",
         "0",
         "False",
         "4422"
        ],
        [
         "291687",
         "394",
         "6",
         "2015-04-11 00:00:00",
         "694",
         "True",
         "False",
         "0",
         "False",
         "8297"
        ],
        [
         "411278",
         "807",
         "4",
         "2013-08-29 00:00:00",
         "970",
         "True",
         "True",
         "0",
         "False",
         "9729"
        ],
        [
         "664714",
         "802",
         "2",
         "2013-05-28 00:00:00",
         "473",
         "True",
         "True",
         "0",
         "False",
         "6513"
        ],
        [
         "540835",
         "726",
         "4",
         "2013-10-10 00:00:00",
         "1068",
         "True",
         "True",
         "0",
         "False",
         "10882"
        ],
        [
         "687329",
         "674",
         "2",
         "2013-03-19 00:00:00",
         "1016",
         "True",
         "True",
         "0",
         "False",
         "8406"
        ],
        [
         "600327",
         "659",
         "7",
         "2014-06-08 00:00:00",
         "0",
         "False",
         "False",
         "0",
         "False",
         "0"
        ],
        [
         "96265",
         "27",
         "3",
         "2014-07-16 00:00:00",
         "1106",
         "True",
         "True",
         "0",
         "True",
         "11162"
        ],
        [
         "364435",
         "347",
         "6",
         "2013-05-11 00:00:00",
         "448",
         "True",
         "False",
         "0",
         "False",
         "5559"
        ],
        [
         "163146",
         "288",
         "2",
         "2013-06-25 00:00:00",
         "291",
         "True",
         "False",
         "0",
         "False",
         "3997"
        ],
        [
         "561067",
         "273",
         "7",
         "2014-10-05 00:00:00",
         "0",
         "False",
         "False",
         "0",
         "False",
         "0"
        ],
        [
         "431990",
         "870",
         "5",
         "2014-03-28 00:00:00",
         "839",
         "True",
         "False",
         "0",
         "False",
         "6267"
        ],
        [
         "6368",
         "703",
         "6",
         "2014-09-27 00:00:00",
         "215",
         "True",
         "False",
         "0",
         "False",
         "1953"
        ],
        [
         "49190",
         "578",
         "2",
         "2013-05-21 00:00:00",
         "824",
         "True",
         "False",
         "0",
         "False",
         "8218"
        ],
        [
         "528712",
         "447",
         "1",
         "2013-07-01 00:00:00",
         "773",
         "True",
         "True",
         "0",
         "True",
         "7205"
        ],
        [
         "256945",
         "382",
         "3",
         "2013-12-18 00:00:00",
         "957",
         "True",
         "True",
         "0",
         "False",
         "14553"
        ],
        [
         "518014",
         "66",
         "3",
         "2015-06-10 00:00:00",
         "442",
         "True",
         "False",
         "0",
         "False",
         "5188"
        ],
        [
         "461410",
         "437",
         "6",
         "2015-03-28 00:00:00",
         "1239",
         "True",
         "False",
         "0",
         "False",
         "12770"
        ],
        [
         "409022",
         "767",
         "7",
         "2013-01-27 00:00:00",
         "0",
         "False",
         "False",
         "0",
         "False",
         "0"
        ],
        [
         "290135",
         "142",
         "3",
         "2015-05-06 00:00:00",
         "609",
         "True",
         "True",
         "0",
         "False",
         "4994"
        ],
        [
         "205320",
         "369",
         "4",
         "2014-06-12 00:00:00",
         "501",
         "True",
         "False",
         "0",
         "False",
         "5709"
        ],
        [
         "648424",
         "171",
         "6",
         "2014-05-10 00:00:00",
         "641",
         "True",
         "False",
         "0",
         "False",
         "6295"
        ],
        [
         "615211",
         "499",
         "6",
         "2014-12-27 00:00:00",
         "925",
         "True",
         "False",
         "0",
         "False",
         "6202"
        ],
        [
         "557215",
         "235",
         "3",
         "2015-02-18 00:00:00",
         "488",
         "True",
         "True",
         "0",
         "False",
         "6330"
        ],
        [
         "649140",
         "936",
         "1",
         "2014-02-17 00:00:00",
         "1096",
         "True",
         "True",
         "0",
         "False",
         "9263"
        ],
        [
         "558538",
         "533",
         "3",
         "2013-09-18 00:00:00",
         "774",
         "True",
         "False",
         "0",
         "False",
         "7304"
        ],
        [
         "238131",
         "638",
         "3",
         "2013-06-19 00:00:00",
         "533",
         "True",
         "True",
         "0",
         "False",
         "6474"
        ],
        [
         "123416",
         "632",
         "1",
         "2014-06-30 00:00:00",
         "1142",
         "True",
         "True",
         "0",
         "False",
         "10317"
        ],
        [
         "639150",
         "849",
         "5",
         "2014-06-06 00:00:00",
         "997",
         "True",
         "True",
         "0",
         "False",
         "9366"
        ],
        [
         "617816",
         "5",
         "3",
         "2015-07-29 00:00:00",
         "658",
         "True",
         "True",
         "0",
         "True",
         "5899"
        ],
        [
         "609322",
         "626",
         "4",
         "2014-05-15 00:00:00",
         "726",
         "True",
         "False",
         "0",
         "False",
         "7565"
        ],
        [
         "681145",
         "328",
         "6",
         "2014-12-06 00:00:00",
         "402",
         "True",
         "False",
         "0",
         "False",
         "3632"
        ],
        [
         "656685",
         "943",
         "1",
         "2015-03-09 00:00:00",
         "538",
         "True",
         "False",
         "0",
         "False",
         "5452"
        ],
        [
         "308099",
         "78",
         "2",
         "2015-05-05 00:00:00",
         "568",
         "True",
         "True",
         "0",
         "False",
         "4306"
        ],
        [
         "605423",
         "534",
         "7",
         "2014-06-08 00:00:00",
         "0",
         "False",
         "False",
         "0",
         "False",
         "0"
        ],
        [
         "231682",
         "514",
         "7",
         "2014-03-09 00:00:00",
         "0",
         "False",
         "False",
         "0",
         "False",
         "0"
        ],
        [
         "430362",
         "800",
         "5",
         "2013-10-18 00:00:00",
         "460",
         "True",
         "False",
         "0",
         "True",
         "4120"
        ],
        [
         "73571",
         "699",
         "6",
         "2015-04-25 00:00:00",
         "791",
         "True",
         "False",
         "0",
         "False",
         "6959"
        ],
        [
         "643894",
         "632",
         "3",
         "2015-03-04 00:00:00",
         "924",
         "True",
         "True",
         "0",
         "True",
         "7970"
        ],
        [
         "357935",
         "1043",
         "7",
         "2013-08-18 00:00:00",
         "0",
         "False",
         "False",
         "0",
         "False",
         "0"
        ],
        [
         "478398",
         "870",
         "5",
         "2015-06-19 00:00:00",
         "914",
         "True",
         "True",
         "0",
         "False",
         "7323"
        ],
        [
         "205998",
         "1083",
         "1",
         "2013-10-28 00:00:00",
         "266",
         "True",
         "False",
         "0",
         "False",
         "3506"
        ],
        [
         "537433",
         "996",
         "6",
         "2014-04-19 00:00:00",
         "655",
         "True",
         "False",
         "0",
         "False",
         "4974"
        ],
        [
         "129637",
         "716",
         "2",
         "2013-01-15 00:00:00",
         "383",
         "True",
         "False",
         "0",
         "False",
         "4263"
        ],
        [
         "366083",
         "1093",
         "7",
         "2013-10-06 00:00:00",
         "0",
         "False",
         "False",
         "0",
         "False",
         "0"
        ],
        [
         "417290",
         "420",
         "2",
         "2015-02-10 00:00:00",
         "386",
         "True",
         "False",
         "0",
         "False",
         "3397"
        ],
        [
         "72358",
         "789",
         "3",
         "2014-01-08 00:00:00",
         "541",
         "True",
         "True",
         "0",
         "False",
         "3849"
        ],
        [
         "653967",
         "924",
         "4",
         "2014-06-26 00:00:00",
         "375",
         "True",
         "False",
         "0",
         "False",
         "3585"
        ],
        [
         "582533",
         "687",
         "3",
         "2013-11-13 00:00:00",
         "582",
         "True",
         "False",
         "0",
         "False",
         "5765"
        ],
        [
         "468393",
         "374",
         "2",
         "2014-04-22 00:00:00",
         "911",
         "True",
         "False",
         "0",
         "True",
         "6487"
        ]
       ],
       "shape": {
        "columns": 9,
        "rows": 640840
       }
      },
      "text/html": [
       "<div>\n",
       "<style scoped>\n",
       "    .dataframe tbody tr th:only-of-type {\n",
       "        vertical-align: middle;\n",
       "    }\n",
       "\n",
       "    .dataframe tbody tr th {\n",
       "        vertical-align: top;\n",
       "    }\n",
       "\n",
       "    .dataframe thead th {\n",
       "        text-align: right;\n",
       "    }\n",
       "</style>\n",
       "<table border=\"1\" class=\"dataframe\">\n",
       "  <thead>\n",
       "    <tr style=\"text-align: right;\">\n",
       "      <th></th>\n",
       "      <th>store_ID</th>\n",
       "      <th>day_of_week</th>\n",
       "      <th>date</th>\n",
       "      <th>nb_customers_on_day</th>\n",
       "      <th>open</th>\n",
       "      <th>promotion</th>\n",
       "      <th>state_holiday</th>\n",
       "      <th>school_holiday</th>\n",
       "      <th>sales</th>\n",
       "    </tr>\n",
       "  </thead>\n",
       "  <tbody>\n",
       "    <tr>\n",
       "      <th>425390</th>\n",
       "      <td>366</td>\n",
       "      <td>4</td>\n",
       "      <td>2013-04-18</td>\n",
       "      <td>517</td>\n",
       "      <td>True</td>\n",
       "      <td>False</td>\n",
       "      <td>0</td>\n",
       "      <td>False</td>\n",
       "      <td>4422</td>\n",
       "    </tr>\n",
       "    <tr>\n",
       "      <th>291687</th>\n",
       "      <td>394</td>\n",
       "      <td>6</td>\n",
       "      <td>2015-04-11</td>\n",
       "      <td>694</td>\n",
       "      <td>True</td>\n",
       "      <td>False</td>\n",
       "      <td>0</td>\n",
       "      <td>False</td>\n",
       "      <td>8297</td>\n",
       "    </tr>\n",
       "    <tr>\n",
       "      <th>411278</th>\n",
       "      <td>807</td>\n",
       "      <td>4</td>\n",
       "      <td>2013-08-29</td>\n",
       "      <td>970</td>\n",
       "      <td>True</td>\n",
       "      <td>True</td>\n",
       "      <td>0</td>\n",
       "      <td>False</td>\n",
       "      <td>9729</td>\n",
       "    </tr>\n",
       "    <tr>\n",
       "      <th>664714</th>\n",
       "      <td>802</td>\n",
       "      <td>2</td>\n",
       "      <td>2013-05-28</td>\n",
       "      <td>473</td>\n",
       "      <td>True</td>\n",
       "      <td>True</td>\n",
       "      <td>0</td>\n",
       "      <td>False</td>\n",
       "      <td>6513</td>\n",
       "    </tr>\n",
       "    <tr>\n",
       "      <th>540835</th>\n",
       "      <td>726</td>\n",
       "      <td>4</td>\n",
       "      <td>2013-10-10</td>\n",
       "      <td>1068</td>\n",
       "      <td>True</td>\n",
       "      <td>True</td>\n",
       "      <td>0</td>\n",
       "      <td>False</td>\n",
       "      <td>10882</td>\n",
       "    </tr>\n",
       "    <tr>\n",
       "      <th>...</th>\n",
       "      <td>...</td>\n",
       "      <td>...</td>\n",
       "      <td>...</td>\n",
       "      <td>...</td>\n",
       "      <td>...</td>\n",
       "      <td>...</td>\n",
       "      <td>...</td>\n",
       "      <td>...</td>\n",
       "      <td>...</td>\n",
       "    </tr>\n",
       "    <tr>\n",
       "      <th>359783</th>\n",
       "      <td>409</td>\n",
       "      <td>6</td>\n",
       "      <td>2013-10-26</td>\n",
       "      <td>483</td>\n",
       "      <td>True</td>\n",
       "      <td>False</td>\n",
       "      <td>0</td>\n",
       "      <td>False</td>\n",
       "      <td>4553</td>\n",
       "    </tr>\n",
       "    <tr>\n",
       "      <th>152315</th>\n",
       "      <td>97</td>\n",
       "      <td>1</td>\n",
       "      <td>2014-04-14</td>\n",
       "      <td>987</td>\n",
       "      <td>True</td>\n",
       "      <td>True</td>\n",
       "      <td>0</td>\n",
       "      <td>False</td>\n",
       "      <td>12307</td>\n",
       "    </tr>\n",
       "    <tr>\n",
       "      <th>117952</th>\n",
       "      <td>987</td>\n",
       "      <td>1</td>\n",
       "      <td>2014-07-07</td>\n",
       "      <td>925</td>\n",
       "      <td>True</td>\n",
       "      <td>False</td>\n",
       "      <td>0</td>\n",
       "      <td>False</td>\n",
       "      <td>6800</td>\n",
       "    </tr>\n",
       "    <tr>\n",
       "      <th>435829</th>\n",
       "      <td>1084</td>\n",
       "      <td>4</td>\n",
       "      <td>2014-06-12</td>\n",
       "      <td>725</td>\n",
       "      <td>True</td>\n",
       "      <td>False</td>\n",
       "      <td>0</td>\n",
       "      <td>False</td>\n",
       "      <td>5344</td>\n",
       "    </tr>\n",
       "    <tr>\n",
       "      <th>305711</th>\n",
       "      <td>695</td>\n",
       "      <td>7</td>\n",
       "      <td>2015-05-03</td>\n",
       "      <td>0</td>\n",
       "      <td>False</td>\n",
       "      <td>False</td>\n",
       "      <td>0</td>\n",
       "      <td>False</td>\n",
       "      <td>0</td>\n",
       "    </tr>\n",
       "  </tbody>\n",
       "</table>\n",
       "<p>640840 rows × 9 columns</p>\n",
       "</div>"
      ],
      "text/plain": [
       "        store_ID  day_of_week       date  nb_customers_on_day   open  \\\n",
       "425390       366            4 2013-04-18                  517   True   \n",
       "291687       394            6 2015-04-11                  694   True   \n",
       "411278       807            4 2013-08-29                  970   True   \n",
       "664714       802            2 2013-05-28                  473   True   \n",
       "540835       726            4 2013-10-10                 1068   True   \n",
       "...          ...          ...        ...                  ...    ...   \n",
       "359783       409            6 2013-10-26                  483   True   \n",
       "152315        97            1 2014-04-14                  987   True   \n",
       "117952       987            1 2014-07-07                  925   True   \n",
       "435829      1084            4 2014-06-12                  725   True   \n",
       "305711       695            7 2015-05-03                    0  False   \n",
       "\n",
       "        promotion state_holiday  school_holiday  sales  \n",
       "425390      False             0           False   4422  \n",
       "291687      False             0           False   8297  \n",
       "411278       True             0           False   9729  \n",
       "664714       True             0           False   6513  \n",
       "540835       True             0           False  10882  \n",
       "...           ...           ...             ...    ...  \n",
       "359783      False             0           False   4553  \n",
       "152315       True             0           False  12307  \n",
       "117952      False             0           False   6800  \n",
       "435829      False             0           False   5344  \n",
       "305711      False             0           False      0  \n",
       "\n",
       "[640840 rows x 9 columns]"
      ]
     },
     "execution_count": 30,
     "metadata": {},
     "output_type": "execute_result"
    }
   ],
   "source": []
  },
  {
   "cell_type": "code",
   "execution_count": 31,
   "id": "85c1a9e9",
   "metadata": {},
   "outputs": [
    {
     "data": {
      "application/vnd.microsoft.datawrangler.viewer.v0+json": {
       "columns": [
        {
         "name": "state_holiday",
         "rawType": "object",
         "type": "string"
        },
        {
         "name": "count",
         "rawType": "int64",
         "type": "integer"
        }
       ],
       "ref": "6daccf7d-e3eb-4341-ab8b-6101fbe45118",
       "rows": [
        [
         "0",
         "621160"
        ],
        [
         "a",
         "12842"
        ],
        [
         "b",
         "4214"
        ],
        [
         "c",
         "2624"
        ]
       ],
       "shape": {
        "columns": 1,
        "rows": 4
       }
      },
      "text/plain": [
       "state_holiday\n",
       "0    621160\n",
       "a     12842\n",
       "b      4214\n",
       "c      2624\n",
       "Name: count, dtype: int64"
      ]
     },
     "execution_count": 31,
     "metadata": {},
     "output_type": "execute_result"
    }
   ],
   "source": [
    "# handle the state_holiday column\n",
    "df.state_holiday.value_counts()"
   ]
  },
  {
   "cell_type": "code",
   "execution_count": 46,
   "id": "6e06fc66",
   "metadata": {},
   "outputs": [
    {
     "data": {
      "application/vnd.microsoft.datawrangler.viewer.v0+json": {
       "columns": [
        {
         "name": "date",
         "rawType": "datetime64[ns]",
         "type": "datetime"
        },
        {
         "name": "count",
         "rawType": "int64",
         "type": "integer"
        }
       ],
       "ref": "8d3724ab-93c7-4f71-944d-19cb8590c8fa",
       "rows": [
        [
         "2013-01-01 00:00:00",
         "719"
        ],
        [
         "2013-01-06 00:00:00",
         "193"
        ],
        [
         "2013-05-01 00:00:00",
         "694"
        ],
        [
         "2013-05-09 00:00:00",
         "682"
        ],
        [
         "2013-05-20 00:00:00",
         "710"
        ],
        [
         "2013-05-30 00:00:00",
         "500"
        ],
        [
         "2013-08-15 00:00:00",
         "117"
        ],
        [
         "2013-10-03 00:00:00",
         "705"
        ],
        [
         "2013-10-31 00:00:00",
         "100"
        ],
        [
         "2013-11-01 00:00:00",
         "361"
        ],
        [
         "2013-11-20 00:00:00",
         "50"
        ],
        [
         "2014-01-01 00:00:00",
         "712"
        ],
        [
         "2014-01-06 00:00:00",
         "193"
        ],
        [
         "2014-05-01 00:00:00",
         "720"
        ],
        [
         "2014-05-29 00:00:00",
         "704"
        ],
        [
         "2014-06-09 00:00:00",
         "699"
        ],
        [
         "2014-06-19 00:00:00",
         "474"
        ],
        [
         "2014-10-03 00:00:00",
         "595"
        ],
        [
         "2014-10-31 00:00:00",
         "108"
        ],
        [
         "2014-11-01 00:00:00",
         "262"
        ],
        [
         "2014-11-19 00:00:00",
         "45"
        ],
        [
         "2015-01-01 00:00:00",
         "694"
        ],
        [
         "2015-01-06 00:00:00",
         "198"
        ],
        [
         "2015-05-01 00:00:00",
         "709"
        ],
        [
         "2015-05-14 00:00:00",
         "716"
        ],
        [
         "2015-05-25 00:00:00",
         "715"
        ],
        [
         "2015-06-04 00:00:00",
         "467"
        ]
       ],
       "shape": {
        "columns": 1,
        "rows": 27
       }
      },
      "text/plain": [
       "date\n",
       "2013-01-01    719\n",
       "2013-01-06    193\n",
       "2013-05-01    694\n",
       "2013-05-09    682\n",
       "2013-05-20    710\n",
       "2013-05-30    500\n",
       "2013-08-15    117\n",
       "2013-10-03    705\n",
       "2013-10-31    100\n",
       "2013-11-01    361\n",
       "2013-11-20     50\n",
       "2014-01-01    712\n",
       "2014-01-06    193\n",
       "2014-05-01    720\n",
       "2014-05-29    704\n",
       "2014-06-09    699\n",
       "2014-06-19    474\n",
       "2014-10-03    595\n",
       "2014-10-31    108\n",
       "2014-11-01    262\n",
       "2014-11-19     45\n",
       "2015-01-01    694\n",
       "2015-01-06    198\n",
       "2015-05-01    709\n",
       "2015-05-14    716\n",
       "2015-05-25    715\n",
       "2015-06-04    467\n",
       "Name: count, dtype: int64"
      ]
     },
     "execution_count": 46,
     "metadata": {},
     "output_type": "execute_result"
    }
   ],
   "source": [
    "# show the relation between state_holiday and date\n",
    "#sns.scatterplot(data=df, x='date', y='state_holiday')\n",
    "# show the unique dates for each non-zero state_holiday\n",
    "df[df.state_holiday == 'a'].date.value_counts().sort_index()\n",
    "# a means back holiday is spain\n"
   ]
  },
  {
   "cell_type": "code",
   "execution_count": null,
   "id": "e1a49c26",
   "metadata": {},
   "outputs": [
    {
     "data": {
      "application/vnd.microsoft.datawrangler.viewer.v0+json": {
       "columns": [
        {
         "name": "date",
         "rawType": "datetime64[ns]",
         "type": "datetime"
        },
        {
         "name": "count",
         "rawType": "int64",
         "type": "integer"
        }
       ],
       "ref": "e9f97150-dda5-4bb9-a544-70b7ab83d1e8",
       "rows": [
        [
         "2013-03-29 00:00:00",
         "713"
        ],
        [
         "2013-04-01 00:00:00",
         "720"
        ],
        [
         "2014-04-18 00:00:00",
         "708"
        ],
        [
         "2014-04-21 00:00:00",
         "708"
        ],
        [
         "2015-04-03 00:00:00",
         "686"
        ],
        [
         "2015-04-06 00:00:00",
         "679"
        ]
       ],
       "shape": {
        "columns": 1,
        "rows": 6
       }
      },
      "text/plain": [
       "date\n",
       "2013-03-29    713\n",
       "2013-04-01    720\n",
       "2014-04-18    708\n",
       "2014-04-21    708\n",
       "2015-04-03    686\n",
       "2015-04-06    679\n",
       "Name: count, dtype: int64"
      ]
     },
     "execution_count": 47,
     "metadata": {},
     "output_type": "execute_result"
    }
   ],
   "source": [
    "df[df.state_holiday == 'b'].date.value_counts().sort_index()\n",
    "# b is a easter holiday"
   ]
  },
  {
   "cell_type": "code",
   "execution_count": null,
   "id": "b7b551a6",
   "metadata": {},
   "outputs": [
    {
     "data": {
      "application/vnd.microsoft.datawrangler.viewer.v0+json": {
       "columns": [
        {
         "name": "date",
         "rawType": "datetime64[ns]",
         "type": "datetime"
        },
        {
         "name": "count",
         "rawType": "int64",
         "type": "integer"
        }
       ],
       "ref": "c60d8112-d892-4f75-8302-3e3e8d7f455e",
       "rows": [
        [
         "2013-12-25 00:00:00",
         "727"
        ],
        [
         "2013-12-26 00:00:00",
         "697"
        ],
        [
         "2014-12-25 00:00:00",
         "590"
        ],
        [
         "2014-12-26 00:00:00",
         "610"
        ]
       ],
       "shape": {
        "columns": 1,
        "rows": 4
       }
      },
      "text/plain": [
       "date\n",
       "2013-12-25    727\n",
       "2013-12-26    697\n",
       "2014-12-25    590\n",
       "2014-12-26    610\n",
       "Name: count, dtype: int64"
      ]
     },
     "execution_count": 48,
     "metadata": {},
     "output_type": "execute_result"
    }
   ],
   "source": [
    "df[df.state_holiday == 'c'].date.value_counts().sort_index()\n",
    "# c is Xmas"
   ]
  },
  {
   "cell_type": "code",
   "execution_count": null,
   "id": "c197e2d1",
   "metadata": {},
   "outputs": [],
   "source": [
    "## so we can say that those stores are in Catalonia, Spain!!!!"
   ]
  },
  {
   "cell_type": "code",
   "execution_count": 54,
   "id": "068441f9",
   "metadata": {},
   "outputs": [
    {
     "data": {
      "application/vnd.microsoft.datawrangler.viewer.v0+json": {
       "columns": [
        {
         "name": "state_holiday",
         "rawType": "object",
         "type": "string"
        },
        {
         "name": "count",
         "rawType": "int64",
         "type": "integer"
        }
       ],
       "ref": "801cca80-b317-46c2-93ca-72ac4ed5ed2d",
       "rows": [
        [
         "a",
         "429"
        ],
        [
         "b",
         "102"
        ],
        [
         "c",
         "48"
        ]
       ],
       "shape": {
        "columns": 1,
        "rows": 3
       }
      },
      "text/plain": [
       "state_holiday\n",
       "a    429\n",
       "b    102\n",
       "c     48\n",
       "Name: count, dtype: int64"
      ]
     },
     "execution_count": 54,
     "metadata": {},
     "output_type": "execute_result"
    }
   ],
   "source": [
    "# look for patterns in state holdiy and open close\n",
    "df[(df.state_holiday != '0') & ((df.open == 1))].state_holiday.value_counts()"
   ]
  },
  {
   "cell_type": "code",
   "execution_count": 57,
   "id": "2ae90157",
   "metadata": {},
   "outputs": [
    {
     "data": {
      "application/vnd.microsoft.datawrangler.viewer.v0+json": {
       "columns": [
        {
         "name": "state_holiday",
         "rawType": "object",
         "type": "string"
        },
        {
         "name": "mean",
         "rawType": "float64",
         "type": "float"
        },
        {
         "name": "sum",
         "rawType": "int64",
         "type": "integer"
        },
        {
         "name": "count",
         "rawType": "int64",
         "type": "integer"
        },
        {
         "name": "std",
         "rawType": "float64",
         "type": "float"
        }
       ],
       "ref": "7538ccb1-bafb-4de5-b5d1-17ebf14b93bb",
       "rows": [
        [
         "0",
         "6957.122912029084",
         "3697272529",
         "531437",
         "3099.131024064646"
        ],
        [
         "a",
         "8452.615384615385",
         "3626172",
         "429",
         "5795.264550406824"
        ],
        [
         "b",
         "10449.764705882353",
         "1065876",
         "102",
         "8293.907236702085"
        ],
        [
         "c",
         "9763.833333333334",
         "468664",
         "48",
         "6239.577608908206"
        ]
       ],
       "shape": {
        "columns": 4,
        "rows": 4
       }
      },
      "text/html": [
       "<div>\n",
       "<style scoped>\n",
       "    .dataframe tbody tr th:only-of-type {\n",
       "        vertical-align: middle;\n",
       "    }\n",
       "\n",
       "    .dataframe tbody tr th {\n",
       "        vertical-align: top;\n",
       "    }\n",
       "\n",
       "    .dataframe thead th {\n",
       "        text-align: right;\n",
       "    }\n",
       "</style>\n",
       "<table border=\"1\" class=\"dataframe\">\n",
       "  <thead>\n",
       "    <tr style=\"text-align: right;\">\n",
       "      <th></th>\n",
       "      <th>mean</th>\n",
       "      <th>sum</th>\n",
       "      <th>count</th>\n",
       "      <th>std</th>\n",
       "    </tr>\n",
       "    <tr>\n",
       "      <th>state_holiday</th>\n",
       "      <th></th>\n",
       "      <th></th>\n",
       "      <th></th>\n",
       "      <th></th>\n",
       "    </tr>\n",
       "  </thead>\n",
       "  <tbody>\n",
       "    <tr>\n",
       "      <th>0</th>\n",
       "      <td>6957.122912</td>\n",
       "      <td>3697272529</td>\n",
       "      <td>531437</td>\n",
       "      <td>3099.131024</td>\n",
       "    </tr>\n",
       "    <tr>\n",
       "      <th>a</th>\n",
       "      <td>8452.615385</td>\n",
       "      <td>3626172</td>\n",
       "      <td>429</td>\n",
       "      <td>5795.264550</td>\n",
       "    </tr>\n",
       "    <tr>\n",
       "      <th>b</th>\n",
       "      <td>10449.764706</td>\n",
       "      <td>1065876</td>\n",
       "      <td>102</td>\n",
       "      <td>8293.907237</td>\n",
       "    </tr>\n",
       "    <tr>\n",
       "      <th>c</th>\n",
       "      <td>9763.833333</td>\n",
       "      <td>468664</td>\n",
       "      <td>48</td>\n",
       "      <td>6239.577609</td>\n",
       "    </tr>\n",
       "  </tbody>\n",
       "</table>\n",
       "</div>"
      ],
      "text/plain": [
       "                       mean         sum   count          std\n",
       "state_holiday                                               \n",
       "0               6957.122912  3697272529  531437  3099.131024\n",
       "a               8452.615385     3626172     429  5795.264550\n",
       "b              10449.764706     1065876     102  8293.907237\n",
       "c               9763.833333      468664      48  6239.577609"
      ]
     },
     "execution_count": 57,
     "metadata": {},
     "output_type": "execute_result"
    }
   ],
   "source": [
    "# look for correlation between state_holiday and sales\n",
    "df[df.open == True].groupby('state_holiday').sales.agg(['mean', 'sum', 'count', 'std'])"
   ]
  },
  {
   "cell_type": "code",
   "execution_count": 58,
   "id": "23d3fb65",
   "metadata": {},
   "outputs": [],
   "source": [
    "# reduce the state holiday to binary 0 and 1\n",
    "df.state_holiday = df.state_holiday.apply(lambda x: False if x == '0' else True)"
   ]
  },
  {
   "cell_type": "code",
   "execution_count": 143,
   "id": "c016557b",
   "metadata": {},
   "outputs": [],
   "source": [
    "# take out he cases where open is false\n",
    "df_o = df.copy().loc[df.open == True].drop('open', axis=1)"
   ]
  },
  {
   "cell_type": "code",
   "execution_count": 144,
   "id": "f77ff7b7",
   "metadata": {},
   "outputs": [
    {
     "data": {
      "application/vnd.microsoft.datawrangler.viewer.v0+json": {
       "columns": [
        {
         "name": "day_of_week",
         "rawType": "int64",
         "type": "integer"
        },
        {
         "name": "mean",
         "rawType": "float64",
         "type": "float"
        },
        {
         "name": "median",
         "rawType": "float64",
         "type": "float"
        },
        {
         "name": "sum",
         "rawType": "int64",
         "type": "integer"
        },
        {
         "name": "count",
         "rawType": "int64",
         "type": "integer"
        },
        {
         "name": "std",
         "rawType": "float64",
         "type": "float"
        }
       ],
       "ref": "80bf35ae-3dd9-41cd-91a1-5bd592e0fc4c",
       "rows": [
        [
         "1",
         "8220.868914464172",
         "7540.0",
         "710735222",
         "86455",
         "3693.07044276512"
        ],
        [
         "2",
         "7088.979370177821",
         "6505.0",
         "642240264",
         "90597",
         "3059.724367419965"
        ],
        [
         "3",
         "6729.3649488693",
         "6213.0",
         "600804432",
         "89281",
         "2774.3077170031283"
        ],
        [
         "4",
         "6777.319016598146",
         "6250.0",
         "575319834",
         "84889",
         "2777.182341075276"
        ],
        [
         "5",
         "7076.695288771152",
         "6584.0",
         "619762820",
         "87578",
         "2765.8338968003095"
        ],
        [
         "6",
         "5878.60629462174",
         "5425.0",
         "534382948",
         "90903",
         "2859.917180773135"
        ],
        [
         "7",
         "8295.599221789884",
         "6965.0",
         "19187721",
         "2313",
         "6211.309371592768"
        ]
       ],
       "shape": {
        "columns": 5,
        "rows": 7
       }
      },
      "text/html": [
       "<div>\n",
       "<style scoped>\n",
       "    .dataframe tbody tr th:only-of-type {\n",
       "        vertical-align: middle;\n",
       "    }\n",
       "\n",
       "    .dataframe tbody tr th {\n",
       "        vertical-align: top;\n",
       "    }\n",
       "\n",
       "    .dataframe thead th {\n",
       "        text-align: right;\n",
       "    }\n",
       "</style>\n",
       "<table border=\"1\" class=\"dataframe\">\n",
       "  <thead>\n",
       "    <tr style=\"text-align: right;\">\n",
       "      <th></th>\n",
       "      <th>mean</th>\n",
       "      <th>median</th>\n",
       "      <th>sum</th>\n",
       "      <th>count</th>\n",
       "      <th>std</th>\n",
       "    </tr>\n",
       "    <tr>\n",
       "      <th>day_of_week</th>\n",
       "      <th></th>\n",
       "      <th></th>\n",
       "      <th></th>\n",
       "      <th></th>\n",
       "      <th></th>\n",
       "    </tr>\n",
       "  </thead>\n",
       "  <tbody>\n",
       "    <tr>\n",
       "      <th>1</th>\n",
       "      <td>8220.868914</td>\n",
       "      <td>7540.0</td>\n",
       "      <td>710735222</td>\n",
       "      <td>86455</td>\n",
       "      <td>3693.070443</td>\n",
       "    </tr>\n",
       "    <tr>\n",
       "      <th>2</th>\n",
       "      <td>7088.979370</td>\n",
       "      <td>6505.0</td>\n",
       "      <td>642240264</td>\n",
       "      <td>90597</td>\n",
       "      <td>3059.724367</td>\n",
       "    </tr>\n",
       "    <tr>\n",
       "      <th>3</th>\n",
       "      <td>6729.364949</td>\n",
       "      <td>6213.0</td>\n",
       "      <td>600804432</td>\n",
       "      <td>89281</td>\n",
       "      <td>2774.307717</td>\n",
       "    </tr>\n",
       "    <tr>\n",
       "      <th>4</th>\n",
       "      <td>6777.319017</td>\n",
       "      <td>6250.0</td>\n",
       "      <td>575319834</td>\n",
       "      <td>84889</td>\n",
       "      <td>2777.182341</td>\n",
       "    </tr>\n",
       "    <tr>\n",
       "      <th>5</th>\n",
       "      <td>7076.695289</td>\n",
       "      <td>6584.0</td>\n",
       "      <td>619762820</td>\n",
       "      <td>87578</td>\n",
       "      <td>2765.833897</td>\n",
       "    </tr>\n",
       "    <tr>\n",
       "      <th>6</th>\n",
       "      <td>5878.606295</td>\n",
       "      <td>5425.0</td>\n",
       "      <td>534382948</td>\n",
       "      <td>90903</td>\n",
       "      <td>2859.917181</td>\n",
       "    </tr>\n",
       "    <tr>\n",
       "      <th>7</th>\n",
       "      <td>8295.599222</td>\n",
       "      <td>6965.0</td>\n",
       "      <td>19187721</td>\n",
       "      <td>2313</td>\n",
       "      <td>6211.309372</td>\n",
       "    </tr>\n",
       "  </tbody>\n",
       "</table>\n",
       "</div>"
      ],
      "text/plain": [
       "                    mean  median        sum  count          std\n",
       "day_of_week                                                    \n",
       "1            8220.868914  7540.0  710735222  86455  3693.070443\n",
       "2            7088.979370  6505.0  642240264  90597  3059.724367\n",
       "3            6729.364949  6213.0  600804432  89281  2774.307717\n",
       "4            6777.319017  6250.0  575319834  84889  2777.182341\n",
       "5            7076.695289  6584.0  619762820  87578  2765.833897\n",
       "6            5878.606295  5425.0  534382948  90903  2859.917181\n",
       "7            8295.599222  6965.0   19187721   2313  6211.309372"
      ]
     },
     "execution_count": 144,
     "metadata": {},
     "output_type": "execute_result"
    }
   ],
   "source": [
    "#show on each day of the week the mean, sum., std of sales and nb_customers_on_day\n",
    "df_o.groupby('day_of_week').sales.agg(['mean', 'median', 'sum', 'count', 'std'])\n"
   ]
  },
  {
   "cell_type": "code",
   "execution_count": 145,
   "id": "fb70e552",
   "metadata": {},
   "outputs": [
    {
     "data": {
      "image/png": "[encoded data removed]",
      "text/plain": [
       "<Figure size 640x480 with 1 Axes>"
      ]
     },
     "metadata": {},
     "output_type": "display_data"
    }
   ],
   "source": [
    "# plot the slales per day of the week\n",
    "sns.barplot(data=df_o, x='day_of_week', y='sales', ci=None)\n",
    "plt.title('Mean Sales per Day of the Week')\n",
    "plt.xlabel('Day of the Week (1=Monday, 7=Sunday)')\n",
    "plt.ylabel('Mean Sales')\n",
    "plt.show()"
   ]
  },
  {
   "cell_type": "code",
   "execution_count": 146,
   "id": "5000b45f",
   "metadata": {},
   "outputs": [
    {
     "data": {
      "application/vnd.microsoft.datawrangler.viewer.v0+json": {
       "columns": [
        {
         "name": "day_of_week",
         "rawType": "int64",
         "type": "integer"
        },
        {
         "name": "mean",
         "rawType": "float64",
         "type": "float"
        },
        {
         "name": "median",
         "rawType": "float64",
         "type": "float"
        },
        {
         "name": "sum",
         "rawType": "int64",
         "type": "integer"
        },
        {
         "name": "count",
         "rawType": "int64",
         "type": "integer"
        },
        {
         "name": "std",
         "rawType": "float64",
         "type": "float"
        }
       ],
       "ref": "084dee01-4e39-444b-bf3d-f663af68592c",
       "rows": [
        [
         "1",
         "855.1773523798508",
         "769.0",
         "73934358",
         "86455",
         "418.8689271700199"
        ],
        [
         "2",
         "770.46490501893",
         "685.0",
         "69801809",
         "90597",
         "388.5847758407469"
        ],
        [
         "3",
         "740.3105811986873",
         "658.0",
         "66095669",
         "89281",
         "369.8753183272494"
        ],
        [
         "4",
         "756.7103747246404",
         "673.0",
         "64236387",
         "84889",
         "380.25255706413645"
        ],
        [
         "5",
         "781.3964237593916",
         "698.0",
         "68433136",
         "87578",
         "382.06946751983764"
        ],
        [
         "6",
         "660.4804791921059",
         "573.0",
         "60039657",
         "90903",
         "386.9295683590291"
        ],
        [
         "7",
         "1455.3082576740164",
         "1279.0",
         "3366128",
         "2313",
         "1105.0704633180828"
        ]
       ],
       "shape": {
        "columns": 5,
        "rows": 7
       }
      },
      "text/html": [
       "<div>\n",
       "<style scoped>\n",
       "    .dataframe tbody tr th:only-of-type {\n",
       "        vertical-align: middle;\n",
       "    }\n",
       "\n",
       "    .dataframe tbody tr th {\n",
       "        vertical-align: top;\n",
       "    }\n",
       "\n",
       "    .dataframe thead th {\n",
       "        text-align: right;\n",
       "    }\n",
       "</style>\n",
       "<table border=\"1\" class=\"dataframe\">\n",
       "  <thead>\n",
       "    <tr style=\"text-align: right;\">\n",
       "      <th></th>\n",
       "      <th>mean</th>\n",
       "      <th>median</th>\n",
       "      <th>sum</th>\n",
       "      <th>count</th>\n",
       "      <th>std</th>\n",
       "    </tr>\n",
       "    <tr>\n",
       "      <th>day_of_week</th>\n",
       "      <th></th>\n",
       "      <th></th>\n",
       "      <th></th>\n",
       "      <th></th>\n",
       "      <th></th>\n",
       "    </tr>\n",
       "  </thead>\n",
       "  <tbody>\n",
       "    <tr>\n",
       "      <th>1</th>\n",
       "      <td>855.177352</td>\n",
       "      <td>769.0</td>\n",
       "      <td>73934358</td>\n",
       "      <td>86455</td>\n",
       "      <td>418.868927</td>\n",
       "    </tr>\n",
       "    <tr>\n",
       "      <th>2</th>\n",
       "      <td>770.464905</td>\n",
       "      <td>685.0</td>\n",
       "      <td>69801809</td>\n",
       "      <td>90597</td>\n",
       "      <td>388.584776</td>\n",
       "    </tr>\n",
       "    <tr>\n",
       "      <th>3</th>\n",
       "      <td>740.310581</td>\n",
       "      <td>658.0</td>\n",
       "      <td>66095669</td>\n",
       "      <td>89281</td>\n",
       "      <td>369.875318</td>\n",
       "    </tr>\n",
       "    <tr>\n",
       "      <th>4</th>\n",
       "      <td>756.710375</td>\n",
       "      <td>673.0</td>\n",
       "      <td>64236387</td>\n",
       "      <td>84889</td>\n",
       "      <td>380.252557</td>\n",
       "    </tr>\n",
       "    <tr>\n",
       "      <th>5</th>\n",
       "      <td>781.396424</td>\n",
       "      <td>698.0</td>\n",
       "      <td>68433136</td>\n",
       "      <td>87578</td>\n",
       "      <td>382.069468</td>\n",
       "    </tr>\n",
       "    <tr>\n",
       "      <th>6</th>\n",
       "      <td>660.480479</td>\n",
       "      <td>573.0</td>\n",
       "      <td>60039657</td>\n",
       "      <td>90903</td>\n",
       "      <td>386.929568</td>\n",
       "    </tr>\n",
       "    <tr>\n",
       "      <th>7</th>\n",
       "      <td>1455.308258</td>\n",
       "      <td>1279.0</td>\n",
       "      <td>3366128</td>\n",
       "      <td>2313</td>\n",
       "      <td>1105.070463</td>\n",
       "    </tr>\n",
       "  </tbody>\n",
       "</table>\n",
       "</div>"
      ],
      "text/plain": [
       "                    mean  median       sum  count          std\n",
       "day_of_week                                                   \n",
       "1             855.177352   769.0  73934358  86455   418.868927\n",
       "2             770.464905   685.0  69801809  90597   388.584776\n",
       "3             740.310581   658.0  66095669  89281   369.875318\n",
       "4             756.710375   673.0  64236387  84889   380.252557\n",
       "5             781.396424   698.0  68433136  87578   382.069468\n",
       "6             660.480479   573.0  60039657  90903   386.929568\n",
       "7            1455.308258  1279.0   3366128   2313  1105.070463"
      ]
     },
     "execution_count": 146,
     "metadata": {},
     "output_type": "execute_result"
    }
   ],
   "source": [
    "df_o.groupby('day_of_week').nb_customers_on_day.agg(['mean', 'median', 'sum', 'count', 'std'])"
   ]
  },
  {
   "cell_type": "code",
   "execution_count": 147,
   "id": "1c21da86",
   "metadata": {},
   "outputs": [],
   "source": [
    "# extract month and year from date\n",
    "df_o['month'] = df_o.date.dt.month\n",
    "df_o['year'] = df_o.date.dt.year"
   ]
  },
  {
   "cell_type": "code",
   "execution_count": 148,
   "id": "5a7a227f",
   "metadata": {},
   "outputs": [
    {
     "data": {
      "application/vnd.microsoft.datawrangler.viewer.v0+json": {
       "columns": [
        {
         "name": "month",
         "rawType": "int32",
         "type": "integer"
        },
        {
         "name": "mean",
         "rawType": "float64",
         "type": "float"
        },
        {
         "name": "median",
         "rawType": "float64",
         "type": "float"
        },
        {
         "name": "sum",
         "rawType": "int64",
         "type": "integer"
        },
        {
         "name": "count",
         "rawType": "int64",
         "type": "integer"
        },
        {
         "name": "std",
         "rawType": "float64",
         "type": "float"
        }
       ],
       "ref": "a1ef3711-f231-4ab7-ad15-e45376d38e27",
       "rows": [
        [
         "1",
         "6560.651141837973",
         "6055.0",
         "356807573",
         "54386",
         "2844.4072526038444"
        ],
        [
         "2",
         "6586.521900049481",
         "6071.0",
         "332784019",
         "50525",
         "2859.2684273244586"
        ],
        [
         "3",
         "6987.994995937662",
         "6393.0",
         "378441857",
         "54156",
         "3124.625664147868"
        ],
        [
         "4",
         "7045.96152873183",
         "6428.0",
         "362084917",
         "51389",
         "3143.2115947649568"
        ],
        [
         "5",
         "7104.199192862371",
         "6583.0",
         "359110165",
         "50549",
         "3009.147039291672"
        ],
        [
         "6",
         "7020.655030289088",
         "6380.0",
         "366225449",
         "52164",
         "3159.156889601337"
        ],
        [
         "7",
         "6956.787438537898",
         "6418.0",
         "374936059",
         "53895",
         "3003.902942861881"
        ],
        [
         "8",
         "6647.1309273534225",
         "6123.0",
         "227650940",
         "34248",
         "2907.805738305822"
        ],
        [
         "9",
         "6558.072342877942",
         "6021.0",
         "216206529",
         "32968",
         "2882.6802257139047"
        ],
        [
         "10",
         "6591.150815379122",
         "6091.0",
         "221489032",
         "33604",
         "2809.7740157901944"
        ],
        [
         "11",
         "7200.468220404384",
         "6703.0",
         "233259168",
         "32395",
         "3020.3706855555965"
        ],
        [
         "12",
         "8615.733465670983",
         "7872.0",
         "273437533",
         "31737",
         "4094.3240212011115"
        ]
       ],
       "shape": {
        "columns": 5,
        "rows": 12
       }
      },
      "text/html": [
       "<div>\n",
       "<style scoped>\n",
       "    .dataframe tbody tr th:only-of-type {\n",
       "        vertical-align: middle;\n",
       "    }\n",
       "\n",
       "    .dataframe tbody tr th {\n",
       "        vertical-align: top;\n",
       "    }\n",
       "\n",
       "    .dataframe thead th {\n",
       "        text-align: right;\n",
       "    }\n",
       "</style>\n",
       "<table border=\"1\" class=\"dataframe\">\n",
       "  <thead>\n",
       "    <tr style=\"text-align: right;\">\n",
       "      <th></th>\n",
       "      <th>mean</th>\n",
       "      <th>median</th>\n",
       "      <th>sum</th>\n",
       "      <th>count</th>\n",
       "      <th>std</th>\n",
       "    </tr>\n",
       "    <tr>\n",
       "      <th>month</th>\n",
       "      <th></th>\n",
       "      <th></th>\n",
       "      <th></th>\n",
       "      <th></th>\n",
       "      <th></th>\n",
       "    </tr>\n",
       "  </thead>\n",
       "  <tbody>\n",
       "    <tr>\n",
       "      <th>1</th>\n",
       "      <td>6560.651142</td>\n",
       "      <td>6055.0</td>\n",
       "      <td>356807573</td>\n",
       "      <td>54386</td>\n",
       "      <td>2844.407253</td>\n",
       "    </tr>\n",
       "    <tr>\n",
       "      <th>2</th>\n",
       "      <td>6586.521900</td>\n",
       "      <td>6071.0</td>\n",
       "      <td>332784019</td>\n",
       "      <td>50525</td>\n",
       "      <td>2859.268427</td>\n",
       "    </tr>\n",
       "    <tr>\n",
       "      <th>3</th>\n",
       "      <td>6987.994996</td>\n",
       "      <td>6393.0</td>\n",
       "      <td>378441857</td>\n",
       "      <td>54156</td>\n",
       "      <td>3124.625664</td>\n",
       "    </tr>\n",
       "    <tr>\n",
       "      <th>4</th>\n",
       "      <td>7045.961529</td>\n",
       "      <td>6428.0</td>\n",
       "      <td>362084917</td>\n",
       "      <td>51389</td>\n",
       "      <td>3143.211595</td>\n",
       "    </tr>\n",
       "    <tr>\n",
       "      <th>5</th>\n",
       "      <td>7104.199193</td>\n",
       "      <td>6583.0</td>\n",
       "      <td>359110165</td>\n",
       "      <td>50549</td>\n",
       "      <td>3009.147039</td>\n",
       "    </tr>\n",
       "    <tr>\n",
       "      <th>6</th>\n",
       "      <td>7020.655030</td>\n",
       "      <td>6380.0</td>\n",
       "      <td>366225449</td>\n",
       "      <td>52164</td>\n",
       "      <td>3159.156890</td>\n",
       "    </tr>\n",
       "    <tr>\n",
       "      <th>7</th>\n",
       "      <td>6956.787439</td>\n",
       "      <td>6418.0</td>\n",
       "      <td>374936059</td>\n",
       "      <td>53895</td>\n",
       "      <td>3003.902943</td>\n",
       "    </tr>\n",
       "    <tr>\n",
       "      <th>8</th>\n",
       "      <td>6647.130927</td>\n",
       "      <td>6123.0</td>\n",
       "      <td>227650940</td>\n",
       "      <td>34248</td>\n",
       "      <td>2907.805738</td>\n",
       "    </tr>\n",
       "    <tr>\n",
       "      <th>9</th>\n",
       "      <td>6558.072343</td>\n",
       "      <td>6021.0</td>\n",
       "      <td>216206529</td>\n",
       "      <td>32968</td>\n",
       "      <td>2882.680226</td>\n",
       "    </tr>\n",
       "    <tr>\n",
       "      <th>10</th>\n",
       "      <td>6591.150815</td>\n",
       "      <td>6091.0</td>\n",
       "      <td>221489032</td>\n",
       "      <td>33604</td>\n",
       "      <td>2809.774016</td>\n",
       "    </tr>\n",
       "    <tr>\n",
       "      <th>11</th>\n",
       "      <td>7200.468220</td>\n",
       "      <td>6703.0</td>\n",
       "      <td>233259168</td>\n",
       "      <td>32395</td>\n",
       "      <td>3020.370686</td>\n",
       "    </tr>\n",
       "    <tr>\n",
       "      <th>12</th>\n",
       "      <td>8615.733466</td>\n",
       "      <td>7872.0</td>\n",
       "      <td>273437533</td>\n",
       "      <td>31737</td>\n",
       "      <td>4094.324021</td>\n",
       "    </tr>\n",
       "  </tbody>\n",
       "</table>\n",
       "</div>"
      ],
      "text/plain": [
       "              mean  median        sum  count          std\n",
       "month                                                    \n",
       "1      6560.651142  6055.0  356807573  54386  2844.407253\n",
       "2      6586.521900  6071.0  332784019  50525  2859.268427\n",
       "3      6987.994996  6393.0  378441857  54156  3124.625664\n",
       "4      7045.961529  6428.0  362084917  51389  3143.211595\n",
       "5      7104.199193  6583.0  359110165  50549  3009.147039\n",
       "6      7020.655030  6380.0  366225449  52164  3159.156890\n",
       "7      6956.787439  6418.0  374936059  53895  3003.902943\n",
       "8      6647.130927  6123.0  227650940  34248  2907.805738\n",
       "9      6558.072343  6021.0  216206529  32968  2882.680226\n",
       "10     6591.150815  6091.0  221489032  33604  2809.774016\n",
       "11     7200.468220  6703.0  233259168  32395  3020.370686\n",
       "12     8615.733466  7872.0  273437533  31737  4094.324021"
      ]
     },
     "execution_count": 148,
     "metadata": {},
     "output_type": "execute_result"
    }
   ],
   "source": [
    "df_o.groupby('month').sales.agg(['mean', 'median', 'sum', 'count', 'std'])\n"
   ]
  },
  {
   "cell_type": "code",
   "execution_count": 149,
   "id": "d03a52b5",
   "metadata": {},
   "outputs": [
    {
     "data": {
      "application/vnd.microsoft.datawrangler.viewer.v0+json": {
       "columns": [
        {
         "name": "year",
         "rawType": "int32",
         "type": "integer"
        },
        {
         "name": "mean",
         "rawType": "float64",
         "type": "float"
        },
        {
         "name": "median",
         "rawType": "float64",
         "type": "float"
        },
        {
         "name": "sum",
         "rawType": "int64",
         "type": "integer"
        },
        {
         "name": "count",
         "rawType": "int64",
         "type": "integer"
        },
        {
         "name": "std",
         "rawType": "float64",
         "type": "float"
        }
       ],
       "ref": "d1c5b5d3-6d51-4b3f-b7fd-8c8eec6b17e8",
       "rows": [
        [
         "2013",
         "6822.53417958198",
         "6227.0",
         "1452251448",
         "212861",
         "3116.5136534454746"
        ],
        [
         "2014",
         "7028.311754275699",
         "6428.0",
         "1375433582",
         "195699",
         "3132.0099995526375"
        ],
        [
         "2015",
         "7085.5058563374805",
         "6524.0",
         "874748211",
         "123456",
         "3033.3763276174254"
        ]
       ],
       "shape": {
        "columns": 5,
        "rows": 3
       }
      },
      "text/html": [
       "<div>\n",
       "<style scoped>\n",
       "    .dataframe tbody tr th:only-of-type {\n",
       "        vertical-align: middle;\n",
       "    }\n",
       "\n",
       "    .dataframe tbody tr th {\n",
       "        vertical-align: top;\n",
       "    }\n",
       "\n",
       "    .dataframe thead th {\n",
       "        text-align: right;\n",
       "    }\n",
       "</style>\n",
       "<table border=\"1\" class=\"dataframe\">\n",
       "  <thead>\n",
       "    <tr style=\"text-align: right;\">\n",
       "      <th></th>\n",
       "      <th>mean</th>\n",
       "      <th>median</th>\n",
       "      <th>sum</th>\n",
       "      <th>count</th>\n",
       "      <th>std</th>\n",
       "    </tr>\n",
       "    <tr>\n",
       "      <th>year</th>\n",
       "      <th></th>\n",
       "      <th></th>\n",
       "      <th></th>\n",
       "      <th></th>\n",
       "      <th></th>\n",
       "    </tr>\n",
       "  </thead>\n",
       "  <tbody>\n",
       "    <tr>\n",
       "      <th>2013</th>\n",
       "      <td>6822.534180</td>\n",
       "      <td>6227.0</td>\n",
       "      <td>1452251448</td>\n",
       "      <td>212861</td>\n",
       "      <td>3116.513653</td>\n",
       "    </tr>\n",
       "    <tr>\n",
       "      <th>2014</th>\n",
       "      <td>7028.311754</td>\n",
       "      <td>6428.0</td>\n",
       "      <td>1375433582</td>\n",
       "      <td>195699</td>\n",
       "      <td>3132.010000</td>\n",
       "    </tr>\n",
       "    <tr>\n",
       "      <th>2015</th>\n",
       "      <td>7085.505856</td>\n",
       "      <td>6524.0</td>\n",
       "      <td>874748211</td>\n",
       "      <td>123456</td>\n",
       "      <td>3033.376328</td>\n",
       "    </tr>\n",
       "  </tbody>\n",
       "</table>\n",
       "</div>"
      ],
      "text/plain": [
       "             mean  median         sum   count          std\n",
       "year                                                      \n",
       "2013  6822.534180  6227.0  1452251448  212861  3116.513653\n",
       "2014  7028.311754  6428.0  1375433582  195699  3132.010000\n",
       "2015  7085.505856  6524.0   874748211  123456  3033.376328"
      ]
     },
     "execution_count": 149,
     "metadata": {},
     "output_type": "execute_result"
    }
   ],
   "source": [
    "df_o.groupby('year').sales.agg(['mean', 'median', 'sum', 'count', 'std'])\n"
   ]
  },
  {
   "cell_type": "code",
   "execution_count": 150,
   "id": "e4a011f1",
   "metadata": {},
   "outputs": [],
   "source": [
    "# extract week of year from date\n",
    "df_o['week_of_year'] = df_o.date.dt.isocalendar().week"
   ]
  },
  {
   "cell_type": "code",
   "execution_count": 151,
   "id": "43a5a321",
   "metadata": {},
   "outputs": [
    {
     "data": {
      "application/vnd.microsoft.datawrangler.viewer.v0+json": {
       "columns": [
        {
         "name": "week_of_year",
         "rawType": "UInt32",
         "type": "integer"
        },
        {
         "name": "mean",
         "rawType": "float64",
         "type": "float"
        },
        {
         "name": "median",
         "rawType": "float64",
         "type": "float"
        },
        {
         "name": "sum",
         "rawType": "int64",
         "type": "integer"
        },
        {
         "name": "count",
         "rawType": "int64",
         "type": "integer"
        },
        {
         "name": "std",
         "rawType": "float64",
         "type": "float"
        }
       ],
       "ref": "e24b360f-fbac-4848-a5b8-a1fca0270e09",
       "rows": [
        [
         "1",
         "6219.5451800957735",
         "5732.0",
         "59744951",
         "9606",
         "2846.7197525021606"
        ],
        [
         "2",
         "7657.960084545972",
         "7189.0",
         "94200567",
         "12301",
         "3160.381426905393"
        ],
        [
         "3",
         "5975.418266941755",
         "5503.5",
         "75302221",
         "12602",
         "2593.0680568870966"
        ],
        [
         "4",
         "6516.252766499482",
         "6050.0",
         "81850651",
         "12561",
         "2740.7203621857384"
        ],
        [
         "5",
         "6350.665953569448",
         "5847.0",
         "80151755",
         "12621",
         "2711.1107042768863"
        ],
        [
         "6",
         "7607.0973381009135",
         "7133.0",
         "95735320",
         "12585",
         "3112.0777474305173"
        ],
        [
         "7",
         "5679.08714648872",
         "5301.0",
         "71488349",
         "12588",
         "2351.987160980758"
        ],
        [
         "8",
         "7236.370837935931",
         "6779.0",
         "91713764",
         "12674",
         "2949.848975227056"
        ],
        [
         "9",
         "5853.52724270776",
         "5368.0",
         "74451013",
         "12719",
         "2466.617792802318"
        ],
        [
         "10",
         "7687.634230063064",
         "7246.0",
         "96302994",
         "12527",
         "3159.41047379352"
        ],
        [
         "11",
         "5646.188839498333",
         "5278.0",
         "71130687",
         "12598",
         "2278.764616097414"
        ],
        [
         "12",
         "7323.849724626279",
         "6869.5",
         "93086130",
         "12710",
         "2921.44418759566"
        ],
        [
         "13",
         "6773.408601259529",
         "6054.5",
         "81741495",
         "12068",
         "3164.979036476081"
        ],
        [
         "14",
         "7918.79247454626",
         "7232.0",
         "89442761",
         "11295",
         "3626.054359340253"
        ],
        [
         "15",
         "6425.5818288197925",
         "5938.5",
         "76875661",
         "11964",
         "2695.014402593029"
        ],
        [
         "16",
         "7308.5090635702945",
         "6752.0",
         "87490162",
         "11971",
         "3335.387989437021"
        ],
        [
         "17",
         "6069.897395091716",
         "5600.0",
         "72468505",
         "11939",
         "2536.0828761976495"
        ],
        [
         "18",
         "8645.949270588235",
         "8202.0",
         "91863211",
         "10625",
         "3411.2321466923686"
        ],
        [
         "19",
         "7469.270243168714",
         "6995.0",
         "89384757",
         "11967",
         "3000.259924920596"
        ],
        [
         "20",
         "6522.640618470539",
         "6020.0",
         "78043395",
         "11965",
         "2766.5590705774894"
        ],
        [
         "21",
         "6908.345663789561",
         "6451.0",
         "84040025",
         "12165",
         "2860.3444015512187"
        ],
        [
         "22",
         "7213.122226297451",
         "6655.5",
         "78666311",
         "10906",
         "3101.984483919172"
        ],
        [
         "23",
         "7976.767477696675",
         "7456.0",
         "98353543",
         "12330",
         "3321.472452715117"
        ],
        [
         "24",
         "6009.2397631557005",
         "5606.0",
         "72056794",
         "11991",
         "2424.2441283077783"
        ],
        [
         "25",
         "7684.761346044162",
         "7207.0",
         "94315076",
         "12273",
         "3126.2863802945544"
        ],
        [
         "26",
         "5799.457894736842",
         "5383.5",
         "73827099",
         "12730",
         "2373.8865165567204"
        ],
        [
         "27",
         "8080.45156184923",
         "7497.0",
         "97005821",
         "12005",
         "3466.1419007831746"
        ],
        [
         "28",
         "5949.404010984439",
         "5523.0",
         "71493988",
         "12017",
         "2436.8959909140963"
        ],
        [
         "29",
         "7643.973365416528",
         "7193.0",
         "92125167",
         "12052",
         "3112.2697815741017"
        ],
        [
         "30",
         "5644.679308608827",
         "5257.0",
         "67273288",
         "11918",
         "2285.5006299875304"
        ],
        [
         "31",
         "8230.16489832007",
         "7778.0",
         "93083165",
         "11310",
         "3182.807212843833"
        ],
        [
         "32",
         "6574.842737249839",
         "6090.0",
         "50922157",
         "7745",
         "2803.918380666753"
        ],
        [
         "33",
         "6734.818027654579",
         "6208.5",
         "51629115",
         "7666",
         "2960.33316567802"
        ],
        [
         "34",
         "6321.489618046655",
         "5713.0",
         "49320262",
         "7802",
         "2909.1196083590157"
        ],
        [
         "35",
         "6831.946141895391",
         "6300.0",
         "52769952",
         "7724",
         "2942.0018370522066"
        ],
        [
         "36",
         "6584.898661816292",
         "5982.0",
         "50683965",
         "7697",
         "3002.8454838044004"
        ],
        [
         "37",
         "6747.591536691383",
         "6261.0",
         "52779661",
         "7822",
         "2885.800339779052"
        ],
        [
         "38",
         "6135.668558163528",
         "5611.5",
         "47575974",
         "7754",
         "2690.9726426943553"
        ],
        [
         "39",
         "6305.149755343807",
         "5868.0",
         "48965793",
         "7766",
         "2636.3487836998056"
        ],
        [
         "40",
         "7354.947582467239",
         "6868.0",
         "48829497",
         "6639",
         "3144.372890613842"
        ],
        [
         "41",
         "7551.892903059913",
         "7094.5",
         "58738623",
         "7778",
         "3059.2560991411315"
        ],
        [
         "42",
         "5474.052233059549",
         "5092.0",
         "42653815",
         "7792",
         "2222.3413095492315"
        ],
        [
         "43",
         "6852.379578102757",
         "6458.0",
         "52948337",
         "7727",
         "2748.540437032306"
        ],
        [
         "44",
         "6287.066561919726",
         "5836.0",
         "44015753",
         "7001",
         "2591.4740904132464"
        ],
        [
         "45",
         "7866.565352294764",
         "7436.0",
         "60847883",
         "7735",
         "3132.9328268960026"
        ],
        [
         "46",
         "6472.864184852375",
         "6038.5",
         "50423612",
         "7790",
         "2640.1560943688332"
        ],
        [
         "47",
         "6853.8750977835725",
         "6350.0",
         "52569222",
         "7670",
         "2870.916073866897"
        ],
        [
         "48",
         "7689.292191112253",
         "7168.5",
         "59868829",
         "7786",
         "3180.4574779545637"
        ],
        [
         "49",
         "9135.956733855437",
         "8579.0",
         "71159967",
         "7789",
         "3697.7456149766426"
        ],
        [
         "50",
         "6867.145560596241",
         "6383.0",
         "52980028",
         "7715",
         "2729.4440309547545"
        ]
       ],
       "shape": {
        "columns": 5,
        "rows": 52
       }
      },
      "text/html": [
       "<div>\n",
       "<style scoped>\n",
       "    .dataframe tbody tr th:only-of-type {\n",
       "        vertical-align: middle;\n",
       "    }\n",
       "\n",
       "    .dataframe tbody tr th {\n",
       "        vertical-align: top;\n",
       "    }\n",
       "\n",
       "    .dataframe thead th {\n",
       "        text-align: right;\n",
       "    }\n",
       "</style>\n",
       "<table border=\"1\" class=\"dataframe\">\n",
       "  <thead>\n",
       "    <tr style=\"text-align: right;\">\n",
       "      <th></th>\n",
       "      <th>mean</th>\n",
       "      <th>median</th>\n",
       "      <th>sum</th>\n",
       "      <th>count</th>\n",
       "      <th>std</th>\n",
       "    </tr>\n",
       "    <tr>\n",
       "      <th>week_of_year</th>\n",
       "      <th></th>\n",
       "      <th></th>\n",
       "      <th></th>\n",
       "      <th></th>\n",
       "      <th></th>\n",
       "    </tr>\n",
       "  </thead>\n",
       "  <tbody>\n",
       "    <tr>\n",
       "      <th>1</th>\n",
       "      <td>6219.545180</td>\n",
       "      <td>5732.0</td>\n",
       "      <td>59744951</td>\n",
       "      <td>9606</td>\n",
       "      <td>2846.719753</td>\n",
       "    </tr>\n",
       "    <tr>\n",
       "      <th>2</th>\n",
       "      <td>7657.960085</td>\n",
       "      <td>7189.0</td>\n",
       "      <td>94200567</td>\n",
       "      <td>12301</td>\n",
       "      <td>3160.381427</td>\n",
       "    </tr>\n",
       "    <tr>\n",
       "      <th>3</th>\n",
       "      <td>5975.418267</td>\n",
       "      <td>5503.5</td>\n",
       "      <td>75302221</td>\n",
       "      <td>12602</td>\n",
       "      <td>2593.068057</td>\n",
       "    </tr>\n",
       "    <tr>\n",
       "      <th>4</th>\n",
       "      <td>6516.252766</td>\n",
       "      <td>6050.0</td>\n",
       "      <td>81850651</td>\n",
       "      <td>12561</td>\n",
       "      <td>2740.720362</td>\n",
       "    </tr>\n",
       "    <tr>\n",
       "      <th>5</th>\n",
       "      <td>6350.665954</td>\n",
       "      <td>5847.0</td>\n",
       "      <td>80151755</td>\n",
       "      <td>12621</td>\n",
       "      <td>2711.110704</td>\n",
       "    </tr>\n",
       "    <tr>\n",
       "      <th>6</th>\n",
       "      <td>7607.097338</td>\n",
       "      <td>7133.0</td>\n",
       "      <td>95735320</td>\n",
       "      <td>12585</td>\n",
       "      <td>3112.077747</td>\n",
       "    </tr>\n",
       "    <tr>\n",
       "      <th>7</th>\n",
       "      <td>5679.087146</td>\n",
       "      <td>5301.0</td>\n",
       "      <td>71488349</td>\n",
       "      <td>12588</td>\n",
       "      <td>2351.987161</td>\n",
       "    </tr>\n",
       "    <tr>\n",
       "      <th>8</th>\n",
       "      <td>7236.370838</td>\n",
       "      <td>6779.0</td>\n",
       "      <td>91713764</td>\n",
       "      <td>12674</td>\n",
       "      <td>2949.848975</td>\n",
       "    </tr>\n",
       "    <tr>\n",
       "      <th>9</th>\n",
       "      <td>5853.527243</td>\n",
       "      <td>5368.0</td>\n",
       "      <td>74451013</td>\n",
       "      <td>12719</td>\n",
       "      <td>2466.617793</td>\n",
       "    </tr>\n",
       "    <tr>\n",
       "      <th>10</th>\n",
       "      <td>7687.634230</td>\n",
       "      <td>7246.0</td>\n",
       "      <td>96302994</td>\n",
       "      <td>12527</td>\n",
       "      <td>3159.410474</td>\n",
       "    </tr>\n",
       "    <tr>\n",
       "      <th>11</th>\n",
       "      <td>5646.188839</td>\n",
       "      <td>5278.0</td>\n",
       "      <td>71130687</td>\n",
       "      <td>12598</td>\n",
       "      <td>2278.764616</td>\n",
       "    </tr>\n",
       "    <tr>\n",
       "      <th>12</th>\n",
       "      <td>7323.849725</td>\n",
       "      <td>6869.5</td>\n",
       "      <td>93086130</td>\n",
       "      <td>12710</td>\n",
       "      <td>2921.444188</td>\n",
       "    </tr>\n",
       "    <tr>\n",
       "      <th>13</th>\n",
       "      <td>6773.408601</td>\n",
       "      <td>6054.5</td>\n",
       "      <td>81741495</td>\n",
       "      <td>12068</td>\n",
       "      <td>3164.979036</td>\n",
       "    </tr>\n",
       "    <tr>\n",
       "      <th>14</th>\n",
       "      <td>7918.792475</td>\n",
       "      <td>7232.0</td>\n",
       "      <td>89442761</td>\n",
       "      <td>11295</td>\n",
       "      <td>3626.054359</td>\n",
       "    </tr>\n",
       "    <tr>\n",
       "      <th>15</th>\n",
       "      <td>6425.581829</td>\n",
       "      <td>5938.5</td>\n",
       "      <td>76875661</td>\n",
       "      <td>11964</td>\n",
       "      <td>2695.014403</td>\n",
       "    </tr>\n",
       "    <tr>\n",
       "      <th>16</th>\n",
       "      <td>7308.509064</td>\n",
       "      <td>6752.0</td>\n",
       "      <td>87490162</td>\n",
       "      <td>11971</td>\n",
       "      <td>3335.387989</td>\n",
       "    </tr>\n",
       "    <tr>\n",
       "      <th>17</th>\n",
       "      <td>6069.897395</td>\n",
       "      <td>5600.0</td>\n",
       "      <td>72468505</td>\n",
       "      <td>11939</td>\n",
       "      <td>2536.082876</td>\n",
       "    </tr>\n",
       "    <tr>\n",
       "      <th>18</th>\n",
       "      <td>8645.949271</td>\n",
       "      <td>8202.0</td>\n",
       "      <td>91863211</td>\n",
       "      <td>10625</td>\n",
       "      <td>3411.232147</td>\n",
       "    </tr>\n",
       "    <tr>\n",
       "      <th>19</th>\n",
       "      <td>7469.270243</td>\n",
       "      <td>6995.0</td>\n",
       "      <td>89384757</td>\n",
       "      <td>11967</td>\n",
       "      <td>3000.259925</td>\n",
       "    </tr>\n",
       "    <tr>\n",
       "      <th>20</th>\n",
       "      <td>6522.640618</td>\n",
       "      <td>6020.0</td>\n",
       "      <td>78043395</td>\n",
       "      <td>11965</td>\n",
       "      <td>2766.559071</td>\n",
       "    </tr>\n",
       "    <tr>\n",
       "      <th>21</th>\n",
       "      <td>6908.345664</td>\n",
       "      <td>6451.0</td>\n",
       "      <td>84040025</td>\n",
       "      <td>12165</td>\n",
       "      <td>2860.344402</td>\n",
       "    </tr>\n",
       "    <tr>\n",
       "      <th>22</th>\n",
       "      <td>7213.122226</td>\n",
       "      <td>6655.5</td>\n",
       "      <td>78666311</td>\n",
       "      <td>10906</td>\n",
       "      <td>3101.984484</td>\n",
       "    </tr>\n",
       "    <tr>\n",
       "      <th>23</th>\n",
       "      <td>7976.767478</td>\n",
       "      <td>7456.0</td>\n",
       "      <td>98353543</td>\n",
       "      <td>12330</td>\n",
       "      <td>3321.472453</td>\n",
       "    </tr>\n",
       "    <tr>\n",
       "      <th>24</th>\n",
       "      <td>6009.239763</td>\n",
       "      <td>5606.0</td>\n",
       "      <td>72056794</td>\n",
       "      <td>11991</td>\n",
       "      <td>2424.244128</td>\n",
       "    </tr>\n",
       "    <tr>\n",
       "      <th>25</th>\n",
       "      <td>7684.761346</td>\n",
       "      <td>7207.0</td>\n",
       "      <td>94315076</td>\n",
       "      <td>12273</td>\n",
       "      <td>3126.286380</td>\n",
       "    </tr>\n",
       "    <tr>\n",
       "      <th>26</th>\n",
       "      <td>5799.457895</td>\n",
       "      <td>5383.5</td>\n",
       "      <td>73827099</td>\n",
       "      <td>12730</td>\n",
       "      <td>2373.886517</td>\n",
       "    </tr>\n",
       "    <tr>\n",
       "      <th>27</th>\n",
       "      <td>8080.451562</td>\n",
       "      <td>7497.0</td>\n",
       "      <td>97005821</td>\n",
       "      <td>12005</td>\n",
       "      <td>3466.141901</td>\n",
       "    </tr>\n",
       "    <tr>\n",
       "      <th>28</th>\n",
       "      <td>5949.404011</td>\n",
       "      <td>5523.0</td>\n",
       "      <td>71493988</td>\n",
       "      <td>12017</td>\n",
       "      <td>2436.895991</td>\n",
       "    </tr>\n",
       "    <tr>\n",
       "      <th>29</th>\n",
       "      <td>7643.973365</td>\n",
       "      <td>7193.0</td>\n",
       "      <td>92125167</td>\n",
       "      <td>12052</td>\n",
       "      <td>3112.269782</td>\n",
       "    </tr>\n",
       "    <tr>\n",
       "      <th>30</th>\n",
       "      <td>5644.679309</td>\n",
       "      <td>5257.0</td>\n",
       "      <td>67273288</td>\n",
       "      <td>11918</td>\n",
       "      <td>2285.500630</td>\n",
       "    </tr>\n",
       "    <tr>\n",
       "      <th>31</th>\n",
       "      <td>8230.164898</td>\n",
       "      <td>7778.0</td>\n",
       "      <td>93083165</td>\n",
       "      <td>11310</td>\n",
       "      <td>3182.807213</td>\n",
       "    </tr>\n",
       "    <tr>\n",
       "      <th>32</th>\n",
       "      <td>6574.842737</td>\n",
       "      <td>6090.0</td>\n",
       "      <td>50922157</td>\n",
       "      <td>7745</td>\n",
       "      <td>2803.918381</td>\n",
       "    </tr>\n",
       "    <tr>\n",
       "      <th>33</th>\n",
       "      <td>6734.818028</td>\n",
       "      <td>6208.5</td>\n",
       "      <td>51629115</td>\n",
       "      <td>7666</td>\n",
       "      <td>2960.333166</td>\n",
       "    </tr>\n",
       "    <tr>\n",
       "      <th>34</th>\n",
       "      <td>6321.489618</td>\n",
       "      <td>5713.0</td>\n",
       "      <td>49320262</td>\n",
       "      <td>7802</td>\n",
       "      <td>2909.119608</td>\n",
       "    </tr>\n",
       "    <tr>\n",
       "      <th>35</th>\n",
       "      <td>6831.946142</td>\n",
       "      <td>6300.0</td>\n",
       "      <td>52769952</td>\n",
       "      <td>7724</td>\n",
       "      <td>2942.001837</td>\n",
       "    </tr>\n",
       "    <tr>\n",
       "      <th>36</th>\n",
       "      <td>6584.898662</td>\n",
       "      <td>5982.0</td>\n",
       "      <td>50683965</td>\n",
       "      <td>7697</td>\n",
       "      <td>3002.845484</td>\n",
       "    </tr>\n",
       "    <tr>\n",
       "      <th>37</th>\n",
       "      <td>6747.591537</td>\n",
       "      <td>6261.0</td>\n",
       "      <td>52779661</td>\n",
       "      <td>7822</td>\n",
       "      <td>2885.800340</td>\n",
       "    </tr>\n",
       "    <tr>\n",
       "      <th>38</th>\n",
       "      <td>6135.668558</td>\n",
       "      <td>5611.5</td>\n",
       "      <td>47575974</td>\n",
       "      <td>7754</td>\n",
       "      <td>2690.972643</td>\n",
       "    </tr>\n",
       "    <tr>\n",
       "      <th>39</th>\n",
       "      <td>6305.149755</td>\n",
       "      <td>5868.0</td>\n",
       "      <td>48965793</td>\n",
       "      <td>7766</td>\n",
       "      <td>2636.348784</td>\n",
       "    </tr>\n",
       "    <tr>\n",
       "      <th>40</th>\n",
       "      <td>7354.947582</td>\n",
       "      <td>6868.0</td>\n",
       "      <td>48829497</td>\n",
       "      <td>6639</td>\n",
       "      <td>3144.372891</td>\n",
       "    </tr>\n",
       "    <tr>\n",
       "      <th>41</th>\n",
       "      <td>7551.892903</td>\n",
       "      <td>7094.5</td>\n",
       "      <td>58738623</td>\n",
       "      <td>7778</td>\n",
       "      <td>3059.256099</td>\n",
       "    </tr>\n",
       "    <tr>\n",
       "      <th>42</th>\n",
       "      <td>5474.052233</td>\n",
       "      <td>5092.0</td>\n",
       "      <td>42653815</td>\n",
       "      <td>7792</td>\n",
       "      <td>2222.341310</td>\n",
       "    </tr>\n",
       "    <tr>\n",
       "      <th>43</th>\n",
       "      <td>6852.379578</td>\n",
       "      <td>6458.0</td>\n",
       "      <td>52948337</td>\n",
       "      <td>7727</td>\n",
       "      <td>2748.540437</td>\n",
       "    </tr>\n",
       "    <tr>\n",
       "      <th>44</th>\n",
       "      <td>6287.066562</td>\n",
       "      <td>5836.0</td>\n",
       "      <td>44015753</td>\n",
       "      <td>7001</td>\n",
       "      <td>2591.474090</td>\n",
       "    </tr>\n",
       "    <tr>\n",
       "      <th>45</th>\n",
       "      <td>7866.565352</td>\n",
       "      <td>7436.0</td>\n",
       "      <td>60847883</td>\n",
       "      <td>7735</td>\n",
       "      <td>3132.932827</td>\n",
       "    </tr>\n",
       "    <tr>\n",
       "      <th>46</th>\n",
       "      <td>6472.864185</td>\n",
       "      <td>6038.5</td>\n",
       "      <td>50423612</td>\n",
       "      <td>7790</td>\n",
       "      <td>2640.156094</td>\n",
       "    </tr>\n",
       "    <tr>\n",
       "      <th>47</th>\n",
       "      <td>6853.875098</td>\n",
       "      <td>6350.0</td>\n",
       "      <td>52569222</td>\n",
       "      <td>7670</td>\n",
       "      <td>2870.916074</td>\n",
       "    </tr>\n",
       "    <tr>\n",
       "      <th>48</th>\n",
       "      <td>7689.292191</td>\n",
       "      <td>7168.5</td>\n",
       "      <td>59868829</td>\n",
       "      <td>7786</td>\n",
       "      <td>3180.457478</td>\n",
       "    </tr>\n",
       "    <tr>\n",
       "      <th>49</th>\n",
       "      <td>9135.956734</td>\n",
       "      <td>8579.0</td>\n",
       "      <td>71159967</td>\n",
       "      <td>7789</td>\n",
       "      <td>3697.745615</td>\n",
       "    </tr>\n",
       "    <tr>\n",
       "      <th>50</th>\n",
       "      <td>6867.145561</td>\n",
       "      <td>6383.0</td>\n",
       "      <td>52980028</td>\n",
       "      <td>7715</td>\n",
       "      <td>2729.444031</td>\n",
       "    </tr>\n",
       "    <tr>\n",
       "      <th>51</th>\n",
       "      <td>10945.453776</td>\n",
       "      <td>10264.0</td>\n",
       "      <td>85363594</td>\n",
       "      <td>7799</td>\n",
       "      <td>4289.669750</td>\n",
       "    </tr>\n",
       "    <tr>\n",
       "      <th>52</th>\n",
       "      <td>8150.988541</td>\n",
       "      <td>7010.0</td>\n",
       "      <td>42678576</td>\n",
       "      <td>5236</td>\n",
       "      <td>4534.914884</td>\n",
       "    </tr>\n",
       "  </tbody>\n",
       "</table>\n",
       "</div>"
      ],
      "text/plain": [
       "                      mean   median       sum  count          std\n",
       "week_of_year                                                     \n",
       "1              6219.545180   5732.0  59744951   9606  2846.719753\n",
       "2              7657.960085   7189.0  94200567  12301  3160.381427\n",
       "3              5975.418267   5503.5  75302221  12602  2593.068057\n",
       "4              6516.252766   6050.0  81850651  12561  2740.720362\n",
       "5              6350.665954   5847.0  80151755  12621  2711.110704\n",
       "6              7607.097338   7133.0  95735320  12585  3112.077747\n",
       "7              5679.087146   5301.0  71488349  12588  2351.987161\n",
       "8              7236.370838   6779.0  91713764  12674  2949.848975\n",
       "9              5853.527243   5368.0  74451013  12719  2466.617793\n",
       "10             7687.634230   7246.0  96302994  12527  3159.410474\n",
       "11             5646.188839   5278.0  71130687  12598  2278.764616\n",
       "12             7323.849725   6869.5  93086130  12710  2921.444188\n",
       "13             6773.408601   6054.5  81741495  12068  3164.979036\n",
       "14             7918.792475   7232.0  89442761  11295  3626.054359\n",
       "15             6425.581829   5938.5  76875661  11964  2695.014403\n",
       "16             7308.509064   6752.0  87490162  11971  3335.387989\n",
       "17             6069.897395   5600.0  72468505  11939  2536.082876\n",
       "18             8645.949271   8202.0  91863211  10625  3411.232147\n",
       "19             7469.270243   6995.0  89384757  11967  3000.259925\n",
       "20             6522.640618   6020.0  78043395  11965  2766.559071\n",
       "21             6908.345664   6451.0  84040025  12165  2860.344402\n",
       "22             7213.122226   6655.5  78666311  10906  3101.984484\n",
       "23             7976.767478   7456.0  98353543  12330  3321.472453\n",
       "24             6009.239763   5606.0  72056794  11991  2424.244128\n",
       "25             7684.761346   7207.0  94315076  12273  3126.286380\n",
       "26             5799.457895   5383.5  73827099  12730  2373.886517\n",
       "27             8080.451562   7497.0  97005821  12005  3466.141901\n",
       "28             5949.404011   5523.0  71493988  12017  2436.895991\n",
       "29             7643.973365   7193.0  92125167  12052  3112.269782\n",
       "30             5644.679309   5257.0  67273288  11918  2285.500630\n",
       "31             8230.164898   7778.0  93083165  11310  3182.807213\n",
       "32             6574.842737   6090.0  50922157   7745  2803.918381\n",
       "33             6734.818028   6208.5  51629115   7666  2960.333166\n",
       "34             6321.489618   5713.0  49320262   7802  2909.119608\n",
       "35             6831.946142   6300.0  52769952   7724  2942.001837\n",
       "36             6584.898662   5982.0  50683965   7697  3002.845484\n",
       "37             6747.591537   6261.0  52779661   7822  2885.800340\n",
       "38             6135.668558   5611.5  47575974   7754  2690.972643\n",
       "39             6305.149755   5868.0  48965793   7766  2636.348784\n",
       "40             7354.947582   6868.0  48829497   6639  3144.372891\n",
       "41             7551.892903   7094.5  58738623   7778  3059.256099\n",
       "42             5474.052233   5092.0  42653815   7792  2222.341310\n",
       "43             6852.379578   6458.0  52948337   7727  2748.540437\n",
       "44             6287.066562   5836.0  44015753   7001  2591.474090\n",
       "45             7866.565352   7436.0  60847883   7735  3132.932827\n",
       "46             6472.864185   6038.5  50423612   7790  2640.156094\n",
       "47             6853.875098   6350.0  52569222   7670  2870.916074\n",
       "48             7689.292191   7168.5  59868829   7786  3180.457478\n",
       "49             9135.956734   8579.0  71159967   7789  3697.745615\n",
       "50             6867.145561   6383.0  52980028   7715  2729.444031\n",
       "51            10945.453776  10264.0  85363594   7799  4289.669750\n",
       "52             8150.988541   7010.0  42678576   5236  4534.914884"
      ]
     },
     "execution_count": 151,
     "metadata": {},
     "output_type": "execute_result"
    }
   ],
   "source": [
    "df_o.groupby('week_of_year').sales.agg(['mean', 'median', 'sum', 'count', 'std'])\n"
   ]
  },
  {
   "cell_type": "code",
   "execution_count": 152,
   "id": "3424209e",
   "metadata": {},
   "outputs": [],
   "source": [
    "# so it seems like the month and thw week of the year is important as well as the day of the week but not the year\n",
    "df_o.drop(['year'], axis=1, inplace=True)"
   ]
  },
  {
   "cell_type": "code",
   "execution_count": 153,
   "id": "3ebdbbb2",
   "metadata": {},
   "outputs": [
    {
     "name": "stdout",
     "output_type": "stream",
     "text": [
      "<class 'pandas.core.frame.DataFrame'>\n",
      "Index: 532016 entries, 425390 to 435829\n",
      "Data columns (total 10 columns):\n",
      " #   Column               Non-Null Count   Dtype         \n",
      "---  ------               --------------   -----         \n",
      " 0   store_ID             532016 non-null  int64         \n",
      " 1   day_of_week          532016 non-null  int64         \n",
      " 2   date                 532016 non-null  datetime64[ns]\n",
      " 3   nb_customers_on_day  532016 non-null  int64         \n",
      " 4   promotion            532016 non-null  bool          \n",
      " 5   state_holiday        532016 non-null  bool          \n",
      " 6   school_holiday       532016 non-null  bool          \n",
      " 7   sales                532016 non-null  int64         \n",
      " 8   month                532016 non-null  int32         \n",
      " 9   week_of_year         532016 non-null  UInt32        \n",
      "dtypes: UInt32(1), bool(3), datetime64[ns](1), int32(1), int64(4)\n",
      "memory usage: 30.4 MB\n"
     ]
    }
   ],
   "source": [
    "df_o.info()"
   ]
  },
  {
   "cell_type": "code",
   "execution_count": 154,
   "id": "853b9bf2",
   "metadata": {},
   "outputs": [
    {
     "data": {
      "image/png": "[encoded data removed]",
      "text/plain": [
       "<Figure size 1000x600 with 2 Axes>"
      ]
     },
     "metadata": {},
     "output_type": "display_data"
    }
   ],
   "source": [
    "# do a heat map of the correlation between the features\n",
    "plt.figure(figsize=(10, 6))\n",
    "sns.heatmap(df_o.corr(), annot=True, fmt=\".2f\", cmap='coolwarm', center=0)\n",
    "plt.title('Feature Correlation Heatmap')\n",
    "plt.show()"
   ]
  },
  {
   "cell_type": "markdown",
   "id": "dcd4260e",
   "metadata": {},
   "source": [
    "## 2. Exploratory Data Analysis (EDA)"
   ]
  },
  {
   "cell_type": "code",
   "execution_count": 155,
   "id": "899aff59",
   "metadata": {},
   "outputs": [
    {
     "name": "stdout",
     "output_type": "stream",
     "text": [
      "=== CATEGORICAL VARIABLES ANALYSIS ===\n",
      "\n",
      "DAY_OF_WEEK Value Counts:\n",
      "day_of_week\n",
      "1    86455\n",
      "2    90597\n",
      "3    89281\n",
      "4    84889\n",
      "5    87578\n",
      "6    90903\n",
      "7     2313\n",
      "Name: count, dtype: int64\n",
      "\n",
      "PROMOTION Value Counts:\n",
      "promotion\n",
      "False    294460\n",
      "True     237556\n",
      "Name: count, dtype: int64\n",
      "\n",
      "STATE_HOLIDAY Value Counts:\n",
      "state_holiday\n",
      "False    531437\n",
      "True        579\n",
      "Name: count, dtype: int64\n",
      "\n",
      "SCHOOL_HOLIDAY Value Counts:\n",
      "school_holiday\n",
      "False    429215\n",
      "True     102801\n",
      "Name: count, dtype: int64\n",
      "\n",
      "MONTH Value Counts:\n",
      "month\n",
      "1     54386\n",
      "2     50525\n",
      "3     54156\n",
      "4     51389\n",
      "5     50549\n",
      "6     52164\n",
      "7     53895\n",
      "8     34248\n",
      "9     32968\n",
      "10    33604\n",
      "11    32395\n",
      "12    31737\n",
      "Name: count, dtype: int64\n",
      "\n",
      "WEEK_OF_YEAR Value Counts:\n",
      "week_of_year\n",
      "1      9606\n",
      "2     12301\n",
      "3     12602\n",
      "4     12561\n",
      "5     12621\n",
      "6     12585\n",
      "7     12588\n",
      "8     12674\n",
      "9     12719\n",
      "10    12527\n",
      "11    12598\n",
      "12    12710\n",
      "13    12068\n",
      "14    11295\n",
      "15    11964\n",
      "16    11971\n",
      "17    11939\n",
      "18    10625\n",
      "19    11967\n",
      "20    11965\n",
      "21    12165\n",
      "22    10906\n",
      "23    12330\n",
      "24    11991\n",
      "25    12273\n",
      "26    12730\n",
      "27    12005\n",
      "28    12017\n",
      "29    12052\n",
      "30    11918\n",
      "31    11310\n",
      "32     7745\n",
      "33     7666\n",
      "34     7802\n",
      "35     7724\n",
      "36     7697\n",
      "37     7822\n",
      "38     7754\n",
      "39     7766\n",
      "40     6639\n",
      "41     7778\n",
      "42     7792\n",
      "43     7727\n",
      "44     7001\n",
      "45     7735\n",
      "46     7790\n",
      "47     7670\n",
      "48     7786\n",
      "49     7789\n",
      "50     7715\n",
      "51     7799\n",
      "52     5236\n",
      "Name: count, dtype: Int64\n"
     ]
    },
    {
     "data": {
      "image/png": "[encoded data removed]",
      "text/plain": [
       "<Figure size 1800x1000 with 6 Axes>"
      ]
     },
     "metadata": {},
     "output_type": "display_data"
    }
   ],
   "source": [
    "# Categorical variables analysis\n",
    "print(\"=== CATEGORICAL VARIABLES ANALYSIS ===\")\n",
    "categorical_cols = ['day_of_week', 'promotion', 'state_holiday', 'school_holiday', 'month', 'week_of_year']\n",
    "\n",
    "for col in categorical_cols:\n",
    "    print(f\"\\n{col.upper()} Value Counts:\")\n",
    "    print(df_o[col].value_counts().sort_index())\n",
    "\n",
    "# Visualize categorical variables vs sales\n",
    "fig, axes = plt.subplots(2, 3, figsize=(18, 10))\n",
    "axes = axes.ravel()\n",
    "\n",
    "for i, col in enumerate(categorical_cols):\n",
    "    if i < len(axes):\n",
    "        df_o.groupby(col)['sales'].mean().plot(kind='bar', ax=axes[i])\n",
    "        axes[i].set_title(f'Average Sales by {col}')\n",
    "        axes[i].set_xlabel(col)\n",
    "        axes[i].set_ylabel('Average Sales')\n",
    "        axes[i].tick_params(axis='x', rotation=45)\n",
    "\n",
    "# Remove empty subplot\n",
    "if len(categorical_cols) < len(axes):\n",
    "    fig.delaxes(axes[-1])\n",
    "\n",
    "plt.tight_layout()\n",
    "plt.show()"
   ]
  },
  {
   "cell_type": "code",
   "execution_count": 156,
   "id": "e454613a",
   "metadata": {},
   "outputs": [],
   "source": [
    "# exploring the sales and nb_customers_on_day relation to the store_id\n",
    "df_st = df_o.copy().groupby('store_ID').agg({'sales': ['mean', 'median', 'std'], 'nb_customers_on_day': ['mean', 'median', 'std']}).reset_index()\n",
    "# for the try we wont use the store_ID as feature"
   ]
  },
  {
   "cell_type": "code",
   "execution_count": 157,
   "id": "cd659cbb",
   "metadata": {},
   "outputs": [
    {
     "data": {
      "application/vnd.microsoft.datawrangler.viewer.v0+json": {
       "columns": [
        {
         "name": "index",
         "rawType": "int64",
         "type": "integer"
        },
        {
         "name": "store_ID",
         "rawType": "int64",
         "type": "integer"
        },
        {
         "name": "sales_mean",
         "rawType": "float64",
         "type": "float"
        },
        {
         "name": "sales_median",
         "rawType": "float64",
         "type": "float"
        },
        {
         "name": "sales_std",
         "rawType": "float64",
         "type": "float"
        },
        {
         "name": "nb_customers_mean",
         "rawType": "float64",
         "type": "float"
        },
        {
         "name": "nb_customers_median",
         "rawType": "float64",
         "type": "float"
        },
        {
         "name": "nb_customers_std",
         "rawType": "float64",
         "type": "float"
        }
       ],
       "ref": "7ee965b8-27c2-412d-bfbc-4c4978dc2a69",
       "rows": [
        [
         "0",
         "1",
         "4769.382642998027",
         "4676.0",
         "986.6285485534405",
         "564.4930966469428",
         "553.0",
         "90.44836412452631"
        ],
        [
         "1",
         "2",
         "4907.566929133858",
         "4760.5",
         "1645.6020179341099",
         "579.3228346456693",
         "574.0",
         "157.86172922054666"
        ],
        [
         "2",
         "3",
         "6886.496",
         "6671.0",
         "2163.1426773259636",
         "746.586",
         "749.0",
         "172.72946923755129"
        ],
        [
         "3",
         "4",
         "9714.846638655463",
         "9554.0",
         "1938.1993639266113",
         "1327.577731092437",
         "1310.5",
         "198.19492862994926"
        ],
        [
         "4",
         "5",
         "4650.859470468432",
         "4597.0",
         "1683.7355428244452",
         "537.3401221995927",
         "562.0",
         "159.5445315583995"
        ],
        [
         "5",
         "6",
         "5411.635789473684",
         "5392.0",
         "1569.9257554481246",
         "626.0926315789474",
         "621.0",
         "162.87847145825984"
        ],
        [
         "6",
         "7",
         "8803.087398373984",
         "8495.0",
         "2369.240287132315",
         "949.2682926829268",
         "940.0",
         "205.16822656588698"
        ],
        [
         "7",
         "8",
         "5505.056680161943",
         "5240.0",
         "1860.2028943477828",
         "657.5870445344129",
         "677.0",
         "175.09728247691697"
        ],
        [
         "8",
         "9",
         "6524.070564516129",
         "6210.0",
         "1577.044936704192",
         "575.6915322580645",
         "560.0",
         "98.22842688012682"
        ],
        [
         "9",
         "10",
         "5556.544933078394",
         "5356.0",
         "1028.2158502294026",
         "593.4837476099426",
         "587.0",
         "80.51075713870348"
        ],
        [
         "10",
         "11",
         "8097.573146292585",
         "7571.0",
         "2351.3516612151225",
         "1136.8717434869739",
         "1118.0",
         "240.7509577922337"
        ],
        [
         "11",
         "12",
         "7663.722222222223",
         "7164.5",
         "2149.254293496594",
         "900.327380952381",
         "874.5",
         "154.40440937511732"
        ],
        [
         "12",
         "13",
         "5037.832460732984",
         "4774.5",
         "1562.9601644936217",
         "383.5549738219895",
         "370.0",
         "85.75804249069931"
        ],
        [
         "13",
         "14",
         "5547.815950920245",
         "5422.0",
         "1476.3737208435764",
         "633.2617586912065",
         "643.0",
         "130.67550298234"
        ],
        [
         "14",
         "15",
         "6718.506302521008",
         "6450.5",
         "1686.137337842162",
         "665.5861344537815",
         "651.0",
         "107.28474133413076"
        ],
        [
         "15",
         "16",
         "7669.25786163522",
         "7531.0",
         "1848.861570734119",
         "852.8406708595388",
         "881.0",
         "168.2163590988005"
        ],
        [
         "16",
         "17",
         "6364.870103092783",
         "6091.0",
         "2555.0443126692544",
         "790.9278350515464",
         "813.0",
         "245.34317538313599"
        ],
        [
         "17",
         "18",
         "6572.054852320675",
         "6446.5",
         "1798.8842352134413",
         "711.8270042194093",
         "715.0",
         "138.82560747344885"
        ],
        [
         "18",
         "19",
         "6519.520661157025",
         "6323.0",
         "1877.16833175451",
         "626.2603305785124",
         "635.0",
         "139.0387228659886"
        ],
        [
         "19",
         "20",
         "7679.04774535809",
         "7764.0",
         "1718.5142280381724",
         "839.6657824933687",
         "882.0",
         "194.57828026405303"
        ],
        [
         "20",
         "21",
         "5431.97148676171",
         "5276.0",
         "1687.9381877651651",
         "514.4541751527495",
         "518.0",
         "104.27367561570883"
        ],
        [
         "21",
         "22",
         "4511.196029776675",
         "4272.0",
         "1132.9408255566807",
         "503.2630272952854",
         "500.0",
         "87.59322140205146"
        ],
        [
         "22",
         "23",
         "5563.541582150101",
         "5314.0",
         "1600.9625854450983",
         "485.31237322515216",
         "475.0",
         "95.33871894635446"
        ],
        [
         "23",
         "24",
         "9251.492277992278",
         "8685.0",
         "2515.9026926216825",
         "828.9633204633204",
         "797.0",
         "158.51729767341004"
        ],
        [
         "24",
         "25",
         "11140.936170212766",
         "10694.5",
         "2989.8521068190885",
         "1563.8085106382978",
         "1542.5",
         "318.1944021181939"
        ],
        [
         "25",
         "26",
         "6605.006109979633",
         "6269.0",
         "1998.8380793124613",
         "551.376782077393",
         "532.0",
         "116.95639598529338"
        ],
        [
         "26",
         "27",
         "9463.732421875",
         "8706.5",
         "2863.5925837995474",
         "1071.10546875",
         "1034.0",
         "213.67890346517888"
        ],
        [
         "27",
         "28",
         "5421.495850622407",
         "5099.5",
         "2140.231701220683",
         "595.0684647302904",
         "599.0",
         "185.33821834175336"
        ],
        [
         "28",
         "29",
         "7382.981288981289",
         "6875.0",
         "2208.948699245678",
         "654.8607068607068",
         "630.0",
         "137.56855614686316"
        ],
        [
         "29",
         "30",
         "5310.288537549407",
         "5160.0",
         "1551.949852380545",
         "779.8596837944664",
         "777.0",
         "178.50833542703134"
        ],
        [
         "30",
         "31",
         "5906.36328125",
         "5700.0",
         "1391.2890673553925",
         "590.435546875",
         "577.5",
         "96.60646938836285"
        ],
        [
         "31",
         "32",
         "4037.258793969849",
         "3899.5",
         "1238.3887377776261",
         "474.1934673366834",
         "485.0",
         "112.51556962526749"
        ],
        [
         "32",
         "33",
         "8456.421906693711",
         "8295.0",
         "1723.831753718696",
         "839.2150101419878",
         "827.0",
         "123.47182300043487"
        ],
        [
         "33",
         "34",
         "8060.163106796116",
         "7758.0",
         "1534.7148775735452",
         "997.3961165048544",
         "972.0",
         "126.58679365281978"
        ],
        [
         "34",
         "35",
         "9697.317982456141",
         "9005.5",
         "3150.748701845549",
         "728.3333333333334",
         "704.0",
         "147.5269938669325"
        ],
        [
         "35",
         "36",
         "9358.897959183674",
         "9224.5",
         "1284.0348629235066",
         "1089.7525510204082",
         "1078.5",
         "112.10708022212918"
        ],
        [
         "36",
         "37",
         "7234.562761506276",
         "7316.0",
         "1948.257630229291",
         "791.3514644351465",
         "785.5",
         "173.75210029332447"
        ],
        [
         "37",
         "38",
         "6017.682978723405",
         "5971.5",
         "1839.766627781632",
         "534.8787234042553",
         "532.5",
         "119.21235900670978"
        ],
        [
         "38",
         "39",
         "4757.4473684210525",
         "4222.0",
         "1848.9730509301864",
         "619.751012145749",
         "589.0",
         "175.99723613963639"
        ],
        [
         "39",
         "40",
         "4927.134453781513",
         "4827.0",
         "1135.1054812056325",
         "666.5378151260504",
         "653.0",
         "130.77300799338266"
        ],
        [
         "40",
         "41",
         "5266.476426799008",
         "5149.0",
         "1317.570218210612",
         "393.74937965260546",
         "392.0",
         "81.26643251119613"
        ],
        [
         "41",
         "42",
         "10225.587525150906",
         "9631.0",
         "2525.2985157470757",
         "1102.5653923541247",
         "1076.0",
         "182.64508221674265"
        ],
        [
         "42",
         "43",
         "6864.136456211812",
         "6638.0",
         "1998.4107092823426",
         "613.6659877800407",
         "611.0",
         "132.5273881743627"
        ],
        [
         "43",
         "44",
         "5517.71743486974",
         "5190.0",
         "1651.3886764050637",
         "642.0701402805611",
         "639.0",
         "139.79917139766695"
        ],
        [
         "44",
         "45",
         "5354.897087378641",
         "5341.0",
         "1347.9391125922905",
         "416.43883495145633",
         "412.0",
         "82.9562120595111"
        ],
        [
         "45",
         "46",
         "5342.3175",
         "5075.0",
         "1580.17068863043",
         "658.8125",
         "656.0",
         "120.71743491094693"
        ],
        [
         "46",
         "47",
         "7070.25641025641",
         "6759.0",
         "1684.2923923646997",
         "913.8954635108481",
         "893.0",
         "151.83966384620658"
        ],
        [
         "47",
         "48",
         "3917.507722007722",
         "3839.5",
         "895.8118342040495",
         "426.523166023166",
         "423.0",
         "83.68185147891687"
        ],
        [
         "48",
         "49",
         "7304.873469387755",
         "7030.0",
         "1748.7863054814534",
         "532.1489795918367",
         "522.0",
         "92.16607359357357"
        ],
        [
         "49",
         "50",
         "4233.485089463221",
         "4197.0",
         "1165.228565063944",
         "358.57852882703776",
         "357.0",
         "73.15707393244506"
        ]
       ],
       "shape": {
        "columns": 7,
        "rows": 1115
       }
      },
      "text/html": [
       "<div>\n",
       "<style scoped>\n",
       "    .dataframe tbody tr th:only-of-type {\n",
       "        vertical-align: middle;\n",
       "    }\n",
       "\n",
       "    .dataframe tbody tr th {\n",
       "        vertical-align: top;\n",
       "    }\n",
       "\n",
       "    .dataframe thead th {\n",
       "        text-align: right;\n",
       "    }\n",
       "</style>\n",
       "<table border=\"1\" class=\"dataframe\">\n",
       "  <thead>\n",
       "    <tr style=\"text-align: right;\">\n",
       "      <th></th>\n",
       "      <th>store_ID</th>\n",
       "      <th>sales_mean</th>\n",
       "      <th>sales_median</th>\n",
       "      <th>sales_std</th>\n",
       "      <th>nb_customers_mean</th>\n",
       "      <th>nb_customers_median</th>\n",
       "      <th>nb_customers_std</th>\n",
       "    </tr>\n",
       "  </thead>\n",
       "  <tbody>\n",
       "    <tr>\n",
       "      <th>0</th>\n",
       "      <td>1</td>\n",
       "      <td>4769.382643</td>\n",
       "      <td>4676.0</td>\n",
       "      <td>986.628549</td>\n",
       "      <td>564.493097</td>\n",
       "      <td>553.0</td>\n",
       "      <td>90.448364</td>\n",
       "    </tr>\n",
       "    <tr>\n",
       "      <th>1</th>\n",
       "      <td>2</td>\n",
       "      <td>4907.566929</td>\n",
       "      <td>4760.5</td>\n",
       "      <td>1645.602018</td>\n",
       "      <td>579.322835</td>\n",
       "      <td>574.0</td>\n",
       "      <td>157.861729</td>\n",
       "    </tr>\n",
       "    <tr>\n",
       "      <th>2</th>\n",
       "      <td>3</td>\n",
       "      <td>6886.496000</td>\n",
       "      <td>6671.0</td>\n",
       "      <td>2163.142677</td>\n",
       "      <td>746.586000</td>\n",
       "      <td>749.0</td>\n",
       "      <td>172.729469</td>\n",
       "    </tr>\n",
       "    <tr>\n",
       "      <th>3</th>\n",
       "      <td>4</td>\n",
       "      <td>9714.846639</td>\n",
       "      <td>9554.0</td>\n",
       "      <td>1938.199364</td>\n",
       "      <td>1327.577731</td>\n",
       "      <td>1310.5</td>\n",
       "      <td>198.194929</td>\n",
       "    </tr>\n",
       "    <tr>\n",
       "      <th>4</th>\n",
       "      <td>5</td>\n",
       "      <td>4650.859470</td>\n",
       "      <td>4597.0</td>\n",
       "      <td>1683.735543</td>\n",
       "      <td>537.340122</td>\n",
       "      <td>562.0</td>\n",
       "      <td>159.544532</td>\n",
       "    </tr>\n",
       "    <tr>\n",
       "      <th>...</th>\n",
       "      <td>...</td>\n",
       "      <td>...</td>\n",
       "      <td>...</td>\n",
       "      <td>...</td>\n",
       "      <td>...</td>\n",
       "      <td>...</td>\n",
       "      <td>...</td>\n",
       "    </tr>\n",
       "    <tr>\n",
       "      <th>1110</th>\n",
       "      <td>1111</td>\n",
       "      <td>5320.891837</td>\n",
       "      <td>5150.5</td>\n",
       "      <td>1581.267305</td>\n",
       "      <td>456.228571</td>\n",
       "      <td>460.5</td>\n",
       "      <td>111.088704</td>\n",
       "    </tr>\n",
       "    <tr>\n",
       "      <th>1111</th>\n",
       "      <td>1112</td>\n",
       "      <td>10143.727459</td>\n",
       "      <td>9421.0</td>\n",
       "      <td>3171.585445</td>\n",
       "      <td>831.645492</td>\n",
       "      <td>796.0</td>\n",
       "      <td>180.155589</td>\n",
       "    </tr>\n",
       "    <tr>\n",
       "      <th>1112</th>\n",
       "      <td>1113</td>\n",
       "      <td>6643.220202</td>\n",
       "      <td>6448.0</td>\n",
       "      <td>1406.900862</td>\n",
       "      <td>720.072727</td>\n",
       "      <td>708.0</td>\n",
       "      <td>120.948942</td>\n",
       "    </tr>\n",
       "    <tr>\n",
       "      <th>1113</th>\n",
       "      <td>1114</td>\n",
       "      <td>20481.172840</td>\n",
       "      <td>20200.0</td>\n",
       "      <td>3490.374584</td>\n",
       "      <td>3182.985597</td>\n",
       "      <td>3172.5</td>\n",
       "      <td>450.536672</td>\n",
       "    </tr>\n",
       "    <tr>\n",
       "      <th>1114</th>\n",
       "      <td>1115</td>\n",
       "      <td>6215.640244</td>\n",
       "      <td>6047.0</td>\n",
       "      <td>1671.696716</td>\n",
       "      <td>430.107724</td>\n",
       "      <td>423.5</td>\n",
       "      <td>91.123864</td>\n",
       "    </tr>\n",
       "  </tbody>\n",
       "</table>\n",
       "<p>1115 rows × 7 columns</p>\n",
       "</div>"
      ],
      "text/plain": [
       "      store_ID    sales_mean  sales_median    sales_std  nb_customers_mean  \\\n",
       "0            1   4769.382643        4676.0   986.628549         564.493097   \n",
       "1            2   4907.566929        4760.5  1645.602018         579.322835   \n",
       "2            3   6886.496000        6671.0  2163.142677         746.586000   \n",
       "3            4   9714.846639        9554.0  1938.199364        1327.577731   \n",
       "4            5   4650.859470        4597.0  1683.735543         537.340122   \n",
       "...        ...           ...           ...          ...                ...   \n",
       "1110      1111   5320.891837        5150.5  1581.267305         456.228571   \n",
       "1111      1112  10143.727459        9421.0  3171.585445         831.645492   \n",
       "1112      1113   6643.220202        6448.0  1406.900862         720.072727   \n",
       "1113      1114  20481.172840       20200.0  3490.374584        3182.985597   \n",
       "1114      1115   6215.640244        6047.0  1671.696716         430.107724   \n",
       "\n",
       "      nb_customers_median  nb_customers_std  \n",
       "0                   553.0         90.448364  \n",
       "1                   574.0        157.861729  \n",
       "2                   749.0        172.729469  \n",
       "3                  1310.5        198.194929  \n",
       "4                   562.0        159.544532  \n",
       "...                   ...               ...  \n",
       "1110                460.5        111.088704  \n",
       "1111                796.0        180.155589  \n",
       "1112                708.0        120.948942  \n",
       "1113               3172.5        450.536672  \n",
       "1114                423.5         91.123864  \n",
       "\n",
       "[1115 rows x 7 columns]"
      ]
     },
     "execution_count": 157,
     "metadata": {},
     "output_type": "execute_result"
    }
   ],
   "source": [
    "df_st.columns = ['store_ID', 'sales_mean', 'sales_median', 'sales_std', 'nb_customers_mean', 'nb_customers_median', 'nb_customers_std']\n",
    "df_st"
   ]
  },
  {
   "cell_type": "code",
   "execution_count": 158,
   "id": "cb68fc0b",
   "metadata": {},
   "outputs": [
    {
     "name": "stdout",
     "output_type": "stream",
     "text": [
      "893.0\n"
     ]
    }
   ],
   "source": [
    "df_st.nb_customers_median.describe()\n",
    "print(df_o.nb_customers_on_day.quantile(0.75))"
   ]
  },
  {
   "cell_type": "code",
   "execution_count": 159,
   "id": "dd147667",
   "metadata": {},
   "outputs": [],
   "source": [
    "df_st['heavy_customer_store'] = df_st['nb_customers_median'] > 893"
   ]
  },
  {
   "cell_type": "code",
   "execution_count": 160,
   "id": "d9dff285",
   "metadata": {},
   "outputs": [],
   "source": [
    "# so add a month is 12 or not \n",
    "df_o['is_december'] = df_o['month'] == 12"
   ]
  },
  {
   "cell_type": "code",
   "execution_count": 161,
   "id": "fb3260df",
   "metadata": {},
   "outputs": [],
   "source": [
    "# show top 10 weeks of the year for sales\n",
    "hight_sales_weeks = df_o.copy().groupby('week_of_year').sales.agg(['mean', 'median', 'sum', 'count', 'std']).sort_values(by='median', ascending=False).head(10).index.to_list()"
   ]
  },
  {
   "cell_type": "code",
   "execution_count": 162,
   "id": "7a8d8e6c",
   "metadata": {},
   "outputs": [],
   "source": [
    "df_o['high_sales_week'] = df_o['week_of_year'].isin(hight_sales_weeks)"
   ]
  },
  {
   "cell_type": "code",
   "execution_count": 163,
   "id": "5967db66",
   "metadata": {},
   "outputs": [],
   "source": [
    "# merge back to df_o\n",
    "df_o = df_o.merge(df_st[['store_ID', 'heavy_customer_store']], on='store_ID', how='left')"
   ]
  },
  {
   "cell_type": "code",
   "execution_count": 164,
   "id": "2b464222",
   "metadata": {},
   "outputs": [
    {
     "data": {
      "image/png": "[encoded data removed]",
      "text/plain": [
       "<Figure size 640x480 with 1 Axes>"
      ]
     },
     "metadata": {},
     "output_type": "display_data"
    }
   ],
   "source": [
    "# no box plot nb_customers_mean\n",
    "df_st.boxplot(column='nb_customers_mean')\n",
    "plt.title('Box Plot of Mean Number of Customers per Store')\n",
    "plt.ylabel('Mean Number of Customers')\n",
    "plt.show()"
   ]
  },
  {
   "cell_type": "code",
   "execution_count": 165,
   "id": "60d146e6",
   "metadata": {},
   "outputs": [
    {
     "data": {
      "image/png": "[encoded data removed]",
      "text/plain": [
       "<Figure size 640x480 with 1 Axes>"
      ]
     },
     "metadata": {},
     "output_type": "display_data"
    }
   ],
   "source": [
    "# now for the median\n",
    "df_st.boxplot(column='nb_customers_median')\n",
    "plt.title('Box Plot of Median Number of Customers per Store')\n",
    "plt.ylabel('Median Number of Customers')\n",
    "plt.show()"
   ]
  },
  {
   "cell_type": "code",
   "execution_count": 166,
   "id": "671b75ed",
   "metadata": {},
   "outputs": [
    {
     "data": {
      "image/png": "[encoded data removed]",
      "text/plain": [
       "<Figure size 640x480 with 1 Axes>"
      ]
     },
     "metadata": {},
     "output_type": "display_data"
    },
    {
     "name": "stdout",
     "output_type": "stream",
     "text": [
      "count    532016.000000\n",
      "mean       6959.251679\n",
      "std        3105.241710\n",
      "min           0.000000\n",
      "25%        4861.000000\n",
      "50%        6372.000000\n",
      "75%        8365.000000\n",
      "max       41551.000000\n",
      "Name: sales, dtype: float64\n",
      "99th percentile: 17786.0\n"
     ]
    }
   ],
   "source": [
    "df_o.sales.hist(bins=50)\n",
    "plt.title('Histogram of Sales')\n",
    "plt.xlabel('Sales')\n",
    "plt.ylabel('Frequency')\n",
    "plt.show()\n",
    "print(df_o.sales.describe())\n",
    "#print the the 99th percentile)\n",
    "print(f\"99th percentile: {df_o.sales.quantile(0.99)}\")"
   ]
  },
  {
   "cell_type": "code",
   "execution_count": 167,
   "id": "619151e1",
   "metadata": {},
   "outputs": [
    {
     "data": {
      "image/png": "[encoded data removed]",
      "text/plain": [
       "<Figure size 640x480 with 1 Axes>"
      ]
     },
     "metadata": {},
     "output_type": "display_data"
    },
    {
     "name": "stdout",
     "output_type": "stream",
     "text": [
      "count    532016.000000\n",
      "mean        762.960407\n",
      "std         400.736508\n",
      "min           0.000000\n",
      "25%         519.000000\n",
      "50%         676.000000\n",
      "75%         893.000000\n",
      "max        5458.000000\n",
      "Name: nb_customers_on_day, dtype: float64\n",
      "99th percentile: 2414.0\n"
     ]
    }
   ],
   "source": [
    "df_o.nb_customers_on_day.hist(bins=50)\n",
    "plt.title('Histogram of Number of Customers per Day')\n",
    "plt.xlabel('Number of Customers')\n",
    "plt.ylabel('Frequency')\n",
    "plt.show()\n",
    "print(df_o.nb_customers_on_day.describe())\n",
    "#print the the 99th percentile)\n",
    "print(f\"99th percentile: {df_o.nb_customers_on_day.quantile(0.99)}\")"
   ]
  },
  {
   "cell_type": "code",
   "execution_count": 168,
   "id": "85bed06c",
   "metadata": {},
   "outputs": [],
   "source": [
    "# not going to do a an outliers cutting for now "
   ]
  },
  {
   "cell_type": "code",
   "execution_count": 169,
   "id": "155ba542",
   "metadata": {},
   "outputs": [],
   "source": [
    "# log transform sales and nb_customers_on_day\n",
    "df_o['log_sales'] = np.log1p(df_o['sales'])\n",
    "df_o['log_nb_customers_on_day'] = np.log1p(df_o['nb_customers_on_day'])"
   ]
  },
  {
   "cell_type": "code",
   "execution_count": 170,
   "id": "61684593",
   "metadata": {},
   "outputs": [
    {
     "data": {
      "application/vnd.microsoft.datawrangler.viewer.v0+json": {
       "columns": [
        {
         "name": "index",
         "rawType": "int64",
         "type": "integer"
        },
        {
         "name": "store_ID",
         "rawType": "int64",
         "type": "integer"
        },
        {
         "name": "day_of_week",
         "rawType": "int64",
         "type": "integer"
        },
        {
         "name": "date",
         "rawType": "datetime64[ns]",
         "type": "datetime"
        },
        {
         "name": "nb_customers_on_day",
         "rawType": "int64",
         "type": "integer"
        },
        {
         "name": "promotion",
         "rawType": "bool",
         "type": "boolean"
        },
        {
         "name": "state_holiday",
         "rawType": "bool",
         "type": "boolean"
        },
        {
         "name": "school_holiday",
         "rawType": "bool",
         "type": "boolean"
        },
        {
         "name": "sales",
         "rawType": "int64",
         "type": "integer"
        },
        {
         "name": "month",
         "rawType": "int32",
         "type": "integer"
        },
        {
         "name": "week_of_year",
         "rawType": "UInt32",
         "type": "integer"
        },
        {
         "name": "is_december",
         "rawType": "bool",
         "type": "boolean"
        },
        {
         "name": "high_sales_week",
         "rawType": "boolean",
         "type": "boolean"
        },
        {
         "name": "heavy_customer_store",
         "rawType": "bool",
         "type": "boolean"
        },
        {
         "name": "log_sales",
         "rawType": "float64",
         "type": "float"
        },
        {
         "name": "log_nb_customers_on_day",
         "rawType": "float64",
         "type": "float"
        }
       ],
       "ref": "78e1f2ea-6978-47a4-8a48-52b3bfead848",
       "rows": [
        [
         "0",
         "366",
         "4",
         "2013-04-18 00:00:00",
         "517",
         "False",
         "False",
         "False",
         "4422",
         "4",
         "16",
         "False",
         "False",
         "False",
         "8.394573477868327",
         "6.249975242259483"
        ],
        [
         "1",
         "394",
         "6",
         "2015-04-11 00:00:00",
         "694",
         "False",
         "False",
         "False",
         "8297",
         "4",
         "15",
         "False",
         "False",
         "False",
         "9.023769800892813",
         "6.543911845564792"
        ],
        [
         "2",
         "807",
         "4",
         "2013-08-29 00:00:00",
         "970",
         "True",
         "False",
         "False",
         "9729",
         "8",
         "35",
         "False",
         "False",
         "True",
         "9.18296917518005",
         "6.878326468291325"
        ],
        [
         "3",
         "802",
         "2",
         "2013-05-28 00:00:00",
         "473",
         "True",
         "False",
         "False",
         "6513",
         "5",
         "22",
         "False",
         "False",
         "False",
         "8.781708985836179",
         "6.161207321695077"
        ],
        [
         "4",
         "726",
         "4",
         "2013-10-10 00:00:00",
         "1068",
         "True",
         "False",
         "False",
         "10882",
         "10",
         "41",
         "False",
         "False",
         "True",
         "9.294957217696062",
         "6.974478911025045"
        ],
        [
         "5",
         "674",
         "2",
         "2013-03-19 00:00:00",
         "1016",
         "True",
         "False",
         "False",
         "8406",
         "3",
         "12",
         "False",
         "False",
         "True",
         "9.036819971135296",
         "6.92461239604856"
        ],
        [
         "6",
         "27",
         "3",
         "2014-07-16 00:00:00",
         "1106",
         "True",
         "False",
         "True",
         "11162",
         "7",
         "29",
         "False",
         "False",
         "True",
         "9.320360017014732",
         "7.009408932708637"
        ],
        [
         "7",
         "347",
         "6",
         "2013-05-11 00:00:00",
         "448",
         "False",
         "False",
         "False",
         "5559",
         "5",
         "19",
         "False",
         "False",
         "False",
         "8.623353387244627",
         "6.1070228877422545"
        ],
        [
         "8",
         "288",
         "2",
         "2013-06-25 00:00:00",
         "291",
         "False",
         "False",
         "False",
         "3997",
         "6",
         "26",
         "False",
         "False",
         "False",
         "8.293549515060345",
         "5.676753802268282"
        ],
        [
         "9",
         "870",
         "5",
         "2014-03-28 00:00:00",
         "839",
         "False",
         "False",
         "False",
         "6267",
         "3",
         "13",
         "False",
         "False",
         "True",
         "8.74321260347591",
         "6.733401891837359"
        ],
        [
         "10",
         "703",
         "6",
         "2014-09-27 00:00:00",
         "215",
         "False",
         "False",
         "False",
         "1953",
         "9",
         "39",
         "False",
         "False",
         "False",
         "7.577633832602728",
         "5.375278407684165"
        ],
        [
         "11",
         "578",
         "2",
         "2013-05-21 00:00:00",
         "824",
         "False",
         "False",
         "False",
         "8218",
         "5",
         "21",
         "False",
         "False",
         "False",
         "9.0142038261485",
         "6.715383386334681"
        ],
        [
         "12",
         "447",
         "1",
         "2013-07-01 00:00:00",
         "773",
         "True",
         "False",
         "True",
         "7205",
         "7",
         "27",
         "False",
         "True",
         "False",
         "8.882669291308039",
         "6.651571873589727"
        ],
        [
         "13",
         "382",
         "3",
         "2013-12-18 00:00:00",
         "957",
         "True",
         "False",
         "False",
         "14553",
         "12",
         "51",
         "True",
         "True",
         "False",
         "9.585621148907032",
         "6.86484777797086"
        ],
        [
         "14",
         "66",
         "3",
         "2015-06-10 00:00:00",
         "442",
         "False",
         "False",
         "False",
         "5188",
         "6",
         "24",
         "False",
         "False",
         "False",
         "8.55429627936774",
         "6.093569770045136"
        ],
        [
         "15",
         "437",
         "6",
         "2015-03-28 00:00:00",
         "1239",
         "False",
         "False",
         "False",
         "12770",
         "3",
         "13",
         "False",
         "False",
         "False",
         "9.454932254496262",
         "7.122866658599083"
        ],
        [
         "16",
         "142",
         "3",
         "2015-05-06 00:00:00",
         "609",
         "True",
         "False",
         "False",
         "4994",
         "5",
         "19",
         "False",
         "False",
         "False",
         "8.516192691082654",
         "6.413458957167357"
        ],
        [
         "17",
         "369",
         "4",
         "2014-06-12 00:00:00",
         "501",
         "False",
         "False",
         "False",
         "5709",
         "6",
         "24",
         "False",
         "False",
         "False",
         "8.649974302650056",
         "6.218600119691729"
        ],
        [
         "18",
         "171",
         "6",
         "2014-05-10 00:00:00",
         "641",
         "False",
         "False",
         "False",
         "6295",
         "5",
         "19",
         "False",
         "False",
         "False",
         "8.74766979009724",
         "6.464588303689961"
        ],
        [
         "19",
         "499",
         "6",
         "2014-12-27 00:00:00",
         "925",
         "False",
         "False",
         "False",
         "6202",
         "12",
         "52",
         "True",
         "False",
         "False",
         "8.732788324973118",
         "6.8308742346461795"
        ],
        [
         "20",
         "235",
         "3",
         "2015-02-18 00:00:00",
         "488",
         "True",
         "False",
         "False",
         "6330",
         "2",
         "8",
         "False",
         "False",
         "False",
         "8.753213480544126",
         "6.192362489474872"
        ],
        [
         "21",
         "936",
         "1",
         "2014-02-17 00:00:00",
         "1096",
         "True",
         "False",
         "False",
         "9263",
         "2",
         "8",
         "False",
         "False",
         "False",
         "9.133891199812776",
         "7.00033446027523"
        ],
        [
         "22",
         "533",
         "3",
         "2013-09-18 00:00:00",
         "774",
         "False",
         "False",
         "False",
         "7304",
         "9",
         "38",
         "False",
         "False",
         "True",
         "8.8963143241848",
         "6.652863029353347"
        ],
        [
         "23",
         "638",
         "3",
         "2013-06-19 00:00:00",
         "533",
         "True",
         "False",
         "False",
         "6474",
         "6",
         "25",
         "False",
         "True",
         "False",
         "8.775703886567738",
         "6.280395838960195"
        ],
        [
         "24",
         "632",
         "1",
         "2014-06-30 00:00:00",
         "1142",
         "True",
         "False",
         "False",
         "10317",
         "6",
         "27",
         "False",
         "True",
         "False",
         "9.241645221804594",
         "7.04141166379481"
        ],
        [
         "25",
         "849",
         "5",
         "2014-06-06 00:00:00",
         "997",
         "True",
         "False",
         "False",
         "9366",
         "6",
         "23",
         "False",
         "True",
         "False",
         "9.14494815320913",
         "6.905753276311464"
        ],
        [
         "26",
         "5",
         "3",
         "2015-07-29 00:00:00",
         "658",
         "True",
         "False",
         "True",
         "5899",
         "7",
         "31",
         "False",
         "True",
         "False",
         "8.68270762989381",
         "6.490723534502507"
        ],
        [
         "27",
         "626",
         "4",
         "2014-05-15 00:00:00",
         "726",
         "False",
         "False",
         "False",
         "7565",
         "5",
         "20",
         "False",
         "False",
         "False",
         "8.931419805192975",
         "6.588926477533519"
        ],
        [
         "28",
         "328",
         "6",
         "2014-12-06 00:00:00",
         "402",
         "False",
         "False",
         "False",
         "3632",
         "12",
         "49",
         "True",
         "True",
         "False",
         "8.197814032221203",
         "5.998936561946683"
        ],
        [
         "29",
         "943",
         "1",
         "2015-03-09 00:00:00",
         "538",
         "False",
         "False",
         "False",
         "5452",
         "3",
         "11",
         "False",
         "False",
         "False",
         "8.60392119492606",
         "6.289715570908998"
        ],
        [
         "30",
         "78",
         "2",
         "2015-05-05 00:00:00",
         "568",
         "True",
         "False",
         "False",
         "4306",
         "5",
         "19",
         "False",
         "False",
         "False",
         "8.36799688505411",
         "6.343880434126331"
        ],
        [
         "31",
         "800",
         "5",
         "2013-10-18 00:00:00",
         "460",
         "False",
         "False",
         "True",
         "4120",
         "10",
         "42",
         "False",
         "False",
         "False",
         "8.323851131338817",
         "6.133398042996649"
        ],
        [
         "32",
         "699",
         "6",
         "2015-04-25 00:00:00",
         "791",
         "False",
         "False",
         "False",
         "6959",
         "4",
         "17",
         "False",
         "False",
         "True",
         "8.847934753328465",
         "6.674561391814426"
        ],
        [
         "33",
         "632",
         "3",
         "2015-03-04 00:00:00",
         "924",
         "True",
         "False",
         "True",
         "7970",
         "3",
         "10",
         "False",
         "True",
         "False",
         "8.983565234427923",
         "6.829793737512425"
        ],
        [
         "34",
         "870",
         "5",
         "2015-06-19 00:00:00",
         "914",
         "True",
         "False",
         "False",
         "7323",
         "6",
         "25",
         "False",
         "True",
         "True",
         "8.898911905794401",
         "6.818924065275521"
        ],
        [
         "35",
         "1083",
         "1",
         "2013-10-28 00:00:00",
         "266",
         "False",
         "False",
         "False",
         "3506",
         "10",
         "44",
         "False",
         "False",
         "False",
         "8.162516250140179",
         "5.58724865840025"
        ],
        [
         "36",
         "996",
         "6",
         "2014-04-19 00:00:00",
         "655",
         "False",
         "False",
         "False",
         "4974",
         "4",
         "16",
         "False",
         "False",
         "False",
         "8.512180649592693",
         "6.486160788944089"
        ],
        [
         "37",
         "716",
         "2",
         "2013-01-15 00:00:00",
         "383",
         "False",
         "False",
         "False",
         "4263",
         "1",
         "3",
         "False",
         "False",
         "False",
         "8.357962965845681",
         "5.950642552587727"
        ],
        [
         "38",
         "420",
         "2",
         "2015-02-10 00:00:00",
         "386",
         "False",
         "False",
         "False",
         "3397",
         "2",
         "7",
         "False",
         "False",
         "False",
         "8.130942302231878",
         "5.958424693029782"
        ],
        [
         "39",
         "789",
         "3",
         "2014-01-08 00:00:00",
         "541",
         "True",
         "False",
         "False",
         "3849",
         "1",
         "2",
         "False",
         "False",
         "False",
         "8.25582842728183",
         "6.295266001439646"
        ],
        [
         "40",
         "924",
         "4",
         "2014-06-26 00:00:00",
         "375",
         "False",
         "False",
         "False",
         "3585",
         "6",
         "26",
         "False",
         "False",
         "False",
         "8.184792654165078",
         "5.929589143389895"
        ],
        [
         "41",
         "687",
         "3",
         "2013-11-13 00:00:00",
         "582",
         "False",
         "False",
         "False",
         "5765",
         "11",
         "46",
         "False",
         "False",
         "False",
         "8.659733878198347",
         "6.368187186350492"
        ],
        [
         "42",
         "374",
         "2",
         "2014-04-22 00:00:00",
         "911",
         "False",
         "False",
         "True",
         "6487",
         "4",
         "17",
         "False",
         "False",
         "False",
         "8.77770959579525",
         "6.815639990074331"
        ],
        [
         "43",
         "290",
         "6",
         "2013-11-09 00:00:00",
         "483",
         "False",
         "False",
         "False",
         "4703",
         "11",
         "45",
         "False",
         "True",
         "False",
         "8.456168489578463",
         "6.182084906716632"
        ],
        [
         "44",
         "400",
         "3",
         "2014-11-19 00:00:00",
         "1109",
         "False",
         "False",
         "False",
         "7635",
         "11",
         "47",
         "False",
         "False",
         "True",
         "8.940629184845639",
         "7.01211529430638"
        ],
        [
         "45",
         "552",
         "5",
         "2014-03-07 00:00:00",
         "743",
         "True",
         "False",
         "False",
         "8788",
         "3",
         "10",
         "False",
         "True",
         "False",
         "9.081256218564645",
         "6.612041034833092"
        ],
        [
         "46",
         "1058",
         "5",
         "2015-03-27 00:00:00",
         "737",
         "False",
         "False",
         "False",
         "7721",
         "3",
         "13",
         "False",
         "False",
         "False",
         "8.951828676824181",
         "6.6039438246004725"
        ],
        [
         "47",
         "319",
         "3",
         "2013-11-13 00:00:00",
         "816",
         "False",
         "False",
         "False",
         "6640",
         "11",
         "46",
         "False",
         "False",
         "False",
         "8.801017833540714",
         "6.705639094860003"
        ],
        [
         "48",
         "264",
         "1",
         "2014-12-15 00:00:00",
         "1326",
         "True",
         "False",
         "False",
         "11922",
         "12",
         "51",
         "True",
         "True",
         "True",
         "9.386224586806131",
         "7.190676034332207"
        ],
        [
         "49",
         "779",
         "2",
         "2015-02-10 00:00:00",
         "634",
         "False",
         "False",
         "True",
         "5379",
         "2",
         "7",
         "False",
         "False",
         "False",
         "8.59044365315583",
         "6.453624998892692"
        ]
       ],
       "shape": {
        "columns": 15,
        "rows": 532016
       }
      },
      "text/html": [
       "<div>\n",
       "<style scoped>\n",
       "    .dataframe tbody tr th:only-of-type {\n",
       "        vertical-align: middle;\n",
       "    }\n",
       "\n",
       "    .dataframe tbody tr th {\n",
       "        vertical-align: top;\n",
       "    }\n",
       "\n",
       "    .dataframe thead th {\n",
       "        text-align: right;\n",
       "    }\n",
       "</style>\n",
       "<table border=\"1\" class=\"dataframe\">\n",
       "  <thead>\n",
       "    <tr style=\"text-align: right;\">\n",
       "      <th></th>\n",
       "      <th>store_ID</th>\n",
       "      <th>day_of_week</th>\n",
       "      <th>date</th>\n",
       "      <th>nb_customers_on_day</th>\n",
       "      <th>promotion</th>\n",
       "      <th>state_holiday</th>\n",
       "      <th>school_holiday</th>\n",
       "      <th>sales</th>\n",
       "      <th>month</th>\n",
       "      <th>week_of_year</th>\n",
       "      <th>is_december</th>\n",
       "      <th>high_sales_week</th>\n",
       "      <th>heavy_customer_store</th>\n",
       "      <th>log_sales</th>\n",
       "      <th>log_nb_customers_on_day</th>\n",
       "    </tr>\n",
       "  </thead>\n",
       "  <tbody>\n",
       "    <tr>\n",
       "      <th>0</th>\n",
       "      <td>366</td>\n",
       "      <td>4</td>\n",
       "      <td>2013-04-18</td>\n",
       "      <td>517</td>\n",
       "      <td>False</td>\n",
       "      <td>False</td>\n",
       "      <td>False</td>\n",
       "      <td>4422</td>\n",
       "      <td>4</td>\n",
       "      <td>16</td>\n",
       "      <td>False</td>\n",
       "      <td>False</td>\n",
       "      <td>False</td>\n",
       "      <td>8.394573</td>\n",
       "      <td>6.249975</td>\n",
       "    </tr>\n",
       "    <tr>\n",
       "      <th>1</th>\n",
       "      <td>394</td>\n",
       "      <td>6</td>\n",
       "      <td>2015-04-11</td>\n",
       "      <td>694</td>\n",
       "      <td>False</td>\n",
       "      <td>False</td>\n",
       "      <td>False</td>\n",
       "      <td>8297</td>\n",
       "      <td>4</td>\n",
       "      <td>15</td>\n",
       "      <td>False</td>\n",
       "      <td>False</td>\n",
       "      <td>False</td>\n",
       "      <td>9.023770</td>\n",
       "      <td>6.543912</td>\n",
       "    </tr>\n",
       "    <tr>\n",
       "      <th>2</th>\n",
       "      <td>807</td>\n",
       "      <td>4</td>\n",
       "      <td>2013-08-29</td>\n",
       "      <td>970</td>\n",
       "      <td>True</td>\n",
       "      <td>False</td>\n",
       "      <td>False</td>\n",
       "      <td>9729</td>\n",
       "      <td>8</td>\n",
       "      <td>35</td>\n",
       "      <td>False</td>\n",
       "      <td>False</td>\n",
       "      <td>True</td>\n",
       "      <td>9.182969</td>\n",
       "      <td>6.878326</td>\n",
       "    </tr>\n",
       "    <tr>\n",
       "      <th>3</th>\n",
       "      <td>802</td>\n",
       "      <td>2</td>\n",
       "      <td>2013-05-28</td>\n",
       "      <td>473</td>\n",
       "      <td>True</td>\n",
       "      <td>False</td>\n",
       "      <td>False</td>\n",
       "      <td>6513</td>\n",
       "      <td>5</td>\n",
       "      <td>22</td>\n",
       "      <td>False</td>\n",
       "      <td>False</td>\n",
       "      <td>False</td>\n",
       "      <td>8.781709</td>\n",
       "      <td>6.161207</td>\n",
       "    </tr>\n",
       "    <tr>\n",
       "      <th>4</th>\n",
       "      <td>726</td>\n",
       "      <td>4</td>\n",
       "      <td>2013-10-10</td>\n",
       "      <td>1068</td>\n",
       "      <td>True</td>\n",
       "      <td>False</td>\n",
       "      <td>False</td>\n",
       "      <td>10882</td>\n",
       "      <td>10</td>\n",
       "      <td>41</td>\n",
       "      <td>False</td>\n",
       "      <td>False</td>\n",
       "      <td>True</td>\n",
       "      <td>9.294957</td>\n",
       "      <td>6.974479</td>\n",
       "    </tr>\n",
       "    <tr>\n",
       "      <th>...</th>\n",
       "      <td>...</td>\n",
       "      <td>...</td>\n",
       "      <td>...</td>\n",
       "      <td>...</td>\n",
       "      <td>...</td>\n",
       "      <td>...</td>\n",
       "      <td>...</td>\n",
       "      <td>...</td>\n",
       "      <td>...</td>\n",
       "      <td>...</td>\n",
       "      <td>...</td>\n",
       "      <td>...</td>\n",
       "      <td>...</td>\n",
       "      <td>...</td>\n",
       "      <td>...</td>\n",
       "    </tr>\n",
       "    <tr>\n",
       "      <th>532011</th>\n",
       "      <td>77</td>\n",
       "      <td>6</td>\n",
       "      <td>2015-01-17</td>\n",
       "      <td>701</td>\n",
       "      <td>False</td>\n",
       "      <td>False</td>\n",
       "      <td>False</td>\n",
       "      <td>8219</td>\n",
       "      <td>1</td>\n",
       "      <td>3</td>\n",
       "      <td>False</td>\n",
       "      <td>False</td>\n",
       "      <td>False</td>\n",
       "      <td>9.014325</td>\n",
       "      <td>6.553933</td>\n",
       "    </tr>\n",
       "    <tr>\n",
       "      <th>532012</th>\n",
       "      <td>409</td>\n",
       "      <td>6</td>\n",
       "      <td>2013-10-26</td>\n",
       "      <td>483</td>\n",
       "      <td>False</td>\n",
       "      <td>False</td>\n",
       "      <td>False</td>\n",
       "      <td>4553</td>\n",
       "      <td>10</td>\n",
       "      <td>43</td>\n",
       "      <td>False</td>\n",
       "      <td>False</td>\n",
       "      <td>False</td>\n",
       "      <td>8.423761</td>\n",
       "      <td>6.182085</td>\n",
       "    </tr>\n",
       "    <tr>\n",
       "      <th>532013</th>\n",
       "      <td>97</td>\n",
       "      <td>1</td>\n",
       "      <td>2014-04-14</td>\n",
       "      <td>987</td>\n",
       "      <td>True</td>\n",
       "      <td>False</td>\n",
       "      <td>False</td>\n",
       "      <td>12307</td>\n",
       "      <td>4</td>\n",
       "      <td>16</td>\n",
       "      <td>False</td>\n",
       "      <td>False</td>\n",
       "      <td>False</td>\n",
       "      <td>9.418005</td>\n",
       "      <td>6.895683</td>\n",
       "    </tr>\n",
       "    <tr>\n",
       "      <th>532014</th>\n",
       "      <td>987</td>\n",
       "      <td>1</td>\n",
       "      <td>2014-07-07</td>\n",
       "      <td>925</td>\n",
       "      <td>False</td>\n",
       "      <td>False</td>\n",
       "      <td>False</td>\n",
       "      <td>6800</td>\n",
       "      <td>7</td>\n",
       "      <td>28</td>\n",
       "      <td>False</td>\n",
       "      <td>False</td>\n",
       "      <td>False</td>\n",
       "      <td>8.824825</td>\n",
       "      <td>6.830874</td>\n",
       "    </tr>\n",
       "    <tr>\n",
       "      <th>532015</th>\n",
       "      <td>1084</td>\n",
       "      <td>4</td>\n",
       "      <td>2014-06-12</td>\n",
       "      <td>725</td>\n",
       "      <td>False</td>\n",
       "      <td>False</td>\n",
       "      <td>False</td>\n",
       "      <td>5344</td>\n",
       "      <td>6</td>\n",
       "      <td>24</td>\n",
       "      <td>False</td>\n",
       "      <td>False</td>\n",
       "      <td>False</td>\n",
       "      <td>8.583917</td>\n",
       "      <td>6.587550</td>\n",
       "    </tr>\n",
       "  </tbody>\n",
       "</table>\n",
       "<p>532016 rows × 15 columns</p>\n",
       "</div>"
      ],
      "text/plain": [
       "        store_ID  day_of_week       date  nb_customers_on_day  promotion  \\\n",
       "0            366            4 2013-04-18                  517      False   \n",
       "1            394            6 2015-04-11                  694      False   \n",
       "2            807            4 2013-08-29                  970       True   \n",
       "3            802            2 2013-05-28                  473       True   \n",
       "4            726            4 2013-10-10                 1068       True   \n",
       "...          ...          ...        ...                  ...        ...   \n",
       "532011        77            6 2015-01-17                  701      False   \n",
       "532012       409            6 2013-10-26                  483      False   \n",
       "532013        97            1 2014-04-14                  987       True   \n",
       "532014       987            1 2014-07-07                  925      False   \n",
       "532015      1084            4 2014-06-12                  725      False   \n",
       "\n",
       "        state_holiday  school_holiday  sales  month  week_of_year  \\\n",
       "0               False           False   4422      4            16   \n",
       "1               False           False   8297      4            15   \n",
       "2               False           False   9729      8            35   \n",
       "3               False           False   6513      5            22   \n",
       "4               False           False  10882     10            41   \n",
       "...               ...             ...    ...    ...           ...   \n",
       "532011          False           False   8219      1             3   \n",
       "532012          False           False   4553     10            43   \n",
       "532013          False           False  12307      4            16   \n",
       "532014          False           False   6800      7            28   \n",
       "532015          False           False   5344      6            24   \n",
       "\n",
       "        is_december  high_sales_week  heavy_customer_store  log_sales  \\\n",
       "0             False            False                 False   8.394573   \n",
       "1             False            False                 False   9.023770   \n",
       "2             False            False                  True   9.182969   \n",
       "3             False            False                 False   8.781709   \n",
       "4             False            False                  True   9.294957   \n",
       "...             ...              ...                   ...        ...   \n",
       "532011        False            False                 False   9.014325   \n",
       "532012        False            False                 False   8.423761   \n",
       "532013        False            False                 False   9.418005   \n",
       "532014        False            False                 False   8.824825   \n",
       "532015        False            False                 False   8.583917   \n",
       "\n",
       "        log_nb_customers_on_day  \n",
       "0                      6.249975  \n",
       "1                      6.543912  \n",
       "2                      6.878326  \n",
       "3                      6.161207  \n",
       "4                      6.974479  \n",
       "...                         ...  \n",
       "532011                 6.553933  \n",
       "532012                 6.182085  \n",
       "532013                 6.895683  \n",
       "532014                 6.830874  \n",
       "532015                 6.587550  \n",
       "\n",
       "[532016 rows x 15 columns]"
      ]
     },
     "execution_count": 170,
     "metadata": {},
     "output_type": "execute_result"
    }
   ],
   "source": [
    "df_o"
   ]
  },
  {
   "cell_type": "markdown",
   "id": "159d9cac",
   "metadata": {},
   "source": [
    "## 3. Data Preprocessing and Feature Engineering\n",
    "#columns to target\n",
    "sales\n",
    "# columns to use a features\n",
    "\n",
    "\n",
    "day_of_week\n",
    "\n",
    "high_sales_week\n",
    "\n",
    "is_december\n",
    "\n",
    "log_nb_customers_on_day\n",
    "\n",
    "promotion\n",
    "\n",
    "state_holiday\n",
    "\n",
    "school_holiday\n",
    "\n",
    "heavy_customer_store\n",
    "\n",
    "\n",
    "\n",
    "\n"
   ]
  },
  {
   "cell_type": "code",
   "execution_count": 171,
   "id": "78db03f7",
   "metadata": {},
   "outputs": [],
   "source": [
    "target = df_o['sales'].copy()\n",
    "feature = df_o[['day_of_week', 'high_sales_week', 'heavy_customer_store', 'is_december', 'log_nb_customers_on_day', 'promotion', 'state_holiday', 'school_holiday', ]].copy()\n"
   ]
  },
  {
   "cell_type": "markdown",
   "id": "d828957b",
   "metadata": {},
   "source": [
    "## 3. Model Preparation and Training"
   ]
  },
  {
   "cell_type": "code",
   "execution_count": 128,
   "id": "da895f79",
   "metadata": {},
   "outputs": [
    {
     "name": "stdout",
     "output_type": "stream",
     "text": [
      "X_train shape: (425612, 8), y_train shape: (425612,)\n",
      "X_test shape: (106404, 8), y_test shape: (106404,)\n"
     ]
    }
   ],
   "source": [
    "# splint the data into train and test\n",
    "from sklearn.model_selection import train_test_split\n",
    "\n",
    "X_train, X_test, y_train, y_test = train_test_split(feature, target, test_size=0.2, random_state=42)\n",
    "print(f\"X_train shape: {X_train.shape}, y_train shape: {y_train.shape}\")\n",
    "print(f\"X_test shape: {X_test.shape}, y_test shape: {y_test.shape}\")"
   ]
  },
  {
   "cell_type": "code",
   "execution_count": 129,
   "id": "2704ab6f",
   "metadata": {},
   "outputs": [],
   "source": [
    "# Import machine learning libraries\n",
    "from sklearn.model_selection import train_test_split, cross_val_score, GridSearchCV\n",
    "from sklearn.preprocessing import StandardScaler, LabelEncoder\n",
    "from sklearn.ensemble import RandomForestRegressor, GradientBoostingRegressor\n",
    "from sklearn.linear_model import LinearRegression, Ridge, Lasso\n",
    "from sklearn.metrics import mean_squared_error, mean_absolute_error, r2_score\n",
    "from xgboost import XGBRegressor\n",
    "\n"
   ]
  },
  {
   "cell_type": "code",
   "execution_count": null,
   "id": "0e207908",
   "metadata": {},
   "outputs": [
    {
     "name": "stdout",
     "output_type": "stream",
     "text": [
      "Fitting 3 folds for each of 3 candidates, totalling 9 fits\n",
      "[CV] END learning_rate=0.01, max_depth=7, min_child_weight=2, n_estimators=600; total time=   4.3s\n",
      "[CV] END learning_rate=0.01, max_depth=7, min_child_weight=2, n_estimators=600; total time=   3.9s\n",
      "[CV] END learning_rate=0.01, max_depth=7, min_child_weight=2, n_estimators=600; total time=   4.5s\n",
      "[CV] END learning_rate=0.01, max_depth=7, min_child_weight=3, n_estimators=600; total time=   4.7s\n",
      "[CV] END learning_rate=0.01, max_depth=7, min_child_weight=3, n_estimators=600; total time=   3.0s\n",
      "[CV] END learning_rate=0.01, max_depth=7, min_child_weight=3, n_estimators=600; total time=   4.4s\n",
      "[CV] END learning_rate=0.01, max_depth=7, min_child_weight=4, n_estimators=600; total time=   3.8s\n",
      "[CV] END learning_rate=0.01, max_depth=7, min_child_weight=4, n_estimators=600; total time=   2.6s\n",
      "[CV] END learning_rate=0.01, max_depth=7, min_child_weight=4, n_estimators=600; total time=   2.5s\n",
      "Best parameters found:  {'learning_rate': 0.01, 'max_depth': 7, 'min_child_weight': 3, 'n_estimators': 600}\n",
      "Best cross-validated R2 score:  0.7818647424379984\n"
     ]
    }
   ],
   "source": [
    "model = XGBRegressor(objective='reg:squarederror', random_state=42)\n",
    "#from sklearn.ensemble import RandomForestRegressor\n",
    "param_grid = {\n",
    "    # versiom1 \n",
    "    #'n_estimators': [100, 200, 300],\n",
    "    #'learning_rate': [0.01, 0.1, 0.2],\n",
    "    #'max_depth': [3, 5, 7]\n",
    "    \n",
    "    # winner 300, 0.1, 7\n",
    "    'n_estimators': [600],\n",
    "    'learning_rate': [0.01],\n",
    "    'max_depth': [7],\n",
    "    'min_child_weight': [3]\n",
    "    #'gamma': [0],\n",
    "    #'subsample': [0.8],\n",
    "    #'colsample_bytree': [0.69],\n",
    "    #'reg_alpha': [1.0],\n",
    "    #'reg_lambda': [1],\n",
    "}\n",
    "grid_search = GridSearchCV(model, param_grid, scoring='r2', cv=3, verbose=2)\n",
    "grid_search.fit(X_train, y_train)\n",
    "print(\"Best parameters found: \", grid_search.best_params_)\n",
    "print(\"Best cross-validated R2 score: \", grid_search.best_score_)"
   ]
  },
  {
   "cell_type": "code",
   "execution_count": 177,
   "id": "269222e4",
   "metadata": {},
   "outputs": [
    {
     "name": "stdout",
     "output_type": "stream",
     "text": [
      "Test Set - R2 Score: 0.7839301824569702 on the test set\n"
     ]
    }
   ],
   "source": [
    "from sklearn import metrics\n",
    "y_test_pred = grid_search.predict(X_test)\n",
    "r2_test = metrics.r2_score(y_test, y_test_pred)\n",
    "print(f\"Test Set - R2 Score: {r2_test} on the test set\")\n"
   ]
  },
  {
   "cell_type": "code",
   "execution_count": 178,
   "id": "f616a57e",
   "metadata": {},
   "outputs": [],
   "source": [
    "best_model = grid_search.best_estimator_\n",
    "importances = best_model.feature_importances_\n",
    "feature_names = feature.columns"
   ]
  },
  {
   "cell_type": "code",
   "execution_count": 179,
   "id": "5d23d955",
   "metadata": {},
   "outputs": [
    {
     "data": {
      "text/plain": [
       "([<matplotlib.axis.XTick at 0x169baeb90>,\n",
       "  <matplotlib.axis.XTick at 0x177d606d0>,\n",
       "  <matplotlib.axis.XTick at 0x1695ff150>,\n",
       "  <matplotlib.axis.XTick at 0x1695e5650>,\n",
       "  <matplotlib.axis.XTick at 0x1695e7b10>,\n",
       "  <matplotlib.axis.XTick at 0x1695e1f10>,\n",
       "  <matplotlib.axis.XTick at 0x169bb59d0>,\n",
       "  <matplotlib.axis.XTick at 0x1695dec50>],\n",
       " [Text(0, 0, 'log_nb_customers_on_day'),\n",
       "  Text(1, 0, 'promotion'),\n",
       "  Text(2, 0, 'heavy_customer_store'),\n",
       "  Text(3, 0, 'day_of_week'),\n",
       "  Text(4, 0, 'is_december'),\n",
       "  Text(5, 0, 'high_sales_week'),\n",
       "  Text(6, 0, 'state_holiday'),\n",
       "  Text(7, 0, 'school_holiday')])"
      ]
     },
     "execution_count": 179,
     "metadata": {},
     "output_type": "execute_result"
    },
    {
     "data": {
      "image/png": "[encoded data removed]",
      "text/plain": [
       "<Figure size 1200x800 with 1 Axes>"
      ]
     },
     "metadata": {},
     "output_type": "display_data"
    }
   ],
   "source": [
    "# plot the importances\n",
    "plt.figure(figsize=(12,8))\n",
    "indices = np.argsort(importances)[::-1]\n",
    "plt.bar(range(feature.shape[1]), importances[indices], align='center')\n",
    "plt.xticks(range(feature.shape[1]), feature_names[indices], rotation=90)"
   ]
  },
  {
   "cell_type": "code",
   "execution_count": 180,
   "id": "8a3a4e42",
   "metadata": {},
   "outputs": [
    {
     "name": "stdout",
     "output_type": "stream",
     "text": [
      "<class 'pandas.core.frame.DataFrame'>\n",
      "Index: 640840 entries, 425390 to 305711\n",
      "Data columns (total 9 columns):\n",
      " #   Column               Non-Null Count   Dtype         \n",
      "---  ------               --------------   -----         \n",
      " 0   store_ID             640840 non-null  int64         \n",
      " 1   day_of_week          640840 non-null  int64         \n",
      " 2   date                 640840 non-null  datetime64[ns]\n",
      " 3   nb_customers_on_day  640840 non-null  int64         \n",
      " 4   open                 640840 non-null  bool          \n",
      " 5   promotion            640840 non-null  bool          \n",
      " 6   state_holiday        640840 non-null  bool          \n",
      " 7   school_holiday       640840 non-null  bool          \n",
      " 8   sales                640840 non-null  int64         \n",
      "dtypes: bool(4), datetime64[ns](1), int64(4)\n",
      "memory usage: 31.8 MB\n"
     ]
    }
   ],
   "source": [
    "df.info()"
   ]
  },
  {
   "cell_type": "code",
   "execution_count": null,
   "id": "5e4c34f3",
   "metadata": {},
   "outputs": [],
   "source": []
  },
  {
   "cell_type": "code",
   "execution_count": 181,
   "id": "5a9d914c",
   "metadata": {},
   "outputs": [],
   "source": [
    "# now predict on the whole dataset\n",
    "y_pred = grid_search.predict(feature)\n",
    "df_o['predicted_sales'] = y_pred\n",
    "# now left join on original df on store_ID and date\n",
    "df_final = df.merge(df_o[['store_ID', 'date', 'predicted_sales']], on=['store_ID', 'date'], how='left')\n"
   ]
  },
  {
   "cell_type": "code",
   "execution_count": 182,
   "id": "87f47349",
   "metadata": {},
   "outputs": [
    {
     "name": "stdout",
     "output_type": "stream",
     "text": [
      "<class 'pandas.core.frame.DataFrame'>\n",
      "RangeIndex: 640840 entries, 0 to 640839\n",
      "Data columns (total 10 columns):\n",
      " #   Column               Non-Null Count   Dtype         \n",
      "---  ------               --------------   -----         \n",
      " 0   store_ID             640840 non-null  int64         \n",
      " 1   day_of_week          640840 non-null  int64         \n",
      " 2   date                 640840 non-null  datetime64[ns]\n",
      " 3   nb_customers_on_day  640840 non-null  int64         \n",
      " 4   open                 640840 non-null  bool          \n",
      " 5   promotion            640840 non-null  bool          \n",
      " 6   state_holiday        640840 non-null  bool          \n",
      " 7   school_holiday       640840 non-null  bool          \n",
      " 8   sales                640840 non-null  int64         \n",
      " 9   predicted_sales      640840 non-null  float32       \n",
      "dtypes: bool(4), datetime64[ns](1), float32(1), int64(4)\n",
      "memory usage: 29.3 MB\n"
     ]
    }
   ],
   "source": [
    "# if preedicted sales is nan then set it to 0\n",
    "df_final['predicted_sales'] = df_final['predicted_sales'].fillna(0)\n",
    "df_final.info()"
   ]
  },
  {
   "cell_type": "code",
   "execution_count": 183,
   "id": "0e29f67b",
   "metadata": {},
   "outputs": [
    {
     "name": "stdout",
     "output_type": "stream",
     "text": [
      "Final R2 Score on the whole dataset: 0.8838716149330139\n"
     ]
    }
   ],
   "source": [
    "# now recalculate the r2 on the whole dataset\n",
    "from sklearn import metrics\n",
    "y_final = df_final['sales']\n",
    "y_final_pred = df_final['predicted_sales']\n",
    "r2_final = metrics.r2_score(y_final, y_final_pred)\n",
    "print(f\"Final R2 Score on the whole dataset: {r2_final}\")"
   ]
  },
  {
   "cell_type": "markdown",
   "id": "8377137d",
   "metadata": {},
   "source": [
    "## 6. Model Optimization and Hyperparameter Tuning"
   ]
  },
  {
   "cell_type": "code",
   "execution_count": null,
   "id": "22a11b6f",
   "metadata": {},
   "outputs": [],
   "source": []
  },
  {
   "cell_type": "code",
   "execution_count": null,
   "id": "c26860b4",
   "metadata": {},
   "outputs": [],
   "source": [
    "# Hyperparameter tuning for best performing model\n",
    "print(\"=== HYPERPARAMETER TUNING ===\")\n",
    "\n",
    "# Choose best model based on R² score\n",
    "best_model_name = results_df['R²'].idxmax()\n",
    "print(f\"Best performing baseline model: {best_model_name}\")\n",
    "\n",
    "# Example: Hyperparameter tuning for Random Forest\n",
    "if best_model_name == 'Random Forest':\n",
    "    print(\"Tuning Random Forest hyperparameters...\")\n",
    "    \n",
    "    param_grid = {\n",
    "        'n_estimators': [100, 200, 300],\n",
    "        'max_depth': [10, 20, None],\n",
    "        'min_samples_split': [2, 5, 10],\n",
    "        'min_samples_leaf': [1, 2, 4]\n",
    "    }\n",
    "    \n",
    "    # Note: Use a smaller subset for faster tuning in practice\n",
    "    rf_grid = GridSearchCV(\n",
    "        RandomForestRegressor(random_state=42),\n",
    "        param_grid,\n",
    "        cv=3,  # 3-fold CV for faster execution\n",
    "        scoring='neg_mean_squared_error',\n",
    "        n_jobs=-1,\n",
    "        verbose=1\n",
    "    )\n",
    "    \n",
    "    # Uncomment to run grid search (may take time)\n",
    "    # rf_grid.fit(X_train, y_train)\n",
    "    # print(f\"Best parameters: {rf_grid.best_params_}\")\n",
    "    # print(f\"Best CV score: {-rf_grid.best_score_:.2f}\")\n",
    "    \n",
    "print(\"Hyperparameter tuning setup complete!\")"
   ]
  },
  {
   "cell_type": "markdown",
   "id": "5d8e865d",
   "metadata": {},
   "source": [
    "## 7. Model Evaluation and Validation"
   ]
  },
  {
   "cell_type": "code",
   "execution_count": null,
   "id": "d5055f9e",
   "metadata": {},
   "outputs": [],
   "source": [
    "# Final model evaluation\n",
    "print(\"=== FINAL MODEL EVALUATION ===\")\n",
    "\n",
    "# Train final model (use best model from comparison)\n",
    "final_model = models[best_model_name]\n",
    "final_model.fit(X_train, y_train)\n",
    "\n",
    "# Predictions\n",
    "y_pred_train = final_model.predict(X_train)\n",
    "y_pred_test = final_model.predict(X_test)\n",
    "\n",
    "# Comprehensive evaluation\n",
    "print(f\"Final Model: {best_model_name}\")\n",
    "print(\"\\nTraining Set Performance:\")\n",
    "print(f\"RMSE: {np.sqrt(mean_squared_error(y_train, y_pred_train)):.2f}\")\n",
    "print(f\"MAE: {mean_absolute_error(y_train, y_pred_train):.2f}\")\n",
    "print(f\"R²: {r2_score(y_train, y_pred_train):.4f}\")\n",
    "\n",
    "print(\"\\nTest Set Performance:\")\n",
    "test_rmse = np.sqrt(mean_squared_error(y_test, y_pred_test))\n",
    "test_mae = mean_absolute_error(y_test, y_pred_test)\n",
    "test_r2 = r2_score(y_test, y_pred_test)\n",
    "print(f\"RMSE: {test_rmse:.2f}\")\n",
    "print(f\"MAE: {test_mae:.2f}\")\n",
    "print(f\"R²: {test_r2:.4f}\")\n",
    "\n",
    "# Residual analysis\n",
    "residuals = y_test - y_pred_test\n",
    "\n",
    "plt.figure(figsize=(15, 5))\n",
    "\n",
    "# Residuals vs Predictions\n",
    "plt.subplot(1, 3, 1)\n",
    "plt.scatter(y_pred_test, residuals, alpha=0.5)\n",
    "plt.axhline(y=0, color='r', linestyle='--')\n",
    "plt.xlabel('Predicted Sales')\n",
    "plt.ylabel('Residuals')\n",
    "plt.title('Residuals vs Predicted')\n",
    "\n",
    "# QQ plot of residuals\n",
    "from scipy import stats\n",
    "plt.subplot(1, 3, 2)\n",
    "stats.probplot(residuals, dist=\"norm\", plot=plt)\n",
    "plt.title('Q-Q Plot of Residuals')\n",
    "\n",
    "# Actual vs Predicted\n",
    "plt.subplot(1, 3, 3)\n",
    "plt.scatter(y_test, y_pred_test, alpha=0.5)\n",
    "plt.plot([y_test.min(), y_test.max()], [y_test.min(), y_test.max()], 'r--', lw=2)\n",
    "plt.xlabel('Actual Sales')\n",
    "plt.ylabel('Predicted Sales')\n",
    "plt.title('Actual vs Predicted Sales')\n",
    "\n",
    "plt.tight_layout()\n",
    "plt.show()"
   ]
  },
  {
   "cell_type": "code",
   "execution_count": null,
   "id": "986bd0c7",
   "metadata": {},
   "outputs": [],
   "source": [
    "# Feature importance analysis\n",
    "print(\"=== FEATURE IMPORTANCE ===\")\n",
    "\n",
    "if hasattr(final_model, 'feature_importances_'):\n",
    "    # Get feature importances\n",
    "    feature_importance = pd.DataFrame({\n",
    "        'feature': feature_cols,\n",
    "        'importance': final_model.feature_importances_\n",
    "    }).sort_values('importance', ascending=False)\n",
    "    \n",
    "    print(\"Top 10 Most Important Features:\")\n",
    "    print(feature_importance.head(10))\n",
    "    \n",
    "    # Plot feature importance\n",
    "    plt.figure(figsize=(10, 8))\n",
    "    top_features = feature_importance.head(10)\n",
    "    plt.barh(range(len(top_features)), top_features['importance'])\n",
    "    plt.yticks(range(len(top_features)), top_features['feature'])\n",
    "    plt.xlabel('Feature Importance')\n",
    "    plt.title('Top 10 Feature Importances')\n",
    "    plt.gca().invert_yaxis()\n",
    "    plt.tight_layout()\n",
    "    plt.show()\n",
    "    \n",
    "else:\n",
    "    print(\"Feature importance not available for this model type\")"
   ]
  }
 ],
 "metadata": {
  "kernelspec": {
   "display_name": ".venv",
   "language": "python",
   "name": "python3"
  },
  "language_info": {
   "codemirror_mode": {
    "name": "ipython",
    "version": 3
   },
   "file_extension": ".py",
   "mimetype": "text/x-python",
   "name": "python",
   "nbconvert_exporter": "python",
   "pygments_lexer": "ipython3",
   "version": "3.11.8"
  }
 },
 "nbformat": 4,
 "nbformat_minor": 5
}
